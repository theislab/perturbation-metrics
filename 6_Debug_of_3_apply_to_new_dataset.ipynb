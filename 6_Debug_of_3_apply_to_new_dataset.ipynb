{
  "cells": [
    {
      "cell_type": "code",
      "source": [
        "from google.colab import drive\n",
        "drive.mount('/content/drive')\n",
        "%cd drive/MyDrive/Colab_Notebooks/perturbation_metric_test\n",
        "!pip install anndata \n",
        "!pip install git+https://github.com/theislab/scgen.git\n",
        "!pip install matplotlib\n",
        "!pip install scanpy"
      ],
      "metadata": {
        "colab": {
          "base_uri": "https://localhost:8080/"
        },
        "id": "2ZqHUFxxmiIi",
        "outputId": "4267ee75-ff75-415d-e100-d1e1431ad977"
      },
      "execution_count": null,
      "outputs": [
        {
          "output_type": "stream",
          "name": "stdout",
          "text": [
            "Mounted at /content/drive\n",
            "/content/drive/MyDrive/Colab_Notebooks/perturbation_metric_test\n",
            "Looking in indexes: https://pypi.org/simple, https://us-python.pkg.dev/colab-wheels/public/simple/\n",
            "Collecting anndata\n",
            "  Downloading anndata-0.9.1-py3-none-any.whl (102 kB)\n",
            "\u001b[2K     \u001b[90m━━━━━━━━━━━━━━━━━━━━━━━━━━━━━━━━━━━━━━━\u001b[0m \u001b[32m103.0/103.0 kB\u001b[0m \u001b[31m6.4 MB/s\u001b[0m eta \u001b[36m0:00:00\u001b[0m\n",
            "\u001b[?25hRequirement already satisfied: pandas>=1.1.1 in /usr/local/lib/python3.10/dist-packages (from anndata) (1.5.3)\n",
            "Requirement already satisfied: numpy>=1.16.5 in /usr/local/lib/python3.10/dist-packages (from anndata) (1.22.4)\n",
            "Requirement already satisfied: scipy>1.4 in /usr/local/lib/python3.10/dist-packages (from anndata) (1.10.1)\n",
            "Requirement already satisfied: h5py>=3 in /usr/local/lib/python3.10/dist-packages (from anndata) (3.8.0)\n",
            "Requirement already satisfied: natsort in /usr/local/lib/python3.10/dist-packages (from anndata) (8.3.1)\n",
            "Requirement already satisfied: packaging>=20 in /usr/local/lib/python3.10/dist-packages (from anndata) (23.1)\n",
            "Requirement already satisfied: python-dateutil>=2.8.1 in /usr/local/lib/python3.10/dist-packages (from pandas>=1.1.1->anndata) (2.8.2)\n",
            "Requirement already satisfied: pytz>=2020.1 in /usr/local/lib/python3.10/dist-packages (from pandas>=1.1.1->anndata) (2022.7.1)\n",
            "Requirement already satisfied: six>=1.5 in /usr/local/lib/python3.10/dist-packages (from python-dateutil>=2.8.1->pandas>=1.1.1->anndata) (1.16.0)\n",
            "Installing collected packages: anndata\n",
            "Successfully installed anndata-0.9.1\n",
            "Looking in indexes: https://pypi.org/simple, https://us-python.pkg.dev/colab-wheels/public/simple/\n",
            "Collecting git+https://github.com/theislab/scgen.git\n",
            "  Cloning https://github.com/theislab/scgen.git to /tmp/pip-req-build-tpzj58m0\n",
            "  Running command git clone --filter=blob:none --quiet https://github.com/theislab/scgen.git /tmp/pip-req-build-tpzj58m0\n",
            "  Resolved https://github.com/theislab/scgen.git to commit 06084773e56cad0dec340138441dee47a39af752\n",
            "  Installing build dependencies ... \u001b[?25l\u001b[?25hdone\n",
            "  Getting requirements to build wheel ... \u001b[?25l\u001b[?25hdone\n",
            "  Preparing metadata (pyproject.toml) ... \u001b[?25l\u001b[?25hdone\n",
            "Collecting adjustText (from scgen==2.1.1)\n",
            "  Downloading adjustText-0.8-py3-none-any.whl (9.1 kB)\n",
            "Requirement already satisfied: anndata>=0.7.5 in /usr/local/lib/python3.10/dist-packages (from scgen==2.1.1) (0.9.1)\n",
            "Requirement already satisfied: matplotlib!=3.7.0 in /usr/local/lib/python3.10/dist-packages (from scgen==2.1.1) (3.7.1)\n",
            "Collecting scanpy>=1.6 (from scgen==2.1.1)\n",
            "  Downloading scanpy-1.9.3-py3-none-any.whl (2.0 MB)\n",
            "\u001b[2K     \u001b[90m━━━━━━━━━━━━━━━━━━━━━━━━━━━━━━━━━━━━━━━━\u001b[0m \u001b[32m2.0/2.0 MB\u001b[0m \u001b[31m40.1 MB/s\u001b[0m eta \u001b[36m0:00:00\u001b[0m\n",
            "\u001b[?25hCollecting scvi-tools>=0.20.0 (from scgen==2.1.1)\n",
            "  Downloading scvi_tools-0.20.3-py3-none-any.whl (330 kB)\n",
            "\u001b[2K     \u001b[90m━━━━━━━━━━━━━━━━━━━━━━━━━━━━━━━━━━━━━━\u001b[0m \u001b[32m330.3/330.3 kB\u001b[0m \u001b[31m36.3 MB/s\u001b[0m eta \u001b[36m0:00:00\u001b[0m\n",
            "\u001b[?25hRequirement already satisfied: seaborn>=0.11 in /usr/local/lib/python3.10/dist-packages (from scgen==2.1.1) (0.12.2)\n",
            "Requirement already satisfied: pandas>=1.1.1 in /usr/local/lib/python3.10/dist-packages (from anndata>=0.7.5->scgen==2.1.1) (1.5.3)\n",
            "Requirement already satisfied: numpy>=1.16.5 in /usr/local/lib/python3.10/dist-packages (from anndata>=0.7.5->scgen==2.1.1) (1.22.4)\n",
            "Requirement already satisfied: scipy>1.4 in /usr/local/lib/python3.10/dist-packages (from anndata>=0.7.5->scgen==2.1.1) (1.10.1)\n",
            "Requirement already satisfied: h5py>=3 in /usr/local/lib/python3.10/dist-packages (from anndata>=0.7.5->scgen==2.1.1) (3.8.0)\n",
            "Requirement already satisfied: natsort in /usr/local/lib/python3.10/dist-packages (from anndata>=0.7.5->scgen==2.1.1) (8.3.1)\n",
            "Requirement already satisfied: packaging>=20 in /usr/local/lib/python3.10/dist-packages (from anndata>=0.7.5->scgen==2.1.1) (23.1)\n",
            "Requirement already satisfied: contourpy>=1.0.1 in /usr/local/lib/python3.10/dist-packages (from matplotlib!=3.7.0->scgen==2.1.1) (1.0.7)\n",
            "Requirement already satisfied: cycler>=0.10 in /usr/local/lib/python3.10/dist-packages (from matplotlib!=3.7.0->scgen==2.1.1) (0.11.0)\n",
            "Requirement already satisfied: fonttools>=4.22.0 in /usr/local/lib/python3.10/dist-packages (from matplotlib!=3.7.0->scgen==2.1.1) (4.39.3)\n",
            "Requirement already satisfied: kiwisolver>=1.0.1 in /usr/local/lib/python3.10/dist-packages (from matplotlib!=3.7.0->scgen==2.1.1) (1.4.4)\n",
            "Requirement already satisfied: pillow>=6.2.0 in /usr/local/lib/python3.10/dist-packages (from matplotlib!=3.7.0->scgen==2.1.1) (8.4.0)\n",
            "Requirement already satisfied: pyparsing>=2.3.1 in /usr/local/lib/python3.10/dist-packages (from matplotlib!=3.7.0->scgen==2.1.1) (3.0.9)\n",
            "Requirement already satisfied: python-dateutil>=2.7 in /usr/local/lib/python3.10/dist-packages (from matplotlib!=3.7.0->scgen==2.1.1) (2.8.2)\n",
            "Requirement already satisfied: tqdm in /usr/local/lib/python3.10/dist-packages (from scanpy>=1.6->scgen==2.1.1) (4.65.0)\n",
            "Requirement already satisfied: scikit-learn>=0.22 in /usr/local/lib/python3.10/dist-packages (from scanpy>=1.6->scgen==2.1.1) (1.2.2)\n",
            "Requirement already satisfied: statsmodels>=0.10.0rc2 in /usr/local/lib/python3.10/dist-packages (from scanpy>=1.6->scgen==2.1.1) (0.13.5)\n",
            "Requirement already satisfied: patsy in /usr/local/lib/python3.10/dist-packages (from scanpy>=1.6->scgen==2.1.1) (0.5.3)\n",
            "Requirement already satisfied: networkx>=2.3 in /usr/local/lib/python3.10/dist-packages (from scanpy>=1.6->scgen==2.1.1) (3.1)\n",
            "Requirement already satisfied: joblib in /usr/local/lib/python3.10/dist-packages (from scanpy>=1.6->scgen==2.1.1) (1.2.0)\n",
            "Requirement already satisfied: numba>=0.41.0 in /usr/local/lib/python3.10/dist-packages (from scanpy>=1.6->scgen==2.1.1) (0.56.4)\n",
            "Collecting umap-learn>=0.3.10 (from scanpy>=1.6->scgen==2.1.1)\n",
            "  Downloading umap-learn-0.5.3.tar.gz (88 kB)\n",
            "\u001b[2K     \u001b[90m━━━━━━━━━━━━━━━━━━━━━━━━━━━━━━━━━━━━━━━━\u001b[0m \u001b[32m88.2/88.2 kB\u001b[0m \u001b[31m12.4 MB/s\u001b[0m eta \u001b[36m0:00:00\u001b[0m\n",
            "\u001b[?25h  Preparing metadata (setup.py) ... \u001b[?25l\u001b[?25hdone\n",
            "Collecting session-info (from scanpy>=1.6->scgen==2.1.1)\n",
            "  Downloading session_info-1.0.0.tar.gz (24 kB)\n",
            "  Preparing metadata (setup.py) ... \u001b[?25l\u001b[?25hdone\n",
            "Requirement already satisfied: chex in /usr/local/lib/python3.10/dist-packages (from scvi-tools>=0.20.0->scgen==2.1.1) (0.1.7)\n",
            "Collecting docrep>=0.3.2 (from scvi-tools>=0.20.0->scgen==2.1.1)\n",
            "  Downloading docrep-0.3.2.tar.gz (33 kB)\n",
            "  Preparing metadata (setup.py) ... \u001b[?25l\u001b[?25hdone\n",
            "Requirement already satisfied: flax in /usr/local/lib/python3.10/dist-packages (from scvi-tools>=0.20.0->scgen==2.1.1) (0.6.9)\n",
            "Requirement already satisfied: jax>=0.4.4 in /usr/local/lib/python3.10/dist-packages (from scvi-tools>=0.20.0->scgen==2.1.1) (0.4.8)\n",
            "Requirement already satisfied: jaxlib>=0.4.3 in /usr/local/lib/python3.10/dist-packages (from scvi-tools>=0.20.0->scgen==2.1.1) (0.4.7+cuda11.cudnn86)\n",
            "Collecting ml-collections>=0.1.1 (from scvi-tools>=0.20.0->scgen==2.1.1)\n",
            "  Downloading ml_collections-0.1.1.tar.gz (77 kB)\n",
            "\u001b[2K     \u001b[90m━━━━━━━━━━━━━━━━━━━━━━━━━━━━━━━━━━━━━━━━\u001b[0m \u001b[32m77.9/77.9 kB\u001b[0m \u001b[31m6.4 MB/s\u001b[0m eta \u001b[36m0:00:00\u001b[0m\n",
            "\u001b[?25h  Preparing metadata (setup.py) ... \u001b[?25l\u001b[?25hdone\n",
            "Collecting mudata>=0.1.2 (from scvi-tools>=0.20.0->scgen==2.1.1)\n",
            "  Downloading mudata-0.2.2-py3-none-any.whl (23 kB)\n",
            "Collecting numpyro (from scvi-tools>=0.20.0->scgen==2.1.1)\n",
            "  Downloading numpyro-0.11.0-py3-none-any.whl (300 kB)\n",
            "\u001b[2K     \u001b[90m━━━━━━━━━━━━━━━━━━━━━━━━━━━━━━━━━━━━━━\u001b[0m \u001b[32m300.2/300.2 kB\u001b[0m \u001b[31m24.6 MB/s\u001b[0m eta \u001b[36m0:00:00\u001b[0m\n",
            "\u001b[?25hRequirement already satisfied: openpyxl>=3.0 in /usr/local/lib/python3.10/dist-packages (from scvi-tools>=0.20.0->scgen==2.1.1) (3.0.10)\n",
            "Requirement already satisfied: optax in /usr/local/lib/python3.10/dist-packages (from scvi-tools>=0.20.0->scgen==2.1.1) (0.1.5)\n",
            "Collecting pyro-ppl>=1.6.0 (from scvi-tools>=0.20.0->scgen==2.1.1)\n",
            "  Downloading pyro_ppl-1.8.4-py3-none-any.whl (730 kB)\n",
            "\u001b[2K     \u001b[90m━━━━━━━━━━━━━━━━━━━━━━━━━━━━━━━━━━━━━━\u001b[0m \u001b[32m730.7/730.7 kB\u001b[0m \u001b[31m52.3 MB/s\u001b[0m eta \u001b[36m0:00:00\u001b[0m\n",
            "\u001b[?25hCollecting pytorch-lightning<1.10.0,>=1.9.0 (from scvi-tools>=0.20.0->scgen==2.1.1)\n",
            "  Downloading pytorch_lightning-1.9.5-py3-none-any.whl (829 kB)\n",
            "\u001b[2K     \u001b[90m━━━━━━━━━━━━━━━━━━━━━━━━━━━━━━━━━━━━━━\u001b[0m \u001b[32m829.5/829.5 kB\u001b[0m \u001b[31m50.8 MB/s\u001b[0m eta \u001b[36m0:00:00\u001b[0m\n",
            "\u001b[?25hRequirement already satisfied: rich>=12.0.0 in /usr/local/lib/python3.10/dist-packages (from scvi-tools>=0.20.0->scgen==2.1.1) (13.3.4)\n",
            "Requirement already satisfied: torch>=1.8.0 in /usr/local/lib/python3.10/dist-packages (from scvi-tools>=0.20.0->scgen==2.1.1) (2.0.0+cu118)\n",
            "Collecting torchmetrics>=0.11.0 (from scvi-tools>=0.20.0->scgen==2.1.1)\n",
            "  Downloading torchmetrics-0.11.4-py3-none-any.whl (519 kB)\n",
            "\u001b[2K     \u001b[90m━━━━━━━━━━━━━━━━━━━━━━━━━━━━━━━━━━━━━━\u001b[0m \u001b[32m519.2/519.2 kB\u001b[0m \u001b[31m41.1 MB/s\u001b[0m eta \u001b[36m0:00:00\u001b[0m\n",
            "\u001b[?25hRequirement already satisfied: six in /usr/local/lib/python3.10/dist-packages (from docrep>=0.3.2->scvi-tools>=0.20.0->scgen==2.1.1) (1.16.0)\n",
            "Requirement already satisfied: ml-dtypes>=0.0.3 in /usr/local/lib/python3.10/dist-packages (from jax>=0.4.4->scvi-tools>=0.20.0->scgen==2.1.1) (0.1.0)\n",
            "Requirement already satisfied: opt-einsum in /usr/local/lib/python3.10/dist-packages (from jax>=0.4.4->scvi-tools>=0.20.0->scgen==2.1.1) (3.3.0)\n",
            "Requirement already satisfied: absl-py in /usr/local/lib/python3.10/dist-packages (from ml-collections>=0.1.1->scvi-tools>=0.20.0->scgen==2.1.1) (1.4.0)\n",
            "Requirement already satisfied: PyYAML in /usr/local/lib/python3.10/dist-packages (from ml-collections>=0.1.1->scvi-tools>=0.20.0->scgen==2.1.1) (6.0)\n",
            "Requirement already satisfied: contextlib2 in /usr/local/lib/python3.10/dist-packages (from ml-collections>=0.1.1->scvi-tools>=0.20.0->scgen==2.1.1) (0.6.0.post1)\n",
            "Requirement already satisfied: llvmlite<0.40,>=0.39.0dev0 in /usr/local/lib/python3.10/dist-packages (from numba>=0.41.0->scanpy>=1.6->scgen==2.1.1) (0.39.1)\n",
            "Requirement already satisfied: setuptools in /usr/local/lib/python3.10/dist-packages (from numba>=0.41.0->scanpy>=1.6->scgen==2.1.1) (67.7.2)\n",
            "Requirement already satisfied: et-xmlfile in /usr/local/lib/python3.10/dist-packages (from openpyxl>=3.0->scvi-tools>=0.20.0->scgen==2.1.1) (1.1.0)\n",
            "Requirement already satisfied: pytz>=2020.1 in /usr/local/lib/python3.10/dist-packages (from pandas>=1.1.1->anndata>=0.7.5->scgen==2.1.1) (2022.7.1)\n",
            "Collecting pyro-api>=0.1.1 (from pyro-ppl>=1.6.0->scvi-tools>=0.20.0->scgen==2.1.1)\n",
            "  Downloading pyro_api-0.1.2-py3-none-any.whl (11 kB)\n",
            "Requirement already satisfied: fsspec[http]>2021.06.0 in /usr/local/lib/python3.10/dist-packages (from pytorch-lightning<1.10.0,>=1.9.0->scvi-tools>=0.20.0->scgen==2.1.1) (2023.4.0)\n",
            "Requirement already satisfied: typing-extensions>=4.0.0 in /usr/local/lib/python3.10/dist-packages (from pytorch-lightning<1.10.0,>=1.9.0->scvi-tools>=0.20.0->scgen==2.1.1) (4.5.0)\n",
            "Collecting lightning-utilities>=0.6.0.post0 (from pytorch-lightning<1.10.0,>=1.9.0->scvi-tools>=0.20.0->scgen==2.1.1)\n",
            "  Downloading lightning_utilities-0.8.0-py3-none-any.whl (20 kB)\n",
            "Requirement already satisfied: markdown-it-py<3.0.0,>=2.2.0 in /usr/local/lib/python3.10/dist-packages (from rich>=12.0.0->scvi-tools>=0.20.0->scgen==2.1.1) (2.2.0)\n",
            "Requirement already satisfied: pygments<3.0.0,>=2.13.0 in /usr/local/lib/python3.10/dist-packages (from rich>=12.0.0->scvi-tools>=0.20.0->scgen==2.1.1) (2.14.0)\n",
            "Requirement already satisfied: threadpoolctl>=2.0.0 in /usr/local/lib/python3.10/dist-packages (from scikit-learn>=0.22->scanpy>=1.6->scgen==2.1.1) (3.1.0)\n",
            "Requirement already satisfied: filelock in /usr/local/lib/python3.10/dist-packages (from torch>=1.8.0->scvi-tools>=0.20.0->scgen==2.1.1) (3.12.0)\n",
            "Requirement already satisfied: sympy in /usr/local/lib/python3.10/dist-packages (from torch>=1.8.0->scvi-tools>=0.20.0->scgen==2.1.1) (1.11.1)\n",
            "Requirement already satisfied: jinja2 in /usr/local/lib/python3.10/dist-packages (from torch>=1.8.0->scvi-tools>=0.20.0->scgen==2.1.1) (3.1.2)\n",
            "Requirement already satisfied: triton==2.0.0 in /usr/local/lib/python3.10/dist-packages (from torch>=1.8.0->scvi-tools>=0.20.0->scgen==2.1.1) (2.0.0)\n",
            "Requirement already satisfied: cmake in /usr/local/lib/python3.10/dist-packages (from triton==2.0.0->torch>=1.8.0->scvi-tools>=0.20.0->scgen==2.1.1) (3.25.2)\n",
            "Requirement already satisfied: lit in /usr/local/lib/python3.10/dist-packages (from triton==2.0.0->torch>=1.8.0->scvi-tools>=0.20.0->scgen==2.1.1) (16.0.3)\n",
            "Collecting pynndescent>=0.5 (from umap-learn>=0.3.10->scanpy>=1.6->scgen==2.1.1)\n",
            "  Downloading pynndescent-0.5.10.tar.gz (1.1 MB)\n",
            "\u001b[2K     \u001b[90m━━━━━━━━━━━━━━━━━━━━━━━━━━━━━━━━━━━━━━━━\u001b[0m \u001b[32m1.1/1.1 MB\u001b[0m \u001b[31m70.3 MB/s\u001b[0m eta \u001b[36m0:00:00\u001b[0m\n",
            "\u001b[?25h  Preparing metadata (setup.py) ... \u001b[?25l\u001b[?25hdone\n",
            "Requirement already satisfied: dm-tree>=0.1.5 in /usr/local/lib/python3.10/dist-packages (from chex->scvi-tools>=0.20.0->scgen==2.1.1) (0.1.8)\n",
            "Requirement already satisfied: toolz>=0.9.0 in /usr/local/lib/python3.10/dist-packages (from chex->scvi-tools>=0.20.0->scgen==2.1.1) (0.12.0)\n",
            "Requirement already satisfied: msgpack in /usr/local/lib/python3.10/dist-packages (from flax->scvi-tools>=0.20.0->scgen==2.1.1) (1.0.5)\n",
            "Requirement already satisfied: orbax-checkpoint in /usr/local/lib/python3.10/dist-packages (from flax->scvi-tools>=0.20.0->scgen==2.1.1) (0.2.1)\n",
            "Requirement already satisfied: tensorstore in /usr/local/lib/python3.10/dist-packages (from flax->scvi-tools>=0.20.0->scgen==2.1.1) (0.1.36)\n",
            "Requirement already satisfied: multipledispatch in /usr/local/lib/python3.10/dist-packages (from numpyro->scvi-tools>=0.20.0->scgen==2.1.1) (0.6.0)\n",
            "Collecting stdlib_list (from session-info->scanpy>=1.6->scgen==2.1.1)\n",
            "  Downloading stdlib_list-0.8.0-py3-none-any.whl (63 kB)\n",
            "\u001b[2K     \u001b[90m━━━━━━━━━━━━━━━━━━━━━━━━━━━━━━━━━━━━━━━━\u001b[0m \u001b[32m63.5/63.5 kB\u001b[0m \u001b[31m8.2 MB/s\u001b[0m eta \u001b[36m0:00:00\u001b[0m\n",
            "\u001b[?25hRequirement already satisfied: requests in /usr/local/lib/python3.10/dist-packages (from fsspec[http]>2021.06.0->pytorch-lightning<1.10.0,>=1.9.0->scvi-tools>=0.20.0->scgen==2.1.1) (2.27.1)\n",
            "Collecting aiohttp!=4.0.0a0,!=4.0.0a1 (from fsspec[http]>2021.06.0->pytorch-lightning<1.10.0,>=1.9.0->scvi-tools>=0.20.0->scgen==2.1.1)\n",
            "  Downloading aiohttp-3.8.4-cp310-cp310-manylinux_2_17_x86_64.manylinux2014_x86_64.whl (1.0 MB)\n",
            "\u001b[2K     \u001b[90m━━━━━━━━━━━━━━━━━━━━━━━━━━━━━━━━━━━━━━━━\u001b[0m \u001b[32m1.0/1.0 MB\u001b[0m \u001b[31m72.8 MB/s\u001b[0m eta \u001b[36m0:00:00\u001b[0m\n",
            "\u001b[?25hRequirement already satisfied: mdurl~=0.1 in /usr/local/lib/python3.10/dist-packages (from markdown-it-py<3.0.0,>=2.2.0->rich>=12.0.0->scvi-tools>=0.20.0->scgen==2.1.1) (0.1.2)\n",
            "Requirement already satisfied: MarkupSafe>=2.0 in /usr/local/lib/python3.10/dist-packages (from jinja2->torch>=1.8.0->scvi-tools>=0.20.0->scgen==2.1.1) (2.1.2)\n",
            "Requirement already satisfied: cached_property in /usr/local/lib/python3.10/dist-packages (from orbax-checkpoint->flax->scvi-tools>=0.20.0->scgen==2.1.1) (1.5.2)\n",
            "Requirement already satisfied: importlib_resources in /usr/local/lib/python3.10/dist-packages (from orbax-checkpoint->flax->scvi-tools>=0.20.0->scgen==2.1.1) (5.12.0)\n",
            "Requirement already satisfied: etils in /usr/local/lib/python3.10/dist-packages (from orbax-checkpoint->flax->scvi-tools>=0.20.0->scgen==2.1.1) (1.2.0)\n",
            "Requirement already satisfied: nest_asyncio in /usr/local/lib/python3.10/dist-packages (from orbax-checkpoint->flax->scvi-tools>=0.20.0->scgen==2.1.1) (1.5.6)\n",
            "Requirement already satisfied: mpmath>=0.19 in /usr/local/lib/python3.10/dist-packages (from sympy->torch>=1.8.0->scvi-tools>=0.20.0->scgen==2.1.1) (1.3.0)\n",
            "Requirement already satisfied: attrs>=17.3.0 in /usr/local/lib/python3.10/dist-packages (from aiohttp!=4.0.0a0,!=4.0.0a1->fsspec[http]>2021.06.0->pytorch-lightning<1.10.0,>=1.9.0->scvi-tools>=0.20.0->scgen==2.1.1) (23.1.0)\n",
            "Requirement already satisfied: charset-normalizer<4.0,>=2.0 in /usr/local/lib/python3.10/dist-packages (from aiohttp!=4.0.0a0,!=4.0.0a1->fsspec[http]>2021.06.0->pytorch-lightning<1.10.0,>=1.9.0->scvi-tools>=0.20.0->scgen==2.1.1) (2.0.12)\n",
            "Collecting multidict<7.0,>=4.5 (from aiohttp!=4.0.0a0,!=4.0.0a1->fsspec[http]>2021.06.0->pytorch-lightning<1.10.0,>=1.9.0->scvi-tools>=0.20.0->scgen==2.1.1)\n",
            "  Downloading multidict-6.0.4-cp310-cp310-manylinux_2_17_x86_64.manylinux2014_x86_64.whl (114 kB)\n",
            "\u001b[2K     \u001b[90m━━━━━━━━━━━━━━━━━━━━━━━━━━━━━━━━━━━━━━\u001b[0m \u001b[32m114.5/114.5 kB\u001b[0m \u001b[31m15.2 MB/s\u001b[0m eta \u001b[36m0:00:00\u001b[0m\n",
            "\u001b[?25hCollecting async-timeout<5.0,>=4.0.0a3 (from aiohttp!=4.0.0a0,!=4.0.0a1->fsspec[http]>2021.06.0->pytorch-lightning<1.10.0,>=1.9.0->scvi-tools>=0.20.0->scgen==2.1.1)\n",
            "  Downloading async_timeout-4.0.2-py3-none-any.whl (5.8 kB)\n",
            "Collecting yarl<2.0,>=1.0 (from aiohttp!=4.0.0a0,!=4.0.0a1->fsspec[http]>2021.06.0->pytorch-lightning<1.10.0,>=1.9.0->scvi-tools>=0.20.0->scgen==2.1.1)\n",
            "  Downloading yarl-1.9.2-cp310-cp310-manylinux_2_17_x86_64.manylinux2014_x86_64.whl (268 kB)\n",
            "\u001b[2K     \u001b[90m━━━━━━━━━━━━━━━━━━━━━━━━━━━━━━━━━━━━━━\u001b[0m \u001b[32m268.8/268.8 kB\u001b[0m \u001b[31m28.9 MB/s\u001b[0m eta \u001b[36m0:00:00\u001b[0m\n",
            "\u001b[?25hCollecting frozenlist>=1.1.1 (from aiohttp!=4.0.0a0,!=4.0.0a1->fsspec[http]>2021.06.0->pytorch-lightning<1.10.0,>=1.9.0->scvi-tools>=0.20.0->scgen==2.1.1)\n",
            "  Downloading frozenlist-1.3.3-cp310-cp310-manylinux_2_5_x86_64.manylinux1_x86_64.manylinux_2_17_x86_64.manylinux2014_x86_64.whl (149 kB)\n",
            "\u001b[2K     \u001b[90m━━━━━━━━━━━━━━━━━━━━━━━━━━━━━━━━━━━━━━\u001b[0m \u001b[32m149.6/149.6 kB\u001b[0m \u001b[31m18.2 MB/s\u001b[0m eta \u001b[36m0:00:00\u001b[0m\n",
            "\u001b[?25hCollecting aiosignal>=1.1.2 (from aiohttp!=4.0.0a0,!=4.0.0a1->fsspec[http]>2021.06.0->pytorch-lightning<1.10.0,>=1.9.0->scvi-tools>=0.20.0->scgen==2.1.1)\n",
            "  Downloading aiosignal-1.3.1-py3-none-any.whl (7.6 kB)\n",
            "Requirement already satisfied: urllib3<1.27,>=1.21.1 in /usr/local/lib/python3.10/dist-packages (from requests->fsspec[http]>2021.06.0->pytorch-lightning<1.10.0,>=1.9.0->scvi-tools>=0.20.0->scgen==2.1.1) (1.26.15)\n",
            "Requirement already satisfied: certifi>=2017.4.17 in /usr/local/lib/python3.10/dist-packages (from requests->fsspec[http]>2021.06.0->pytorch-lightning<1.10.0,>=1.9.0->scvi-tools>=0.20.0->scgen==2.1.1) (2022.12.7)\n",
            "Requirement already satisfied: idna<4,>=2.5 in /usr/local/lib/python3.10/dist-packages (from requests->fsspec[http]>2021.06.0->pytorch-lightning<1.10.0,>=1.9.0->scvi-tools>=0.20.0->scgen==2.1.1) (3.4)\n",
            "Building wheels for collected packages: scgen, docrep, ml-collections, umap-learn, session-info, pynndescent\n",
            "  Building wheel for scgen (pyproject.toml) ... \u001b[?25l\u001b[?25hdone\n",
            "  Created wheel for scgen: filename=scgen-2.1.1-py3-none-any.whl size=24420 sha256=6aeaf5435ec805bb25f6605794324f075ca7688e0321731f55967fc4b668d073\n",
            "  Stored in directory: /tmp/pip-ephem-wheel-cache-yin1sted/wheels/5a/ff/00/a8893c5b5a0cc5da6d90f64aa8a944b610f9d0169667945e35\n",
            "  Building wheel for docrep (setup.py) ... \u001b[?25l\u001b[?25hdone\n",
            "  Created wheel for docrep: filename=docrep-0.3.2-py3-none-any.whl size=19877 sha256=dad51840447a50861fc52886c036096b41db43a28094ce28777f68cd0367edd0\n",
            "  Stored in directory: /root/.cache/pip/wheels/c3/64/48/03c38d8d906159eaa210b3c548fdb590eb3e2a4a5745ae2172\n",
            "  Building wheel for ml-collections (setup.py) ... \u001b[?25l\u001b[?25hdone\n",
            "  Created wheel for ml-collections: filename=ml_collections-0.1.1-py3-none-any.whl size=94506 sha256=7fdaaf43135116aab4688bd1c3dccdd0cabd425cdb66ded7a68f1ce8dda7ef7a\n",
            "  Stored in directory: /root/.cache/pip/wheels/7b/89/c9/a9b87790789e94aadcfc393c283e3ecd5ab916aed0a31be8fe\n",
            "  Building wheel for umap-learn (setup.py) ... \u001b[?25l\u001b[?25hdone\n",
            "  Created wheel for umap-learn: filename=umap_learn-0.5.3-py3-none-any.whl size=82816 sha256=3bb2bbeb79f3de9150288f9fbd728e9c371ea6f311324a920b8d4869e8adc688\n",
            "  Stored in directory: /root/.cache/pip/wheels/a0/e8/c6/a37ea663620bd5200ea1ba0907ab3c217042c1d035ef606acc\n",
            "  Building wheel for session-info (setup.py) ... \u001b[?25l\u001b[?25hdone\n",
            "  Created wheel for session-info: filename=session_info-1.0.0-py3-none-any.whl size=8026 sha256=ba3fe92099a8ad782f86c20344eb5e61c6a29958c7c3481e770fc382ec1a32fd\n",
            "  Stored in directory: /root/.cache/pip/wheels/6a/aa/b9/eb5d4031476ec10802795b97ccf937b9bd998d68a9b268765a\n",
            "  Building wheel for pynndescent (setup.py) ... \u001b[?25l\u001b[?25hdone\n",
            "  Created wheel for pynndescent: filename=pynndescent-0.5.10-py3-none-any.whl size=55622 sha256=7c8699c451763d14ce1827aa7fb6eae68da2ff9ff1979e0ed6d644f02279e245\n",
            "  Stored in directory: /root/.cache/pip/wheels/4a/38/5d/f60a40a66a9512b7e5e83517ebc2d1b42d857be97d135f1096\n",
            "Successfully built scgen docrep ml-collections umap-learn session-info pynndescent\n",
            "Installing collected packages: stdlib_list, pyro-api, session-info, multidict, ml-collections, lightning-utilities, frozenlist, docrep, async-timeout, yarl, aiosignal, pynndescent, numpyro, aiohttp, adjustText, umap-learn, mudata, scanpy, torchmetrics, pytorch-lightning, pyro-ppl, scvi-tools, scgen\n",
            "Successfully installed adjustText-0.8 aiohttp-3.8.4 aiosignal-1.3.1 async-timeout-4.0.2 docrep-0.3.2 frozenlist-1.3.3 lightning-utilities-0.8.0 ml-collections-0.1.1 mudata-0.2.2 multidict-6.0.4 numpyro-0.11.0 pynndescent-0.5.10 pyro-api-0.1.2 pyro-ppl-1.8.4 pytorch-lightning-1.9.5 scanpy-1.9.3 scgen-2.1.1 scvi-tools-0.20.3 session-info-1.0.0 stdlib_list-0.8.0 torchmetrics-0.11.4 umap-learn-0.5.3 yarl-1.9.2\n",
            "Looking in indexes: https://pypi.org/simple, https://us-python.pkg.dev/colab-wheels/public/simple/\n",
            "Requirement already satisfied: matplotlib in /usr/local/lib/python3.10/dist-packages (3.7.1)\n",
            "Requirement already satisfied: contourpy>=1.0.1 in /usr/local/lib/python3.10/dist-packages (from matplotlib) (1.0.7)\n",
            "Requirement already satisfied: cycler>=0.10 in /usr/local/lib/python3.10/dist-packages (from matplotlib) (0.11.0)\n",
            "Requirement already satisfied: fonttools>=4.22.0 in /usr/local/lib/python3.10/dist-packages (from matplotlib) (4.39.3)\n",
            "Requirement already satisfied: kiwisolver>=1.0.1 in /usr/local/lib/python3.10/dist-packages (from matplotlib) (1.4.4)\n",
            "Requirement already satisfied: numpy>=1.20 in /usr/local/lib/python3.10/dist-packages (from matplotlib) (1.22.4)\n",
            "Requirement already satisfied: packaging>=20.0 in /usr/local/lib/python3.10/dist-packages (from matplotlib) (23.1)\n",
            "Requirement already satisfied: pillow>=6.2.0 in /usr/local/lib/python3.10/dist-packages (from matplotlib) (8.4.0)\n",
            "Requirement already satisfied: pyparsing>=2.3.1 in /usr/local/lib/python3.10/dist-packages (from matplotlib) (3.0.9)\n",
            "Requirement already satisfied: python-dateutil>=2.7 in /usr/local/lib/python3.10/dist-packages (from matplotlib) (2.8.2)\n",
            "Requirement already satisfied: six>=1.5 in /usr/local/lib/python3.10/dist-packages (from python-dateutil>=2.7->matplotlib) (1.16.0)\n",
            "Looking in indexes: https://pypi.org/simple, https://us-python.pkg.dev/colab-wheels/public/simple/\n",
            "Requirement already satisfied: scanpy in /usr/local/lib/python3.10/dist-packages (1.9.3)\n",
            "Requirement already satisfied: anndata>=0.7.4 in /usr/local/lib/python3.10/dist-packages (from scanpy) (0.9.1)\n",
            "Requirement already satisfied: numpy>=1.17.0 in /usr/local/lib/python3.10/dist-packages (from scanpy) (1.22.4)\n",
            "Requirement already satisfied: matplotlib>=3.4 in /usr/local/lib/python3.10/dist-packages (from scanpy) (3.7.1)\n",
            "Requirement already satisfied: pandas>=1.0 in /usr/local/lib/python3.10/dist-packages (from scanpy) (1.5.3)\n",
            "Requirement already satisfied: scipy>=1.4 in /usr/local/lib/python3.10/dist-packages (from scanpy) (1.10.1)\n",
            "Requirement already satisfied: seaborn in /usr/local/lib/python3.10/dist-packages (from scanpy) (0.12.2)\n",
            "Requirement already satisfied: h5py>=3 in /usr/local/lib/python3.10/dist-packages (from scanpy) (3.8.0)\n",
            "Requirement already satisfied: tqdm in /usr/local/lib/python3.10/dist-packages (from scanpy) (4.65.0)\n",
            "Requirement already satisfied: scikit-learn>=0.22 in /usr/local/lib/python3.10/dist-packages (from scanpy) (1.2.2)\n",
            "Requirement already satisfied: statsmodels>=0.10.0rc2 in /usr/local/lib/python3.10/dist-packages (from scanpy) (0.13.5)\n",
            "Requirement already satisfied: patsy in /usr/local/lib/python3.10/dist-packages (from scanpy) (0.5.3)\n",
            "Requirement already satisfied: networkx>=2.3 in /usr/local/lib/python3.10/dist-packages (from scanpy) (3.1)\n",
            "Requirement already satisfied: natsort in /usr/local/lib/python3.10/dist-packages (from scanpy) (8.3.1)\n",
            "Requirement already satisfied: joblib in /usr/local/lib/python3.10/dist-packages (from scanpy) (1.2.0)\n",
            "Requirement already satisfied: numba>=0.41.0 in /usr/local/lib/python3.10/dist-packages (from scanpy) (0.56.4)\n",
            "Requirement already satisfied: umap-learn>=0.3.10 in /usr/local/lib/python3.10/dist-packages (from scanpy) (0.5.3)\n",
            "Requirement already satisfied: packaging in /usr/local/lib/python3.10/dist-packages (from scanpy) (23.1)\n",
            "Requirement already satisfied: session-info in /usr/local/lib/python3.10/dist-packages (from scanpy) (1.0.0)\n",
            "Requirement already satisfied: contourpy>=1.0.1 in /usr/local/lib/python3.10/dist-packages (from matplotlib>=3.4->scanpy) (1.0.7)\n",
            "Requirement already satisfied: cycler>=0.10 in /usr/local/lib/python3.10/dist-packages (from matplotlib>=3.4->scanpy) (0.11.0)\n",
            "Requirement already satisfied: fonttools>=4.22.0 in /usr/local/lib/python3.10/dist-packages (from matplotlib>=3.4->scanpy) (4.39.3)\n",
            "Requirement already satisfied: kiwisolver>=1.0.1 in /usr/local/lib/python3.10/dist-packages (from matplotlib>=3.4->scanpy) (1.4.4)\n",
            "Requirement already satisfied: pillow>=6.2.0 in /usr/local/lib/python3.10/dist-packages (from matplotlib>=3.4->scanpy) (8.4.0)\n",
            "Requirement already satisfied: pyparsing>=2.3.1 in /usr/local/lib/python3.10/dist-packages (from matplotlib>=3.4->scanpy) (3.0.9)\n",
            "Requirement already satisfied: python-dateutil>=2.7 in /usr/local/lib/python3.10/dist-packages (from matplotlib>=3.4->scanpy) (2.8.2)\n",
            "Requirement already satisfied: llvmlite<0.40,>=0.39.0dev0 in /usr/local/lib/python3.10/dist-packages (from numba>=0.41.0->scanpy) (0.39.1)\n",
            "Requirement already satisfied: setuptools in /usr/local/lib/python3.10/dist-packages (from numba>=0.41.0->scanpy) (67.7.2)\n",
            "Requirement already satisfied: pytz>=2020.1 in /usr/local/lib/python3.10/dist-packages (from pandas>=1.0->scanpy) (2022.7.1)\n",
            "Requirement already satisfied: threadpoolctl>=2.0.0 in /usr/local/lib/python3.10/dist-packages (from scikit-learn>=0.22->scanpy) (3.1.0)\n",
            "Requirement already satisfied: six in /usr/local/lib/python3.10/dist-packages (from patsy->scanpy) (1.16.0)\n",
            "Requirement already satisfied: pynndescent>=0.5 in /usr/local/lib/python3.10/dist-packages (from umap-learn>=0.3.10->scanpy) (0.5.10)\n",
            "Requirement already satisfied: stdlib-list in /usr/local/lib/python3.10/dist-packages (from session-info->scanpy) (0.8.0)\n"
          ]
        }
      ]
    },
    {
      "cell_type": "code",
      "execution_count": null,
      "metadata": {
        "id": "w6gPV6tjmeoN",
        "colab": {
          "base_uri": "https://localhost:8080/"
        },
        "outputId": "beefc774-63e3-47a7-e61a-40e83f33f85c"
      },
      "outputs": [
        {
          "output_type": "stream",
          "name": "stderr",
          "text": [
            "INFO:lightning_fabric.utilities.seed:Global seed set to 0\n"
          ]
        }
      ],
      "source": [
        "import anndata\n",
        "import scanpy as sc\n",
        "import scgen\n",
        "import pandas as pd  \n",
        "import numpy as np\n",
        "\n",
        "font = {'family' : 'Arial',\n",
        "        'size'   : 14}"
      ]
    },
    {
      "cell_type": "code",
      "execution_count": null,
      "metadata": {
        "id": "AiViJETTmeoP"
      },
      "outputs": [],
      "source": [
        "train = sc.read(\"./data/PapalexiSatija2021_eccite_RNA.h5ad\")\n",
        "sc.pp.normalize_total(train, target_sum=1e4)\n",
        "sc.pp.log1p(train)"
      ]
    },
    {
      "cell_type": "code",
      "execution_count": null,
      "metadata": {
        "colab": {
          "base_uri": "https://localhost:8080/"
        },
        "id": "25gOfI4ZmeoQ",
        "outputId": "b4b9cb53-9117-47b3-b4c5-3e317a3b6049"
      },
      "outputs": [
        {
          "output_type": "stream",
          "name": "stdout",
          "text": [
            "[[0. 0. 0. ... 0. 0. 0.]\n",
            " [0. 0. 0. ... 0. 0. 0.]\n",
            " [0. 0. 0. ... 0. 0. 0.]\n",
            " ...\n",
            " [0. 0. 0. ... 0. 0. 0.]\n",
            " [0. 0. 0. ... 0. 0. 0.]\n",
            " [0. 0. 0. ... 0. 0. 0.]]\n"
          ]
        }
      ],
      "source": [
        "print(train.X.toarray())"
      ]
    },
    {
      "cell_type": "code",
      "execution_count": null,
      "metadata": {
        "colab": {
          "base_uri": "https://localhost:8080/"
        },
        "id": "B8UJ4i9kmeoQ",
        "outputId": "56ab6ff7-05a6-4e34-962b-9330fec1e1a2"
      },
      "outputs": [
        {
          "output_type": "stream",
          "name": "stdout",
          "text": [
            "['STAT2g2', 'CAV1g4', 'STAT1g2', 'CD86g1', 'IRF7g2', ..., 'SPI1g3', 'PDCD1LG2g2', 'CUL3g3', 'SPI1g2', 'MYCg4']\n",
            "Length: 99\n",
            "Categories (99, object): ['ATF2g1', 'ATF2g2', 'ATF2g3', 'ATF2g4', ..., 'UBE2L6g2', 'UBE2L6g3',\n",
            "                          'UBE2L6g4', 'control']\n"
          ]
        }
      ],
      "source": [
        "print(train.obs['perturbation'].unique())"
      ]
    },
    {
      "cell_type": "code",
      "execution_count": null,
      "metadata": {
        "colab": {
          "base_uri": "https://localhost:8080/"
        },
        "id": "UOOKmEwQmeoQ",
        "outputId": "e2c044eb-c2fd-43e6-c7f6-b5aac96ce8ea"
      },
      "outputs": [
        {
          "output_type": "stream",
          "name": "stdout",
          "text": [
            "AAACCTGAGCCAGAAC    STAT2g2\n",
            "AAACCTGAGTGGACGT     CAV1g4\n",
            "AAACCTGCATGAGCGA    STAT1g2\n",
            "AAACCTGTCTTGTCAT     CD86g1\n",
            "AAACGGGAGAACAACT     IRF7g2\n",
            "                     ...   \n",
            "TTTGTCAGTCACTTCC    CMTM6g1\n",
            "TTTGTCAGTGACGGTA    control\n",
            "TTTGTCAGTTCCACAA     ATF2g1\n",
            "TTTGTCATCACGCATA     CAV1g2\n",
            "TTTGTCATCTGTACGA    STAT3g1\n",
            "Name: perturbation, Length: 20729, dtype: category\n",
            "Categories (99, object): ['ATF2g1', 'ATF2g2', 'ATF2g3', 'ATF2g4', ..., 'UBE2L6g2', 'UBE2L6g3',\n",
            "                          'UBE2L6g4', 'control']\n"
          ]
        }
      ],
      "source": [
        "print(train.obs['perturbation'])"
      ]
    },
    {
      "cell_type": "code",
      "execution_count": null,
      "metadata": {
        "colab": {
          "base_uri": "https://localhost:8080/"
        },
        "id": "WAJNaPDumeoQ",
        "outputId": "2fe1ba4b-e627-4930-ee7f-2079d8ced936"
      },
      "outputs": [
        {
          "output_type": "execute_result",
          "data": {
            "text/plain": [
              "98"
            ]
          },
          "metadata": {},
          "execution_count": 15
        }
      ],
      "source": [
        "prt=train.obs['perturbation'].unique()\n",
        "list_prt=list(prt)\n",
        "len(list(prt))\n",
        "list_prt.remove('control')\n",
        "len(list_prt)"
      ]
    },
    {
      "cell_type": "code",
      "execution_count": null,
      "metadata": {
        "colab": {
          "base_uri": "https://localhost:8080/"
        },
        "id": "Ty1ekDbqmeoR",
        "outputId": "7d342b0a-0793-49d5-d231-2ff48f07bf51"
      },
      "outputs": [
        {
          "output_type": "execute_result",
          "data": {
            "text/plain": [
              "<2386x18649 sparse matrix of type '<class 'numpy.float32'>'\n",
              "\twith 8032261 stored elements in Compressed Sparse Column format>"
            ]
          },
          "metadata": {},
          "execution_count": 16
        }
      ],
      "source": [
        "train[train.obs['perturbation']=='control'].X"
      ]
    },
    {
      "cell_type": "code",
      "execution_count": null,
      "metadata": {
        "id": "M8LcYSXYmeoR"
      },
      "outputs": [],
      "source": [
        "\n",
        "\n",
        "import random\n",
        "\n",
        "def subset(alist, idxs):\n",
        "    '''\n",
        "        use idxs to subset alist\n",
        "        alist: list\n",
        "        idxs: list\n",
        "    '''\n",
        "    sub_list = []\n",
        "    for idx in idxs:\n",
        "        sub_list.append(alist[idx])\n",
        "\n",
        "    return sub_list\n",
        "\n",
        "def split_list(alist, group_num=3, shuffle=True, retain_left=False):\n",
        "    '''\n",
        "        split data into 3 subset and let each subset contains the len(alist)//group number of elements\n",
        "        shuffle: whether shuffle the splitted data, default: True\n",
        "        retain_left: if list alist is splited into the number of group_num subset and there is some element remain，\n",
        "        whether take the remaining elements as a subset\n",
        "    '''\n",
        "\n",
        "    index = list(range(len(alist))) \n",
        "\n",
        "    \n",
        "    if shuffle: \n",
        "        random.shuffle(index) \n",
        "    \n",
        "    elem_num = len(alist) // group_num \n",
        "    sub_lists = {}\n",
        "    \n",
        "   \n",
        "    for idx in range(group_num):\n",
        "        start, end = idx*elem_num, (idx+1)*elem_num\n",
        "        sub_lists[str(idx)] = subset(alist, index[start:end])\n",
        "    \n",
        "  \n",
        "    if retain_left and group_num * elem_num != len(index): \n",
        "        sub_lists[str(idx+1)] = subset(alist, index[end:])\n",
        "    \n",
        "    return sub_lists\n",
        "\n",
        "\n",
        "\n",
        "def sample_control_control(adata,size_n):\n",
        "    \"\"\"\n",
        "    the sampling for ctrl and ctrl\n",
        "    split the data into three samples\n",
        "    shuffle the three samples\n",
        "    return two data set have maximum between-sample distance\n",
        "    \n",
        "    \"\"\"\n",
        "    x = adata.X\n",
        "    n_rows=x.shape[0]\n",
        "    index_dict=split_list(range(n_rows))# in form {0: [1,2,3],1:[3,44,2...],3:[]}\n",
        "    sample1=x[index_dict['0'],:size_n].toarray()\n",
        "    sample2=x[index_dict['1'],:size_n].toarray()\n",
        "    sample3=x[index_dict['2'],:size_n].toarray() \n",
        "  \n",
        "    return sample1,sample2,sample3\n",
        "        \n"
      ]
    },
    {
      "cell_type": "code",
      "execution_count": null,
      "metadata": {
        "id": "xSORXggfmeoS"
      },
      "outputs": [],
      "source": [
        "#we use a function to get control and 98 stim data in order to compare the control data with each stim data \n",
        "\n",
        "def sample_obs(x,size_n):\n",
        "    \"\"\"\n",
        "    params \n",
        "    -------------\n",
        "    sample for all control and stim pairs \n",
        "    size_n:the number of rows we will consider in comparison\n",
        "    output x,y in sparse matrix form\n",
        "    which is sample1 and sample2 drawn from two specified codition\n",
        "    \"\"\"\n",
        "\n",
        "    # x = adata.X\n",
        "    #print(x.shape)(16893, 6998)\n",
        "    n_rows=x.shape[0]\n",
        "    \n",
        "    df = pd.DataFrame({'x':np.arange(n_rows)})\n",
        "    #shuffle the data index\n",
        "#     x_sample1=df['x'].sample(frac=1, replace=False).values[:size_n]\n",
        "    x_sample1=df['x'].values[:size_n]\n",
        "    \n",
        "    return x[x_sample1,:]\n",
        "\n",
        "\n",
        "def data_prep(adata,ctrl,conditions,sample_ctrl=False):\n",
        "    \"\"\"\n",
        "    param\n",
        "    -----------\n",
        "    adata\n",
        "    return_mean: bool variable True if we want to compute mean of sampled data per cell to\n",
        "    find statistic between mean of data from sample1 and sample2\n",
        "    output: the sampled data from sample1 and sample2 of type array\n",
        "    \"\"\"\n",
        "    \n",
        "    control = adata[adata.obs[\"perturbation\"] == \"control\"]\n",
        "    stim = adata[adata.obs[\"perturbation\"] == conditions].X\n",
        "\n",
        "    control=ctrl\n",
        "    #fix the number of rows of sampled data as the minimum number of rows between sample1,sample2\n",
        "    n=np.minimum(control.shape[0],stim.shape[0])\n",
        "    \n",
        "    \n",
        "    x= sample_obs(control,n)\n",
        "    y= sample_obs(stim,n)\n",
        "        \n",
        "    # x=x.toarray()\n",
        "    y=y.toarray()\n",
        "\n",
        "    # print(ctrl.shape, y.shape)\n",
        "        \n",
        "    \n",
        "    return x,y\n",
        " \n",
        "def compute_from_mean(x,y,fn,if_return=False):\n",
        "    \"\"\"\n",
        "    param\n",
        "    -------\n",
        "    x,y:data from sample1 and sample2\n",
        "    fn: the statistic function with input x,y\n",
        "    print statistic computed with mean of sample 1 and 2\n",
        "    \"\"\" \n",
        "    \n",
        "    x_mean = np.mean(x, axis=0).ravel()\n",
        "    y_mean = np.mean(y, axis=0).ravel()\n",
        "    mean = fn(x_mean,y_mean)\n",
        "#     print(\"statistic computed with mean of sample 1 and 2:\",mean)\n",
        "    if if_return:\n",
        "        return mean\n",
        "\n",
        "def compute_from_sample(x,y,fn):\n",
        "    \"\"\"\n",
        "    param\n",
        "    -----------\n",
        "    x,y:sampled data from sample1 and sample2 in sparse matric form\n",
        "    output: the average of statistic computed between each data from sample1 and sample2\n",
        "    \"\"\"\n",
        "#     x=x.toarray()\n",
        "#     y=y.toarray()\n",
        "    a=dict.fromkeys(range(x.shape[0]))\n",
        "    \n",
        "    for i in range(x.shape[0]):\n",
        "        a[i]=fn(x[i],y[i])\n",
        "        \n",
        "    return np.mean(list(a.values()))\n",
        "\n",
        "def dist_based(x,y):\n",
        "    \"\"\"\n",
        "    transpose the data so that we can compute static between genes (columns)\n",
        "    \"\"\"\n",
        "    m=np.minimum(x.shape[0],y.shape[0])\n",
        "    x=x.T[:,:m]#delete .toarray()\n",
        "    y=y.T[:,:m]\n",
        "    return x,y\n",
        "\n",
        "\n",
        "def test(fn,train,metric_str):\n",
        "    \"\"\"\n",
        "    fn: the function for computing specific statistic to apply \n",
        "    print out the test result for statistic between (stim,ctrl) and (ctrl,ctrl)\n",
        "    \n",
        "    \"\"\"\n",
        "    list_stim=list(train.obs['perturbation'].unique())\n",
        "    list_stim.remove('control')\n",
        "    conditions={\"x\":\"control\",\"y\":\"stim\"}\n",
        "    \n",
        "    difference=[]\n",
        "    control = train[train.obs[\"perturbation\"] == conditions[\"x\"]]\n",
        "    \n",
        "    sample1,sample2,sample3=sample_control_control(control,control.shape[1])\n",
        "    # print(sample1.shape)\n",
        "    pairs={}\n",
        "    pairs[0]=(sample1,sample2)\n",
        "    pairs[1]=(sample1,sample3)\n",
        "    pairs[2]=(sample2,sample3)\n",
        "    for i in range(3):\n",
        "        (x,y)=pairs[i]\n",
        "        print(\"mean of computed statistics for (contrl, control):\",fn(train,None,conditions,True,x,y))\n",
        "        #set the sample_ctrl True\n",
        "        difference.append(fn(train,None,conditions,True,x,y))\n",
        "        \n",
        "    zero=['control']*3\n",
        "    if_stim=['stim']*len(list_stim)\n",
        "    \n",
        "    for stim in list_stim:\n",
        "      # str(stim)\n",
        "      out1=fn(adata=train,ctrl=sample1,conditions=str(stim))\n",
        "      out2=fn(adata=train,ctrl=sample2,conditions=str(stim))\n",
        "      out3=fn(adata=train,ctrl=sample3,conditions=str(stim))\n",
        "      difference.append((out1+out2+out3)/3)\n",
        "#         print(conditions)\n",
        "#         print(\"mean of computed statistics:\",fn(train,conditions))\n",
        "        \n",
        "    \n",
        "    #lastly,for (ctrl,ctrl) where we apply a different sampling method, get three points \n",
        "    \n",
        "    \n",
        "    if_stim= zero + if_stim\n",
        "    metric=[metric_str]*len(if_stim)\n",
        "        \n",
        "    return difference,if_stim,metric    \n",
        "              \n",
        "              "
      ]
    },
    {
      "cell_type": "code",
      "execution_count": null,
      "metadata": {
        "colab": {
          "base_uri": "https://localhost:8080/"
        },
        "id": "PT2LT5eSmeoS",
        "outputId": "d7298525-a40d-4f67-dbd4-c6f08ba79263"
      },
      "outputs": [
        {
          "output_type": "stream",
          "name": "stdout",
          "text": [
            "mean of computed statistics for (contrl, control): 0.5212126065441613\n",
            "mean of computed statistics for (contrl, control): 0.5205238392658089\n",
            "mean of computed statistics for (contrl, control): 0.5214462019653013\n"
          ]
        }
      ],
      "source": [
        "from scipy import stats\n",
        "def calc_pearson(adata,ctrl,conditions, sample_ctrl=False,ctrl1=None,ctrl2=None):\n",
        "    \"\"\"\n",
        "    param\n",
        "    ---------\n",
        "    adata\n",
        "    condition: dictionary pass to adata to get sample1 and sample2 from specific 'condition'\n",
        "    fn: function for computing pearson coefficient \n",
        "    -----------\n",
        "    output: the average of pearson coefficient computed between each data from sample1 and sample2\n",
        "    \"\"\"\n",
        "    fn=lambda x,y: stats.pearsonr(x,y).statistic\n",
        "    \n",
        "    if sample_ctrl:\n",
        "        x,y=ctrl1,ctrl2\n",
        "    else:\n",
        "        x,y=data_prep(adata,ctrl,conditions)\n",
        "      \n",
        "    \n",
        "    compute_from_mean(x,y,fn,sample_ctrl)\n",
        "    \n",
        "    \n",
        "    pearson_obs=dict.fromkeys(range(x.shape[0]))\n",
        "    for i in range(x.shape[0]):\n",
        "        #use pd\n",
        "        df = pd.DataFrame({'x':x[i], 'y':y[i]})\n",
        "        matrix=df.corr(method='pearson').values\n",
        "        pearson_obs[i] = matrix[0,1]\n",
        "    \n",
        "    pr=list(pearson_obs.values())\n",
        "    \n",
        "    return np.mean(pr)\n",
        "\n",
        "difference0,if_stim0,metric0=test(calc_pearson,train,'pearson')\n"
      ]
    },
    {
      "cell_type": "code",
      "execution_count": null,
      "metadata": {
        "colab": {
          "base_uri": "https://localhost:8080/",
          "height": 405
        },
        "id": "v4jb-WcmmeoT",
        "outputId": "26631a1e-c950-4e05-ee94-993085b6e3b9"
      },
      "outputs": [
        {
          "output_type": "execute_result",
          "data": {
            "text/plain": [
              "<Axes: xlabel='metric', ylabel='difference'>"
            ]
          },
          "metadata": {},
          "execution_count": 18
        },
        {
          "output_type": "display_data",
          "data": {
            "text/plain": [
              "<Figure size 200x400 with 1 Axes>"
            ],
            "image/png": "[encoded data removed]"
          },
          "metadata": {}
        }
      ],
      "source": [
        "import matplotlib.pyplot as plt\n",
        "df=pd.DataFrame({'difference':difference0, 'if_stim':if_stim0, 'metric':metric0})\n",
        "# print(difference,if_stim,metric)\n",
        "plt.figure(figsize=(2, 4))\n",
        "import seaborn as sns\n",
        "sns.boxplot(data=df, x=\"metric\", y=\"difference\", hue=\"if_stim\")"
      ]
    },
    {
      "cell_type": "code",
      "execution_count": null,
      "metadata": {
        "colab": {
          "base_uri": "https://localhost:8080/"
        },
        "id": "40xwfbTQmeoT",
        "outputId": "626956d7-56cc-4b2f-e180-a853e4b5b939"
      },
      "outputs": [
        {
          "output_type": "stream",
          "name": "stdout",
          "text": [
            "mean of computed statistics for (contrl, control): 0.2344269\n",
            "mean of computed statistics for (contrl, control): 0.23266113\n",
            "mean of computed statistics for (contrl, control): 0.23369713\n"
          ]
        }
      ],
      "source": [
        "\n",
        "from scipy import stats\n",
        "def calc_mae(adata,ctrl,conditions,sample_ctrl=False,ctrl1=None,ctrl2=None):\n",
        "    fn=lambda x,y: np.mean(np.abs(y-x)) \n",
        "    if sample_ctrl:\n",
        "        x,y=ctrl1,ctrl2\n",
        "    else:\n",
        "        x,y=data_prep(adata,ctrl,conditions)\n",
        "\n",
        "    # compute_from_mean(x,y,fn)\n",
        "    return compute_from_sample(x,y,fn)\n",
        "\n",
        "difference,if_stim,metric=test(calc_mae,train,'mae')"
      ]
    },
    {
      "cell_type": "code",
      "execution_count": null,
      "metadata": {
        "colab": {
          "base_uri": "https://localhost:8080/",
          "height": 405
        },
        "id": "RRyWW7_UmeoT",
        "outputId": "83dc83b8-d66e-431d-ca72-0d6c49a2f84d"
      },
      "outputs": [
        {
          "output_type": "execute_result",
          "data": {
            "text/plain": [
              "<Axes: xlabel='metric', ylabel='difference'>"
            ]
          },
          "metadata": {},
          "execution_count": 16
        },
        {
          "output_type": "display_data",
          "data": {
            "text/plain": [
              "<Figure size 200x400 with 1 Axes>"
            ],
            "image/png": "[encoded data removed]"
          },
          "metadata": {}
        }
      ],
      "source": [
        "# print(difference2,if_stim2,metric2)\n",
        "plt.figure(figsize=(2, 4))\n",
        "df=pd.DataFrame({'difference':difference, 'if_stim':if_stim, 'metric':metric})\n",
        "sns.boxplot(data=df, x=\"metric\", y=\"difference\", hue=\"if_stim\")"
      ]
    },
    {
      "cell_type": "code",
      "execution_count": null,
      "metadata": {
        "colab": {
          "base_uri": "https://localhost:8080/",
          "height": 457
        },
        "id": "S_yZTWXmmeoT",
        "outputId": "6ff88ee9-f837-4b95-d8e8-daad92334d80"
      },
      "outputs": [
        {
          "output_type": "stream",
          "name": "stdout",
          "text": [
            "mean of computed statistics for (contrl, control): 70.17822\n",
            "mean of computed statistics for (contrl, control): 70.11245\n",
            "mean of computed statistics for (contrl, control): 70.11009\n"
          ]
        },
        {
          "output_type": "execute_result",
          "data": {
            "text/plain": [
              "<Axes: xlabel='metric', ylabel='difference'>"
            ]
          },
          "metadata": {},
          "execution_count": 14
        },
        {
          "output_type": "display_data",
          "data": {
            "text/plain": [
              "<Figure size 200x400 with 1 Axes>"
            ],
            "image/png": "[encoded data removed]"
          },
          "metadata": {}
        }
      ],
      "source": [
        "def calc_euclidean_d(adata,ctrl,conditions,sample_ctrl=False,ctrl1=None,ctrl2=None):\n",
        "    fn=lambda x,y: np.linalg.norm(x-y)\n",
        "    if sample_ctrl:\n",
        "        x,y=ctrl1,ctrl2\n",
        "    else:\n",
        "        x,y=data_prep(adata,ctrl,conditions)\n",
        "    compute_from_mean(x,y,fn) \n",
        "    return compute_from_sample(x,y,fn)\n",
        "\n",
        "difference2,if_stim2,metric2=test(calc_euclidean_d,train,'euclidean')\n",
        "plt.figure(figsize=(2, 4))\n",
        "df=pd.DataFrame({'difference':difference2, 'if_stim':if_stim2, 'metric':metric2})\n",
        "sns.boxplot(data=df, x=\"metric\", y=\"difference\", hue=\"if_stim\")\n"
      ]
    },
    {
      "cell_type": "code",
      "source": [
        "\n",
        "# print(train.X.toarray())\n",
        "# print(X_norm.toarray())\n"
      ],
      "metadata": {
        "colab": {
          "base_uri": "https://localhost:8080/"
        },
        "id": "eMXR2ixXrhwl",
        "outputId": "20a60946-ddd3-43f2-a3b0-c0bd9db53195"
      },
      "execution_count": null,
      "outputs": [
        {
          "output_type": "stream",
          "name": "stdout",
          "text": [
            "WARNING: adata.X seems to be already log-transformed.\n"
          ]
        }
      ]
    },
    {
      "cell_type": "code",
      "execution_count": null,
      "metadata": {
        "colab": {
          "base_uri": "https://localhost:8080/",
          "height": 457
        },
        "id": "R22ZbrTbmeoT",
        "outputId": "bdd2e128-68f3-4e7a-8283-182e928f1916"
      },
      "outputs": [
        {
          "output_type": "stream",
          "name": "stdout",
          "text": [
            "mean of computed statistics for (contrl, control): 0.271327703493857\n",
            "mean of computed statistics for (contrl, control): 0.2760761865529306\n",
            "mean of computed statistics for (contrl, control): 0.2748069371120065\n"
          ]
        },
        {
          "output_type": "execute_result",
          "data": {
            "text/plain": [
              "<Axes: xlabel='metric', ylabel='difference'>"
            ]
          },
          "metadata": {},
          "execution_count": 19
        },
        {
          "output_type": "display_data",
          "data": {
            "text/plain": [
              "<Figure size 200x400 with 1 Axes>"
            ],
            "image/png": "[encoded data removed]"
          },
          "metadata": {}
        }
      ],
      "source": [
        "def calc_r(adata,ctrl,conditions,sample_ctrl=False,ctrl1=None,ctrl2=None):\n",
        "    fn=lambda x,y: stats.linregress(x,y)[2]**2\n",
        "    if sample_ctrl:\n",
        "        x,y=ctrl1,ctrl2\n",
        "    else:\n",
        "        x,y=data_prep(adata,ctrl,conditions)\n",
        "    compute_from_mean(x,y,fn)\n",
        "    return compute_from_sample(x,y,fn)\n",
        "\n",
        "difference3,if_stim3,metric3=test(calc_r,train,'r-square')\n",
        "plt.figure(figsize=(2, 4))\n",
        "df=pd.DataFrame({'difference':difference3, 'if_stim':if_stim3, 'metric':metric3})\n",
        "sns.boxplot(data=df, x=\"metric\", y=\"difference\", hue=\"if_stim\")"
      ]
    },
    {
      "cell_type": "code",
      "execution_count": null,
      "metadata": {
        "colab": {
          "base_uri": "https://localhost:8080/",
          "height": 457
        },
        "id": "xHdAH20CmeoT",
        "outputId": "90546a0e-b5e5-40ac-89ab-5bedbfee31ac"
      },
      "outputs": [
        {
          "output_type": "stream",
          "name": "stdout",
          "text": [
            "mean of computed statistics for (contrl, control): 0.7292234517894476\n",
            "mean of computed statistics for (contrl, control): 0.7302830350256175\n",
            "mean of computed statistics for (contrl, control): 0.7307318075390774\n"
          ]
        },
        {
          "output_type": "execute_result",
          "data": {
            "text/plain": [
              "<Axes: xlabel='metric', ylabel='difference'>"
            ]
          },
          "metadata": {},
          "execution_count": 20
        },
        {
          "output_type": "display_data",
          "data": {
            "text/plain": [
              "<Figure size 200x400 with 1 Axes>"
            ],
            "image/png": "[encoded data removed]"
          },
          "metadata": {}
        }
      ],
      "source": [
        "from scipy.spatial import distance\n",
        "from scipy.stats import ttest_ind\n",
        "import warnings\n",
        "warnings.filterwarnings('ignore')\n",
        "\n",
        "#distribution based metrics \n",
        "#use Jensen-Shannon divergence to replace formula of kl divergence since kl diergence has\n",
        "#inf result for sparse data \n",
        "def average_dist_metric(x,y,fn):\n",
        "    kl=0\n",
        "    count_nan=0\n",
        "    for i in range(x.shape[0]):\n",
        "\n",
        "        sparse=fn(x[i],y[i])\n",
        "        if np.isnan(sparse):#nan: caused by division by 0-vector(vec of all 0)\n",
        "            count_nan+=1   \n",
        "        else:\n",
        "            kl+=sparse\n",
        "    if x.shape[0]==count_nan:\n",
        "        return 0 # note that 0 for t-statistics  means that the result is inconclusive and more data may be needed to make a definitive conclusion.\n",
        "    else:\n",
        "        return kl/(x.shape[0]-count_nan)\n",
        "\n",
        "def calc_kl(adata,ctrl,conditions,sample_ctrl=False,ctrl1=None,ctrl2=None):\n",
        "    if sample_ctrl:\n",
        "        x,y=ctrl1,ctrl2\n",
        "    else:\n",
        "        x,y=data_prep(adata,ctrl,conditions)\n",
        "    x,y=dist_based(x,y)#only for distribution based methods\n",
        "    fn=lambda x,y: distance.jensenshannon(x,y)\n",
        "    return average_dist_metric(x,y,fn)\n",
        "\n",
        "difference4,if_stim4,metric4=test(calc_kl,train,'kl')\n",
        "plt.figure(figsize=(2, 4))\n",
        "df=pd.DataFrame({'difference':difference4, 'if_stim':if_stim4, 'metric':metric4})\n",
        "sns.boxplot(data=df, x=\"metric\", y=\"difference\", hue=\"if_stim\")"
      ]
    },
    {
      "cell_type": "code",
      "execution_count": null,
      "metadata": {
        "colab": {
          "base_uri": "https://localhost:8080/",
          "height": 457
        },
        "id": "zFqHtkFFmeoU",
        "outputId": "44d1ba42-3516-4d64-ebd0-712bcf53c9e1"
      },
      "outputs": [
        {
          "output_type": "stream",
          "name": "stdout",
          "text": [
            "mean of computed statistics for (contrl, control): 0.134798419902629\n",
            "mean of computed statistics for (contrl, control): 0.022610534482644346\n",
            "mean of computed statistics for (contrl, control): -0.11227936519719403\n"
          ]
        },
        {
          "output_type": "execute_result",
          "data": {
            "text/plain": [
              "<Axes: xlabel='metric', ylabel='difference'>"
            ]
          },
          "metadata": {},
          "execution_count": 21
        },
        {
          "output_type": "display_data",
          "data": {
            "text/plain": [
              "<Figure size 200x400 with 1 Axes>"
            ],
            "image/png": "[encoded data removed]"
          },
          "metadata": {}
        }
      ],
      "source": [
        "\n",
        "    \n",
        "def t_test(adata,ctrl,conditions,sample_ctrl=False,ctrl1=None,ctrl2=None):\n",
        "    if sample_ctrl:\n",
        "        x,y=ctrl1,ctrl2\n",
        "    else:\n",
        "        x,y=data_prep(adata,ctrl,conditions)\n",
        "    x,y=dist_based(x,y)#only for distribution based methods\n",
        "    fn=lambda x,y: stats.ttest_ind(x,y, equal_var=True)[0]\n",
        "    return average_dist_metric(x,y,fn)\n",
        "\n",
        "difference5,if_stim5,metric5=test(t_test,train,'t-test')\n",
        "plt.figure(figsize=(2, 4))\n",
        "df=pd.DataFrame({'difference':difference5, 'if_stim':if_stim5, 'metric':metric5})\n",
        "sns.boxplot(data=df, x=\"metric\", y=\"difference\", hue=\"if_stim\")"
      ]
    },
    {
      "cell_type": "code",
      "execution_count": 22,
      "metadata": {
        "id": "4nBVcgxRmeoU",
        "colab": {
          "base_uri": "https://localhost:8080/",
          "height": 1000
        },
        "outputId": "4ac6a5c5-d557-4388-f092-a08343513221"
      },
      "outputs": [
        {
          "output_type": "stream",
          "name": "stdout",
          "text": [
            "mmd\n",
            "mean of computed statistics for (contrl, control): 0.00010718777775764465\n",
            "mmd\n",
            "mmd\n",
            "mean of computed statistics for (contrl, control): 0.00010596774518489838\n",
            "mmd\n",
            "mmd\n",
            "mean of computed statistics for (contrl, control): 0.00010832585394382477\n",
            "mmd\n",
            "mmd\n",
            "mmd\n",
            "mmd\n",
            "mmd\n",
            "mmd\n",
            "mmd\n",
            "mmd\n",
            "mmd\n",
            "mmd\n",
            "mmd\n",
            "mmd\n",
            "mmd\n",
            "mmd\n",
            "mmd\n",
            "mmd\n",
            "mmd\n",
            "mmd\n",
            "mmd\n",
            "mmd\n",
            "mmd\n",
            "mmd\n",
            "mmd\n",
            "mmd\n",
            "mmd\n",
            "mmd\n",
            "mmd\n",
            "mmd\n",
            "mmd\n",
            "mmd\n",
            "mmd\n",
            "mmd\n",
            "mmd\n",
            "mmd\n",
            "mmd\n",
            "mmd\n",
            "mmd\n",
            "mmd\n",
            "mmd\n",
            "mmd\n",
            "mmd\n",
            "mmd\n",
            "mmd\n",
            "mmd\n",
            "mmd\n",
            "mmd\n",
            "mmd\n",
            "mmd\n",
            "mmd\n",
            "mmd\n",
            "mmd\n",
            "mmd\n",
            "mmd\n",
            "mmd\n",
            "mmd\n",
            "mmd\n",
            "mmd\n",
            "mmd\n",
            "mmd\n",
            "mmd\n",
            "mmd\n",
            "mmd\n",
            "mmd\n",
            "mmd\n",
            "mmd\n",
            "mmd\n",
            "mmd\n",
            "mmd\n",
            "mmd\n",
            "mmd\n",
            "mmd\n",
            "mmd\n",
            "mmd\n",
            "mmd\n",
            "mmd\n",
            "mmd\n",
            "mmd\n",
            "mmd\n",
            "mmd\n",
            "mmd\n",
            "mmd\n",
            "mmd\n",
            "mmd\n",
            "mmd\n",
            "mmd\n",
            "mmd\n",
            "mmd\n",
            "mmd\n",
            "mmd\n",
            "mmd\n",
            "mmd\n",
            "mmd\n",
            "mmd\n",
            "mmd\n",
            "mmd\n",
            "mmd\n",
            "mmd\n",
            "mmd\n",
            "mmd\n",
            "mmd\n",
            "mmd\n",
            "mmd\n",
            "mmd\n",
            "mmd\n",
            "mmd\n",
            "mmd\n",
            "mmd\n",
            "mmd\n",
            "mmd\n",
            "mmd\n",
            "mmd\n",
            "mmd\n",
            "mmd\n",
            "mmd\n",
            "mmd\n",
            "mmd\n",
            "mmd\n",
            "mmd\n",
            "mmd\n",
            "mmd\n",
            "mmd\n",
            "mmd\n",
            "mmd\n",
            "mmd\n",
            "mmd\n",
            "mmd\n",
            "mmd\n",
            "mmd\n",
            "mmd\n",
            "mmd\n",
            "mmd\n",
            "mmd\n",
            "mmd\n",
            "mmd\n",
            "mmd\n",
            "mmd\n",
            "mmd\n",
            "mmd\n",
            "mmd\n",
            "mmd\n",
            "mmd\n",
            "mmd\n",
            "mmd\n",
            "mmd\n",
            "mmd\n",
            "mmd\n",
            "mmd\n",
            "mmd\n",
            "mmd\n",
            "mmd\n",
            "mmd\n",
            "mmd\n",
            "mmd\n",
            "mmd\n",
            "mmd\n",
            "mmd\n",
            "mmd\n",
            "mmd\n",
            "mmd\n",
            "mmd\n",
            "mmd\n",
            "mmd\n",
            "mmd\n",
            "mmd\n",
            "mmd\n",
            "mmd\n",
            "mmd\n",
            "mmd\n",
            "mmd\n",
            "mmd\n",
            "mmd\n",
            "mmd\n",
            "mmd\n",
            "mmd\n",
            "mmd\n",
            "mmd\n",
            "mmd\n",
            "mmd\n",
            "mmd\n",
            "mmd\n",
            "mmd\n",
            "mmd\n",
            "mmd\n",
            "mmd\n",
            "mmd\n",
            "mmd\n",
            "mmd\n",
            "mmd\n",
            "mmd\n",
            "mmd\n",
            "mmd\n",
            "mmd\n",
            "mmd\n",
            "mmd\n",
            "mmd\n",
            "mmd\n",
            "mmd\n",
            "mmd\n",
            "mmd\n",
            "mmd\n",
            "mmd\n",
            "mmd\n",
            "mmd\n",
            "mmd\n",
            "mmd\n",
            "mmd\n",
            "mmd\n",
            "mmd\n",
            "mmd\n",
            "mmd\n",
            "mmd\n",
            "mmd\n",
            "mmd\n",
            "mmd\n",
            "mmd\n",
            "mmd\n",
            "mmd\n",
            "mmd\n",
            "mmd\n",
            "mmd\n",
            "mmd\n",
            "mmd\n",
            "mmd\n",
            "mmd\n",
            "mmd\n",
            "mmd\n",
            "mmd\n",
            "mmd\n",
            "mmd\n",
            "mmd\n",
            "mmd\n",
            "mmd\n",
            "mmd\n",
            "mmd\n",
            "mmd\n",
            "mmd\n",
            "mmd\n",
            "mmd\n",
            "mmd\n",
            "mmd\n",
            "mmd\n",
            "mmd\n",
            "mmd\n",
            "mmd\n",
            "mmd\n",
            "mmd\n",
            "mmd\n",
            "mmd\n",
            "mmd\n",
            "mmd\n",
            "mmd\n",
            "mmd\n",
            "mmd\n",
            "mmd\n",
            "mmd\n",
            "mmd\n",
            "mmd\n",
            "mmd\n",
            "mmd\n",
            "mmd\n",
            "mmd\n",
            "mmd\n",
            "mmd\n",
            "mmd\n",
            "mmd\n",
            "mmd\n",
            "mmd\n",
            "mmd\n",
            "mmd\n",
            "mmd\n",
            "mmd\n",
            "mmd\n",
            "mmd\n",
            "mmd\n",
            "mmd\n",
            "mmd\n",
            "mmd\n",
            "mmd\n",
            "mmd\n",
            "mmd\n",
            "mmd\n",
            "mmd\n",
            "mmd\n",
            "mmd\n",
            "mmd\n",
            "mmd\n",
            "mmd\n",
            "mmd\n",
            "mmd\n",
            "mmd\n",
            "mmd\n",
            "mmd\n",
            "mmd\n",
            "mmd\n",
            "mmd\n"
          ]
        },
        {
          "output_type": "execute_result",
          "data": {
            "text/plain": [
              "<Axes: xlabel='metric', ylabel='difference'>"
            ]
          },
          "metadata": {},
          "execution_count": 22
        },
        {
          "output_type": "display_data",
          "data": {
            "text/plain": [
              "<Figure size 200x400 with 1 Axes>"
            ],
            "image/png": "[encoded data removed]"
          },
          "metadata": {}
        }
      ],
      "source": [
        "from sklearn import metrics\n",
        "#very slow ~20min\n",
        "def mmd_rbf(X, Y, gamma=1.0):\n",
        "    \"\"\"MMD using rbf (gaussian) kernel (i.e., k(x,y) = exp(-gamma * ||x-y||^2 / 2))\n",
        "    Arguments:\n",
        "        X {[n_sample1, dim]} -- [X matrix]\n",
        "        Y {[n_sample2, dim]} -- [Y matrix]\n",
        "    Keyword Arguments:\n",
        "        gamma {float} -- [kernel parameter] (default: {1.0})\n",
        "    Returns:\n",
        "        [scalar] -- [MMD value]\n",
        "    \"\"\"\n",
        "    \n",
        "    print(\"mmd\")\n",
        "    XX = metrics.pairwise.rbf_kernel(X, X, gamma)\n",
        "    YY = metrics.pairwise.rbf_kernel(Y, Y, gamma)\n",
        "    XY = metrics.pairwise.rbf_kernel(X, Y, gamma)\n",
        "    return XX.mean() + YY.mean() - 2 * XY.mean()\n",
        "\n",
        "def mmd(adata,ctrl,conditions,sample_ctrl=False,ctrl1=None,ctrl2=None):\n",
        "    if sample_ctrl:\n",
        "        x,y=ctrl1,ctrl2\n",
        "    else:\n",
        "        x,y=data_prep(adata,ctrl,conditions)\n",
        "    x,y=dist_based(x,y)\n",
        "    # print(mmd_rbf(x,y))\n",
        "\n",
        "    return mmd_rbf(x,y)\n",
        "\n",
        "difference6,if_stim6,metric6=test(mmd,train,'mmd')\n",
        "plt.figure(figsize=(2, 4))\n",
        "df=pd.DataFrame({'difference':difference6, 'if_stim':if_stim6, 'metric':metric6})\n",
        "sns.boxplot(data=df, x=\"metric\", y=\"difference\", hue=\"if_stim\")"
      ]
    },
    {
      "cell_type": "code",
      "execution_count": 23,
      "metadata": {
        "id": "ArPuTUL3meoU",
        "colab": {
          "base_uri": "https://localhost:8080/",
          "height": 459
        },
        "outputId": "b1cc0df7-fdee-4cd0-e23c-a56dc8278328"
      },
      "outputs": [
        {
          "output_type": "stream",
          "name": "stdout",
          "text": [
            "mean of computed statistics for (contrl, control): 0.014427364489526067\n",
            "mean of computed statistics for (contrl, control): 0.01408436253724232\n",
            "mean of computed statistics for (contrl, control): 0.013817322917106694\n"
          ]
        },
        {
          "output_type": "execute_result",
          "data": {
            "text/plain": [
              "<Axes: xlabel='metric', ylabel='difference'>"
            ]
          },
          "metadata": {},
          "execution_count": 23
        },
        {
          "output_type": "display_data",
          "data": {
            "text/plain": [
              "<Figure size 200x400 with 1 Axes>"
            ],
            "image/png": "[encoded data removed]"
          },
          "metadata": {}
        }
      ],
      "source": [
        "def calc_wasserstein(adata,ctrl,conditions,sample_ctrl=False,ctrl1=None,ctrl2=None):\n",
        "    fn=lambda x,y: stats.wasserstein_distance(x,y)\n",
        "    if sample_ctrl:\n",
        "        x,y=ctrl1,ctrl2\n",
        "    else:\n",
        "        x,y=data_prep(adata,ctrl,conditions)\n",
        "    x,y=dist_based(x,y)\n",
        "    return compute_from_sample(x,y,fn)\n",
        "\n",
        "\n",
        "difference7,if_stim7,metric7=test(calc_wasserstein,train,'wasserstein')\n",
        "plt.figure(figsize=(2, 4))\n",
        "df=pd.DataFrame({'difference':difference7, 'if_stim':if_stim7, 'metric':metric7})\n",
        "sns.boxplot(data=df, x=\"metric\", y=\"difference\", hue=\"if_stim\")"
      ]
    },
    {
      "cell_type": "code",
      "execution_count": null,
      "metadata": {
        "id": "TZNkhsJdmeoU"
      },
      "outputs": [],
      "source": []
    }
  ],
  "metadata": {
    "kernelspec": {
      "display_name": "Python 3 (ipykernel)",
      "language": "python",
      "name": "python3"
    },
    "language_info": {
      "codemirror_mode": {
        "name": "ipython",
        "version": 3
      },
      "file_extension": ".py",
      "mimetype": "text/x-python",
      "name": "python",
      "nbconvert_exporter": "python",
      "pygments_lexer": "ipython3",
      "version": "3.8.16"
    },
    "colab": {
      "provenance": []
    }
  },
  "nbformat": 4,
  "nbformat_minor": 0
}