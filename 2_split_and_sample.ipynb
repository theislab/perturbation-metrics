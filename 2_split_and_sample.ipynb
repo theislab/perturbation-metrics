{
 "cells": [
  {
   "cell_type": "code",
   "execution_count": 1,
   "metadata": {
    "pycharm": {
     "is_executing": true
    }
   },
   "outputs": [
    {
     "name": "stderr",
     "output_type": "stream",
     "text": [
      "Global seed set to 0\n",
      "/Users/meiqiliu/miniforge3/envs/fa_base2/lib/python3.8/site-packages/flax/struct.py:132: FutureWarning: jax.tree_util.register_keypaths is deprecated, and will be removed in a future release. Please use `register_pytree_with_keys()` instead.\n",
      "  jax.tree_util.register_keypaths(data_clz, keypaths)\n",
      "/Users/meiqiliu/miniforge3/envs/fa_base2/lib/python3.8/site-packages/flax/struct.py:132: FutureWarning: jax.tree_util.register_keypaths is deprecated, and will be removed in a future release. Please use `register_pytree_with_keys()` instead.\n",
      "  jax.tree_util.register_keypaths(data_clz, keypaths)\n"
     ]
    }
   ],
   "source": [
    "import anndata\n",
    "import scanpy as sc\n",
    "import scgen\n",
    "import pandas as pd  \n",
    "import numpy as np\n",
    "\n",
    "font = {'family' : 'Arial',\n",
    "        'size'   : 14}"
   ]
  },
  {
   "cell_type": "code",
   "execution_count": 2,
   "metadata": {
    "pycharm": {
     "name": "#%%\n"
    }
   },
   "outputs": [
    {
     "name": "stderr",
     "output_type": "stream",
     "text": [
      "/Users/meiqiliu/miniforge3/envs/fa_base2/lib/python3.8/site-packages/anndata/compat/__init__.py:232: FutureWarning: Moving element from .uns['neighbors']['distances'] to .obsp['distances'].\n",
      "\n",
      "This is where adjacency matrices should go now.\n",
      "  warn(\n",
      "/Users/meiqiliu/miniforge3/envs/fa_base2/lib/python3.8/site-packages/anndata/compat/__init__.py:232: FutureWarning: Moving element from .uns['neighbors']['connectivities'] to .obsp['connectivities'].\n",
      "\n",
      "This is where adjacency matrices should go now.\n",
      "  warn(\n"
     ]
    }
   ],
   "source": [
    "train = sc.read(\"./data/train.h5ad\",backup_url='https://drive.google.com/uc?id=1r87vhoLLq6PXAYdmyyd89zG90eJOFYLk')"
   ]
  },
  {
   "cell_type": "code",
   "execution_count": 3,
   "metadata": {},
   "outputs": [
    {
     "name": "stdout",
     "output_type": "stream",
     "text": [
      "AnnData object with n_obs × n_vars = 16893 × 6998\n",
      "    obs: 'condition', 'n_counts', 'n_genes', 'mt_frac', 'cell_type'\n",
      "    var: 'gene_symbol', 'n_cells'\n",
      "    uns: 'cell_type_colors', 'condition_colors', 'neighbors'\n",
      "    obsm: 'X_pca', 'X_tsne', 'X_umap'\n",
      "    obsp: 'distances', 'connectivities'\n",
      "['stimulated', 'stimulated', 'stimulated', 'stimulated', 'stimulated', ..., 'control', 'control', 'control', 'control', 'control']\n",
      "Length: 16893\n",
      "Categories (2, object): ['control', 'stimulated']\n"
     ]
    }
   ],
   "source": [
    "print(train)\n",
    "print(train.obs['condition'].values)"
   ]
  },
  {
   "cell_type": "code",
   "execution_count": 4,
   "metadata": {},
   "outputs": [
    {
     "data": {
      "text/plain": [
       "<8007x6998 sparse matrix of type '<class 'numpy.float32'>'\n",
       "\twith 2634770 stored elements in Compressed Sparse Row format>"
      ]
     },
     "execution_count": 4,
     "metadata": {},
     "output_type": "execute_result"
    }
   ],
   "source": [
    "train[train.obs['condition']=='control'].X"
   ]
  },
  {
   "cell_type": "code",
   "execution_count": 20,
   "metadata": {},
   "outputs": [],
   "source": [
    "import random\n",
    "import numpy as np\n",
    "import pandas as pd\n",
    "\n",
    "# data = [1, 2, 3, 4, 5]\n",
    "# sample_size = 3\n",
    "\n",
    "# sample = random.sample(data, k=sample_size)\n",
    "# print(sample)\n",
    "# print(sample[:2])\n",
    "# x=dict.fromkeys(range(3))\n",
    "# x[0]=4\n",
    "# np.array(x.values())\n",
    "# df = pd.DataFrame({'x':data})\n",
    "# print(df['x'].sample(frac=1, replace=True))\n",
    "# df['x'].sample(frac=1, replace=True)"
   ]
  },
  {
   "cell_type": "code",
   "execution_count": 6,
   "metadata": {},
   "outputs": [
    {
     "data": {
      "text/plain": [
       "(<16893x6998 sparse matrix of type '<class 'numpy.float32'>'\n",
       " \twith 5536840 stored elements in Compressed Sparse Row format>,\n",
       " <16893x6998 sparse matrix of type '<class 'numpy.float32'>'\n",
       " \twith 5528530 stored elements in Compressed Sparse Row format>)"
      ]
     },
     "execution_count": 6,
     "metadata": {},
     "output_type": "execute_result"
    }
   ],
   "source": [
    "import pandas as pd  \n",
    "import numpy as np\n",
    "def sample_obs(adata,with_replacement,size_n):\n",
    "\n",
    "    x = adata.X\n",
    "    #print(x.shape)(16893, 6998)\n",
    "    n_rows=x.shape[0]\n",
    "    \n",
    "    df = pd.DataFrame({'x':np.arange(n_rows)})\n",
    "    #shuffle the data index\n",
    "    x_sample1=df['x'].sample(frac=1, replace=with_replacement).values[:size_n]\n",
    "    x_sample2=df['x'].sample(frac=1, replace=with_replacement).values[:size_n]\n",
    "    \n",
    "    return x[x_sample1,:], x[x_sample2,:]\n",
    "\n",
    "sample_obs(train,True,train.X.shape[0])\n",
    "\n",
    "\n"
   ]
  },
  {
   "cell_type": "code",
   "execution_count": 7,
   "metadata": {},
   "outputs": [
    {
     "name": "stdout",
     "output_type": "stream",
     "text": [
      "mean(sample) 0.8645577239753062\n",
      "0.3744390971168702\n",
      "mean(sample) 0.999843350823882\n"
     ]
    },
    {
     "data": {
      "text/plain": [
       "0.43206085434879543"
      ]
     },
     "execution_count": 7,
     "metadata": {},
     "output_type": "execute_result"
    }
   ],
   "source": [
    "from sklearn.metrics import mean_absolute_error\n",
    "from scipy import stats\n",
    "from scipy.special import kl_div\n",
    "from scipy.stats import entropy\n",
    "\n",
    "def calc_pearson(adata, conditions=None):\n",
    "\n",
    "    control = adata[adata.obs[\"condition\"] == conditions[\"x\"]]\n",
    "    stim = adata[adata.obs[\"condition\"] == conditions[\"y\"]]\n",
    "    #print(control.shape,stim.shape)\n",
    "    n=np.minimum(control.shape[0],stim.shape[0])\n",
    "    \n",
    "    #print(n)\n",
    "    y,_ = sample_obs(control,True,n)\n",
    "    x,_ = sample_obs(stim,True,n)\n",
    "    \n",
    "    x_mean = np.asarray(np.mean(x, axis=0)).ravel()\n",
    "    y_mean = np.asarray(np.mean(y, axis=0)).ravel()\n",
    "    mean = stats.pearsonr(x_mean, y_mean).statistic\n",
    "    print(\"mean(sample)\",mean)\n",
    "    \n",
    "    #print(\"mae:\",mean_absolute_error(y,x))\n",
    "    #if actual value is y and predicted value is x\n",
    "    a=dict.fromkeys(range(x.shape[0]))\n",
    "    pearson_obs=dict.fromkeys(range(x.shape[0]))\n",
    "    x=x.toarray()\n",
    "    y=y.toarray()\n",
    "  \n",
    "    for i in range(x.shape[0]):\n",
    "        #use pd\n",
    "        df = pd.DataFrame({'x':x[i], 'y':y[i]})\n",
    "        matrix=df.corr(method='pearson').values\n",
    "        pearson_obs[i] = matrix[0,1]\n",
    "        \n",
    "        #use scipy\n",
    "        a[i]=stats.pearsonr(x[i], y[i]).statistic\n",
    " \n",
    "\n",
    "    \n",
    "    pr=list(pearson_obs.values())\n",
    "    #print('a:',np.mean(list(a.values())))\n",
    "    \n",
    "   \n",
    "    return np.mean(pr)\n",
    "\n",
    "conditions = {\"x\": \"stimulated\", \"y\": \"control\"}\n",
    "print(calc_pearson(train,conditions))\n",
    "\n",
    "conditions = {\"x\": \"control\", \"y\": \"control\"}\n",
    "calc_pearson(train,conditions)"
   ]
  },
  {
   "cell_type": "code",
   "execution_count": 8,
   "metadata": {},
   "outputs": [
    {
     "name": "stdout",
     "output_type": "stream",
     "text": [
      "mean(sample) 0.01485903\n",
      "0.064406976\n",
      "mean(sample) 0.0015097761\n"
     ]
    },
    {
     "data": {
      "text/plain": [
       "0.061299343"
      ]
     },
     "execution_count": 8,
     "metadata": {},
     "output_type": "execute_result"
    }
   ],
   "source": [
    "from sklearn.metrics import mean_absolute_error\n",
    "from scipy import stats\n",
    "from scipy.special import kl_div\n",
    "from scipy.stats import entropy\n",
    "\n",
    "def calc_mae(adata, conditions=None):\n",
    "\n",
    "    control = adata[adata.obs[\"condition\"] == conditions[\"x\"]]\n",
    "    stim = adata[adata.obs[\"condition\"] == conditions[\"y\"]]\n",
    "    #print(control.shape,stim.shape)\n",
    "    n=np.minimum(control.shape[0],stim.shape[0])\n",
    "    \n",
    "    #print(n)\n",
    "    y,_ = sample_obs(control,True,n)\n",
    "    x,_ = sample_obs(stim,True,n)\n",
    "    \n",
    "    x_mean = np.asarray(np.mean(x, axis=0)).ravel()\n",
    "    y_mean = np.asarray(np.mean(y, axis=0)).ravel()\n",
    "    mean=np.mean(np.abs(y_mean - x_mean))\n",
    "    print(\"mean(sample)\",mean)\n",
    "    \n",
    "    #print(\"mae:\",mean_absolute_error(y,x))\n",
    "    #if actual value is y and predicted value is x\n",
    "    mae_obs=dict.fromkeys(range(x.shape[0]))\n",
    "  \n",
    "    for i in range(x.shape[0]):\n",
    "        mae_obs[i]=np.mean(np.abs(y[i] - x[i]))\n",
    " \n",
    "    \n",
    "    mae=list(mae_obs.values())\n",
    "\n",
    "   \n",
    "    return np.mean(mae)\n",
    "\n",
    "conditions = {\"x\": \"stimulated\", \"y\": \"control\"}\n",
    "print(calc_mae(train,conditions))\n",
    "\n",
    "conditions = {\"x\": \"control\", \"y\": \"control\"}\n",
    "calc_mae(train,conditions)"
   ]
  },
  {
   "cell_type": "code",
   "execution_count": 9,
   "metadata": {},
   "outputs": [
    {
     "name": "stdout",
     "output_type": "stream",
     "text": [
      "0.707142938462377\n",
      "inf\n",
      "0.6946626982940782\n"
     ]
    },
    {
     "data": {
      "text/plain": [
       "inf"
      ]
     },
     "execution_count": 9,
     "metadata": {},
     "output_type": "execute_result"
    }
   ],
   "source": [
    "from scipy.special import kl_div\n",
    "from scipy.stats import entropy \n",
    "from scipy.special import rel_entr\n",
    "from scipy.spatial import distance\n",
    "#old version, per cell \n",
    "def calc_kl(adata, conditions=None):\n",
    "\n",
    "    control = adata[adata.obs[\"condition\"] == conditions[\"x\"]]\n",
    "    stim = adata[adata.obs[\"condition\"] == conditions[\"y\"]]\n",
    "    #print(control.shape,stim.shape)\n",
    "    n=np.minimum(control.shape[0],stim.shape[0])\n",
    "    \n",
    "    #print(n)\n",
    "    y,_ = sample_obs(control,True,n)\n",
    "    x,_ = sample_obs(stim,True,n)\n",
    "    #print(x.shape,y.shape)\n",
    "    x=x.toarray()\n",
    "    y=y.toarray()\n",
    "       \n",
    "    div_obs=dict.fromkeys(range(x.shape[0]))\n",
    "    a=dict.fromkeys(range(x.shape[0]))\n",
    "    for i in range(x.shape[0]):\n",
    "        if np.all(x[i]==0)==True:\n",
    "            print(\"x:\",x[i])\n",
    "        if np.all(y[i]==0)==True:\n",
    "            print(\"y:\",y[i])\n",
    "        #print(x[i])\n",
    "        a[i]=distance.jensenshannon(x[i],y[i])\n",
    "        div_obs[i]=entropy(x[i],y[i])\n",
    "        \n",
    "       \n",
    "    sparse=list(a.values())\n",
    "    div=list(div_obs.values())\n",
    "    print(sum(sparse)/len(sparse))\n",
    "    \n",
    "   \n",
    "    return np.mean(div)\n",
    "\n",
    "conditions = {\"x\": \"stimulated\", \"y\": \"control\"}\n",
    "print(calc_kl(train,conditions))\n",
    "\n",
    "conditions = {\"x\": \"control\", \"y\": \"control\"}\n",
    "calc_kl(train,conditions)"
   ]
  },
  {
   "cell_type": "code",
   "execution_count": 10,
   "metadata": {},
   "outputs": [
    {
     "name": "stderr",
     "output_type": "stream",
     "text": [
      "/Users/meiqiliu/miniforge3/envs/fa_base2/lib/python3.8/site-packages/scipy/spatial/distance.py:1291: RuntimeWarning: invalid value encountered in divide\n",
      "  q = q / np.sum(q, axis=axis, keepdims=True)\n",
      "/Users/meiqiliu/miniforge3/envs/fa_base2/lib/python3.8/site-packages/scipy/spatial/distance.py:1290: RuntimeWarning: invalid value encountered in divide\n",
      "  p = p / np.sum(p, axis=axis, keepdims=True)\n"
     ]
    },
    {
     "name": "stdout",
     "output_type": "stream",
     "text": [
      "0.8127722310129523\n",
      "inf\n"
     ]
    },
    {
     "name": "stderr",
     "output_type": "stream",
     "text": [
      "/Users/meiqiliu/miniforge3/envs/fa_base2/lib/python3.8/site-packages/scipy/spatial/distance.py:1291: RuntimeWarning: invalid value encountered in divide\n",
      "  q = q / np.sum(q, axis=axis, keepdims=True)\n",
      "/Users/meiqiliu/miniforge3/envs/fa_base2/lib/python3.8/site-packages/scipy/spatial/distance.py:1290: RuntimeWarning: invalid value encountered in divide\n",
      "  p = p / np.sum(p, axis=axis, keepdims=True)\n"
     ]
    },
    {
     "name": "stdout",
     "output_type": "stream",
     "text": [
      "0.8120003121053635\n"
     ]
    },
    {
     "data": {
      "text/plain": [
       "inf"
      ]
     },
     "execution_count": 10,
     "metadata": {},
     "output_type": "execute_result"
    }
   ],
   "source": [
    "from scipy.special import kl_div\n",
    "from scipy.stats import entropy \n",
    "from scipy.special import rel_entr\n",
    "from scipy.spatial import distance\n",
    "from scipy.stats import shapiro,ttest_rel,t,ttest_ind\n",
    "#distribution based metrics \n",
    "def calc_kl(adata, conditions=None):\n",
    "\n",
    "    control = adata[adata.obs[\"condition\"] == conditions[\"x\"]]\n",
    "    stim = adata[adata.obs[\"condition\"] == conditions[\"y\"]]\n",
    "    #print(\"ctrl,stim\",control.shape,stim.shape)\n",
    "    n=np.minimum(control.shape[1],stim.shape[1])\n",
    "    m=np.minimum(control.shape[0],stim.shape[0])\n",
    "    #first sample the data by suffling observation\n",
    "    y,_ = sample_obs(control,True,n)\n",
    "    x,_ = sample_obs(stim,True,n)\n",
    "    #subset data for sample to have same length \n",
    "    #transpose data since we compute metric across genes \n",
    "    x=x.T.toarray()\n",
    "    y=y.T.toarray()\n",
    "    \n",
    "    #print(\"x,y\",x.shape,y.shape)\n",
    "\n",
    "    div_obs=dict.fromkeys(range(x.shape[0]))\n",
    "    \n",
    "    kl=0\n",
    "    count_nan=0\n",
    "    for i in range(x.shape[0]):\n",
    "#         if np.all(x[i]==0)==True:\n",
    "#             print(\"x:\",x[i])\n",
    "#         if np.all(y[i]==0)==True:\n",
    "#             print(\"y:\",y[i])\n",
    "        sparse=distance.jensenshannon(x[i],y[i])\n",
    "        if np.isnan(sparse):#nan: caused by division by 0-vector(vec of all 0)\n",
    "            count_nan+=1\n",
    "            div_obs[i]=0\n",
    "        else:\n",
    "            kl+=sparse\n",
    "            div_obs[i]=entropy(x[i],y[i])\n",
    "        #print(distance.jensenshannon(x[i],y[i]))\n",
    " \n",
    "    div=list(div_obs.values())\n",
    "    print(kl/(x.shape[0]-count_nan))\n",
    "    \n",
    "\n",
    "    return np.mean(div)\n",
    "\n",
    "conditions = {\"x\": \"stimulated\", \"y\": \"control\"}\n",
    "print(calc_kl(train,conditions))\n",
    "\n",
    "conditions = {\"x\": \"control\", \"y\": \"control\"}\n",
    "calc_kl(train,conditions)"
   ]
  },
  {
   "cell_type": "code",
   "execution_count": 11,
   "metadata": {},
   "outputs": [
    {
     "name": "stdout",
     "output_type": "stream",
     "text": [
      "t-test: 0.5120583079347397\n",
      "p-value 0.21448338781112083\n",
      "t-test: 0.1373755175959996\n",
      "p-value 0.4964027414717354\n"
     ]
    },
    {
     "data": {
      "text/plain": [
       "0.1373755175959996"
      ]
     },
     "execution_count": 11,
     "metadata": {},
     "output_type": "execute_result"
    }
   ],
   "source": [
    "import scipy.stats as stats\n",
    "def t_test(adata, conditions=None):\n",
    "\n",
    "    control = adata[adata.obs[\"condition\"] == conditions[\"x\"]]\n",
    "    stim = adata[adata.obs[\"condition\"] == conditions[\"y\"]]\n",
    "    n=np.minimum(control.shape[1],stim.shape[1])\n",
    "    m=np.minimum(control.shape[0],stim.shape[0])\n",
    "\n",
    "    y,_ = sample_obs(control,True,n)\n",
    "    x,_ = sample_obs(stim,True,n)   \n",
    "    \n",
    "    x=x.T[:,:m].toarray()\n",
    "    y=y.T[:,:m].toarray()\n",
    "  \n",
    "    t=dict.fromkeys(range(x.shape[1]))\n",
    "    p=0\n",
    "    count_nan=0\n",
    "    for i in range(x.shape[0]):\n",
    "        #print(np.var(x[i]),np.var(y[i]))\n",
    "        t_stats,p_value=stats.ttest_ind(x[i],y[i], equal_var=True)\n",
    "#         t_stats,p_value=ttest_rel(x[i], y[i])\n",
    "        if np.isnan(t_stats):\n",
    "            count_nan+=1\n",
    "            t[i]=0\n",
    "        else:\n",
    "            t[i]=t_stats\n",
    "            p=p+p_value\n",
    "        \n",
    "            \n",
    "#         stat, p = shapiro(y[i])\n",
    "#         if p > 0.05:\n",
    "#             print('Data looks normally distributed')\n",
    "#         else:\n",
    "#             print('Data does not look normally distributed')\n",
    "       \n",
    "    \n",
    "    print(\"t-test:\",np.sum(list(t.values()))/(x.shape[0]-count_nan))\n",
    "    print(\"p-value\",p/(x.shape[0]-count_nan))\n",
    "    \n",
    "   \n",
    "   \n",
    "    return np.sum(list(t.values()))/(x.shape[0]-count_nan)\n",
    "\n",
    "conditions = {\"x\": \"stimulated\", \"y\": \"control\"}\n",
    "t_test(train,conditions)\n",
    "\n",
    "conditions = {\"x\": \"control\", \"y\": \"control\"}\n",
    "t_test(train,conditions)"
   ]
  },
  {
   "cell_type": "code",
   "execution_count": 12,
   "metadata": {},
   "outputs": [],
   "source": [
    "\n",
    "from sklearn import metrics\n",
    "\n",
    "\n",
    "def mmd_linear(X, Y):\n",
    "    \"\"\"MMD using linear kernel (i.e., k(x,y) = <x,y>)\n",
    "    Note that this is not the original linear MMD, only the reformulated and faster version.\n",
    "    The original version is:\n",
    "        def mmd_linear(X, Y):\n",
    "            XX = np.dot(X, X.T)\n",
    "            YY = np.dot(Y, Y.T)\n",
    "            XY = np.dot(X, Y.T)\n",
    "            return XX.mean() + YY.mean() - 2 * XY.mean()\n",
    "    Arguments:\n",
    "        X {[n_sample1, dim]} -- [X matrix]\n",
    "        Y {[n_sample2, dim]} -- [Y matrix]\n",
    "    Returns:\n",
    "        [scalar] -- [MMD value]\n",
    "    \"\"\"\n",
    "    delta = X.mean(0) - Y.mean(0)\n",
    "    return delta.dot(delta.T)\n",
    "\n",
    "\n",
    "def mmd_rbf(X, Y, gamma=1.0):\n",
    "    \"\"\"MMD using rbf (gaussian) kernel (i.e., k(x,y) = exp(-gamma * ||x-y||^2 / 2))\n",
    "    Arguments:\n",
    "        X {[n_sample1, dim]} -- [X matrix]\n",
    "        Y {[n_sample2, dim]} -- [Y matrix]\n",
    "    Keyword Arguments:\n",
    "        gamma {float} -- [kernel parameter] (default: {1.0})\n",
    "    Returns:\n",
    "        [scalar] -- [MMD value]\n",
    "    \"\"\"\n",
    "    XX = metrics.pairwise.rbf_kernel(X, X, gamma)\n",
    "    YY = metrics.pairwise.rbf_kernel(Y, Y, gamma)\n",
    "    XY = metrics.pairwise.rbf_kernel(X, Y, gamma)\n",
    "    return XX.mean() + YY.mean() - 2 * XY.mean()\n",
    "\n",
    "\n",
    "def mmd_poly(X, Y, degree=2, gamma=1, coef0=0):\n",
    "    \"\"\"MMD using polynomial kernel (i.e., k(x,y) = (gamma <X, Y> + coef0)^degree)\n",
    "    Arguments:\n",
    "        X {[n_sample1, dim]} -- [X matrix]\n",
    "        Y {[n_sample2, dim]} -- [Y matrix]\n",
    "    Keyword Arguments:\n",
    "        degree {int} -- [degree] (default: {2})\n",
    "        gamma {int} -- [gamma] (default: {1})\n",
    "        coef0 {int} -- [constant item] (default: {0})\n",
    "    Returns:\n",
    "        [scalar] -- [MMD value]\n",
    "    \"\"\"\n",
    "    XX = metrics.pairwise.polynomial_kernel(X, X, degree, gamma, coef0)\n",
    "    YY = metrics.pairwise.polynomial_kernel(Y, Y, degree, gamma, coef0)\n",
    "    XY = metrics.pairwise.polynomial_kernel(X, Y, degree, gamma, coef0)\n",
    "    return XX.mean() + YY.mean() - 2 * XY.mean()"
   ]
  },
  {
   "cell_type": "code",
   "execution_count": 13,
   "metadata": {},
   "outputs": [
    {
     "name": "stdout",
     "output_type": "stream",
     "text": [
      "mmd linear: 0.5565193\n",
      "mmd rbf:  0.00043091876432299614\n",
      "mmd linear: 0.6081152\n",
      "mmd rbf:  0.0002822889946401119\n"
     ]
    }
   ],
   "source": [
    "def mmd(adata, conditions=None):\n",
    "\n",
    "    control = adata[adata.obs[\"condition\"] == conditions[\"x\"]]\n",
    "    stim = adata[adata.obs[\"condition\"] == conditions[\"y\"]]\n",
    "    n=np.minimum(control.shape[1],stim.shape[1])\n",
    "    m=np.minimum(control.shape[0],stim.shape[0])\n",
    "\n",
    "    y,_ = sample_obs(control,True,n)\n",
    "    x,_ = sample_obs(stim,True,n)   \n",
    "    \n",
    "    x=x.T[:,:m].toarray()\n",
    "    y=y.T[:,:m].toarray()\n",
    "  \n",
    "    print(\"mmd linear:\",mmd_linear(x,y))\n",
    "    print(\"mmd rbf: \",mmd_rbf(x,y))\n",
    "\n",
    "    return None\n",
    "\n",
    "conditions = {\"x\": \"stimulated\", \"y\": \"control\"}\n",
    "mmd(train,conditions)\n",
    "\n",
    "conditions = {\"x\": \"control\", \"y\": \"control\"}\n",
    "mmd(train,conditions)"
   ]
  },
  {
   "cell_type": "code",
   "execution_count": 15,
   "metadata": {},
   "outputs": [
    {
     "name": "stdout",
     "output_type": "stream",
     "text": [
      "0.015276400320477314\n",
      "0.002034795733287141\n"
     ]
    },
    {
     "data": {
      "text/plain": [
       "0.002034795733287141"
      ]
     },
     "execution_count": 15,
     "metadata": {},
     "output_type": "execute_result"
    }
   ],
   "source": [
    "def wasserstein(adata, conditions=None):\n",
    "\n",
    "    control = adata[adata.obs[\"condition\"] == conditions[\"x\"]]\n",
    "    stim = adata[adata.obs[\"condition\"] == conditions[\"y\"]]\n",
    "    n=np.minimum(control.shape[1],stim.shape[1])\n",
    "    m=np.minimum(control.shape[0],stim.shape[0])\n",
    "\n",
    "    y,_ = sample_obs(control,True,n)\n",
    "    x,_ = sample_obs(stim,True,n)   \n",
    "    \n",
    "    x=x.T[:,:m].toarray()\n",
    "    y=y.T[:,:m].toarray()\n",
    "  \n",
    "    d=dict.fromkeys(range(x.shape[1]))\n",
    "    \n",
    "    for i in range(x.shape[0]):\n",
    "       \n",
    "        d[i]=stats.wasserstein_distance(x[i],y[i])\n",
    "         \n",
    "    print(np.mean(list(d.values())))\n",
    "\n",
    "\n",
    "    return np.mean(list(d.values()))\n",
    "\n",
    "conditions = {\"x\": \"stimulated\", \"y\": \"control\"}\n",
    "wasserstein(train,conditions)\n",
    "\n",
    "conditions = {\"x\": \"control\", \"y\": \"control\"}\n",
    "wasserstein(train,conditions)\n"
   ]
  },
  {
   "cell_type": "code",
   "execution_count": 16,
   "metadata": {},
   "outputs": [
    {
     "name": "stdout",
     "output_type": "stream",
     "text": [
      "mean(sample) 6.5710588\n",
      "21.386189\n",
      "mean(sample) 0.23416795\n"
     ]
    },
    {
     "data": {
      "text/plain": [
       "19.898565"
      ]
     },
     "execution_count": 16,
     "metadata": {},
     "output_type": "execute_result"
    }
   ],
   "source": [
    "def calc_euclidean_d(adata, conditions=None):\n",
    "\n",
    "    control = adata[adata.obs[\"condition\"] == conditions[\"x\"]]\n",
    "    stim = adata[adata.obs[\"condition\"] == conditions[\"y\"]]\n",
    "    #print(control.shape,stim.shape)\n",
    "    n=np.minimum(control.shape[0],stim.shape[0])\n",
    "    \n",
    "    #print(n)\n",
    "    y,_ = sample_obs(control,True,n)\n",
    "    x,_ = sample_obs(stim,True,n)\n",
    "    \n",
    "    x_mean = np.asarray(np.mean(x, axis=0)).ravel()\n",
    "    y_mean = np.asarray(np.mean(y, axis=0)).ravel()\n",
    "    mean=np.linalg.norm(x_mean-y_mean)\n",
    "    print(\"mean(sample)\",mean)\n",
    "    \n",
    "    x=x.toarray()\n",
    "    y=y.toarray()\n",
    "       \n",
    "    d_obs=dict.fromkeys(range(x.shape[0]))\n",
    "    a=dict.fromkeys(range(x.shape[0]))\n",
    "    for i in range(x.shape[0]):\n",
    "        \n",
    "        d_obs[i]=np.linalg.norm(x[i]-y[i])\n",
    "        \n",
    "    \n",
    "    distance=list(d_obs.values())\n",
    "\n",
    "   \n",
    "    return np.mean(distance)\n",
    "\n",
    "conditions = {\"x\": \"stimulated\", \"y\": \"control\"}\n",
    "print(calc_euclidean_d(train,conditions))\n",
    "\n",
    "conditions = {\"x\": \"control\", \"y\": \"control\"}\n",
    "calc_euclidean_d(train,conditions)"
   ]
  },
  {
   "cell_type": "code",
   "execution_count": 17,
   "metadata": {},
   "outputs": [
    {
     "name": "stdout",
     "output_type": "stream",
     "text": [
      "mean(sample) 0.7463048378192959\n",
      "0.1525882691324689\n",
      "mean(sample) 0.9996107943932976\n"
     ]
    },
    {
     "data": {
      "text/plain": [
       "0.2024386254743203"
      ]
     },
     "execution_count": 17,
     "metadata": {},
     "output_type": "execute_result"
    }
   ],
   "source": [
    "\n",
    "def calc_r(adata, conditions=None):\n",
    "\n",
    "    control = adata[adata.obs[\"condition\"] == conditions[\"x\"]]\n",
    "    stim = adata[adata.obs[\"condition\"] == conditions[\"y\"]]\n",
    "    #print(control.shape,stim.shape)\n",
    "    n=np.minimum(control.shape[0],stim.shape[0])\n",
    "    \n",
    "    #print(n)\n",
    "    y,_ = sample_obs(control,True,n)\n",
    "    x,_ = sample_obs(stim,True,n)\n",
    "    \n",
    "    x_mean = np.asarray(np.mean(x, axis=0)).ravel()\n",
    "    y_mean = np.asarray(np.mean(y, axis=0)).ravel()\n",
    "    m, b, r_value, p_value, std_err = stats.linregress(x_mean, y_mean)\n",
    "    print(\"mean(sample)\",r_value**2)\n",
    "    \n",
    "    x=x.toarray()\n",
    "    y=y.toarray()\n",
    "       \n",
    "    r_obs=dict.fromkeys(range(x.shape[0]))\n",
    "    \n",
    "    for i in range(x.shape[0]):\n",
    "        m, b, r_value, p_value, std_err = stats.linregress(x[i], y[i])\n",
    "        r_obs[i]=r_value**2\n",
    "        \n",
    "    \n",
    "    rsquare=list(r_obs.values())\n",
    "\n",
    "   \n",
    "    return np.mean(rsquare)\n",
    "\n",
    "conditions = {\"x\": \"stimulated\", \"y\": \"control\"}\n",
    "print(calc_r(train,conditions))\n",
    "\n",
    "conditions = {\"x\": \"control\", \"y\": \"control\"}\n",
    "calc_r(train,conditions)"
   ]
  },
  {
   "cell_type": "code",
   "execution_count": 18,
   "metadata": {},
   "outputs": [
    {
     "data": {
      "text/plain": [
       "stimulated    8886\n",
       "control       8007\n",
       "Name: condition, dtype: int64"
      ]
     },
     "execution_count": 18,
     "metadata": {},
     "output_type": "execute_result"
    }
   ],
   "source": [
    "train.obs.condition.value_counts()"
   ]
  },
  {
   "cell_type": "code",
   "execution_count": null,
   "metadata": {},
   "outputs": [],
   "source": [
    "def compute_mean(sample1,sample2,axis):\n",
    "    return np.mean(sample1,axis),np.mean(sample2,axis)\n",
    "\n"
   ]
  },
  {
   "cell_type": "code",
   "execution_count": null,
   "metadata": {},
   "outputs": [],
   "source": [
    "import pandas as pd  \n",
    "import numpy as np\n",
    "def sample(adata,with_replacement,size_n,by_obs):\n",
    "    x = adata.X\n",
    "    \n",
    "    if by_obs==True:\n",
    "        n=x.shape[0]\n",
    "    else:\n",
    "        n=x.shape[1]\n",
    "    \n",
    "    df = pd.DataFrame({'x':np.arange(n)})\n",
    "    #shuffle the data index\n",
    "    x_sample1=df['x'].sample(frac=1, replace=with_replacement).values[:size_n]\n",
    "    x_sample2=df['x'].sample(frac=1, replace=with_replacement).values[:size_n]\n",
    "    \n",
    "    #compute the mean of sample \n",
    "    if by_obs==True:\n",
    "        sample1=x[x_sample1,:].toarray()\n",
    "        sample2=x[x_sample2,:].toarray()\n",
    "        x,y=compute_mean(sample1,sample2,1)\n",
    "        \n",
    "    else:\n",
    "        sample1=x[:,x_sample1].toarray()\n",
    "        sample2=x[:,x_sample2].toarray()\n",
    "        x,y=compute_mean(sample1,sample2,0)\n",
    "    return x,y\n",
    "    \n",
    "\n",
    "#     x = np.asarray(np.mean(adata.X, axis=0)).ravel()# mean for each col/gene\n",
    "    \n",
    "#     df = pd.DataFrame({'x':x})\n",
    "    \n",
    "#     x_sample1=df['x'].sample(frac=0.5, replace=with_replacement, random_state=1)\n",
    "#     x_sample2=df['x'].sample(frac=0.5, replace=with_replacement, random_state=2)\n",
    "    \n",
    "#     return x_sample1.values, x_sample2.values\n"
   ]
  },
  {
   "cell_type": "code",
   "execution_count": null,
   "metadata": {},
   "outputs": [],
   "source": []
  }
 ],
 "metadata": {
  "kernelspec": {
   "display_name": "fa_base2",
   "language": "python",
   "name": "fa_base2"
  },
  "language_info": {
   "codemirror_mode": {
    "name": "ipython",
    "version": 3
   },
   "file_extension": ".py",
   "mimetype": "text/x-python",
   "name": "python",
   "nbconvert_exporter": "python",
   "pygments_lexer": "ipython3",
   "version": "3.8.16"
  }
 },
 "nbformat": 4,
 "nbformat_minor": 1
}