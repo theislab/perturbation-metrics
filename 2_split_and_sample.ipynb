{
 "cells": [
  {
   "cell_type": "code",
   "execution_count": 1,
   "metadata": {
    "pycharm": {
     "is_executing": true
    }
   },
   "outputs": [
    {
     "name": "stderr",
     "output_type": "stream",
     "text": [
      "Global seed set to 0\n",
      "/Users/meiqiliu/miniforge3/envs/fa_base2/lib/python3.8/site-packages/flax/struct.py:132: FutureWarning: jax.tree_util.register_keypaths is deprecated, and will be removed in a future release. Please use `register_pytree_with_keys()` instead.\n",
      "  jax.tree_util.register_keypaths(data_clz, keypaths)\n",
      "/Users/meiqiliu/miniforge3/envs/fa_base2/lib/python3.8/site-packages/flax/struct.py:132: FutureWarning: jax.tree_util.register_keypaths is deprecated, and will be removed in a future release. Please use `register_pytree_with_keys()` instead.\n",
      "  jax.tree_util.register_keypaths(data_clz, keypaths)\n"
     ]
    }
   ],
   "source": [
    "import anndata\n",
    "import scanpy as sc\n",
    "import scgen\n",
    "import pandas as pd  \n",
    "import numpy as np\n",
    "\n",
    "font = {'family' : 'Arial',\n",
    "        'size'   : 14}"
   ]
  },
  {
   "cell_type": "code",
   "execution_count": 2,
   "metadata": {
    "pycharm": {
     "name": "#%%\n"
    }
   },
   "outputs": [
    {
     "name": "stderr",
     "output_type": "stream",
     "text": [
      "/Users/meiqiliu/miniforge3/envs/fa_base2/lib/python3.8/site-packages/anndata/compat/__init__.py:232: FutureWarning: Moving element from .uns['neighbors']['distances'] to .obsp['distances'].\n",
      "\n",
      "This is where adjacency matrices should go now.\n",
      "  warn(\n",
      "/Users/meiqiliu/miniforge3/envs/fa_base2/lib/python3.8/site-packages/anndata/compat/__init__.py:232: FutureWarning: Moving element from .uns['neighbors']['connectivities'] to .obsp['connectivities'].\n",
      "\n",
      "This is where adjacency matrices should go now.\n",
      "  warn(\n"
     ]
    }
   ],
   "source": [
    "train = sc.read(\"./data/train.h5ad\",backup_url='https://drive.google.com/uc?id=1r87vhoLLq6PXAYdmyyd89zG90eJOFYLk')"
   ]
  },
  {
   "cell_type": "code",
   "execution_count": 3,
   "metadata": {},
   "outputs": [
    {
     "name": "stdout",
     "output_type": "stream",
     "text": [
      "AnnData object with n_obs × n_vars = 16893 × 6998\n",
      "    obs: 'condition', 'n_counts', 'n_genes', 'mt_frac', 'cell_type'\n",
      "    var: 'gene_symbol', 'n_cells'\n",
      "    uns: 'cell_type_colors', 'condition_colors', 'neighbors'\n",
      "    obsm: 'X_pca', 'X_tsne', 'X_umap'\n",
      "    obsp: 'distances', 'connectivities'\n",
      "['stimulated', 'stimulated', 'stimulated', 'stimulated', 'stimulated', ..., 'control', 'control', 'control', 'control', 'control']\n",
      "Length: 16893\n",
      "Categories (2, object): ['control', 'stimulated']\n"
     ]
    }
   ],
   "source": [
    "print(train)\n",
    "print(train.obs['condition'].values)"
   ]
  },
  {
   "cell_type": "code",
   "execution_count": 4,
   "metadata": {},
   "outputs": [
    {
     "data": {
      "text/plain": [
       "<8007x6998 sparse matrix of type '<class 'numpy.float32'>'\n",
       "\twith 2634770 stored elements in Compressed Sparse Row format>"
      ]
     },
     "execution_count": 4,
     "metadata": {},
     "output_type": "execute_result"
    }
   ],
   "source": [
    "train[train.obs['condition']=='control'].X"
   ]
  },
  {
   "cell_type": "code",
   "execution_count": 5,
   "metadata": {},
   "outputs": [
    {
     "name": "stdout",
     "output_type": "stream",
     "text": [
      "[4, 5, 1]\n",
      "[4, 5]\n"
     ]
    },
    {
     "data": {
      "text/plain": [
       "array(dict_values([4, None, None]), dtype=object)"
      ]
     },
     "execution_count": 5,
     "metadata": {},
     "output_type": "execute_result"
    }
   ],
   "source": [
    "import random\n",
    "import numpy as np\n",
    "\n",
    "data = [1, 2, 3, 4, 5]\n",
    "sample_size = 3\n",
    "\n",
    "sample = random.sample(data, k=sample_size)\n",
    "print(sample)\n",
    "print(sample[:2])\n",
    "x=dict.fromkeys(range(3))\n",
    "x[0]=4\n",
    "np.array(x.values())\n"
   ]
  },
  {
   "cell_type": "code",
   "execution_count": 6,
   "metadata": {},
   "outputs": [],
   "source": [
    "import pandas as pd  \n",
    "import numpy as np\n",
    "def sample_obs(adata,with_replacement,size_n):\n",
    "\n",
    "    x = adata.X\n",
    "    n_rows=x.shape[0]\n",
    "    \n",
    "    df = pd.DataFrame({'x':np.arange(n_rows)})\n",
    "    #shuffle the data \n",
    "    x_sample1=df['x'].sample(frac=1, replace=with_replacement).values[:size_n]\n",
    "    x_sample2=df['x'].sample(frac=1, replace=with_replacement).values[:size_n]\n",
    "    \n",
    "    return x[x_sample1,:], x[x_sample2,:]\n",
    "\n",
    "x,y=sample_obs(train,True,train.shape[0])\n",
    "\n",
    "\n"
   ]
  },
  {
   "cell_type": "code",
   "execution_count": 7,
   "metadata": {},
   "outputs": [
    {
     "name": "stdout",
     "output_type": "stream",
     "text": [
      "0.3760807457999495\n"
     ]
    },
    {
     "data": {
      "text/plain": [
       "0.43203635829693504"
      ]
     },
     "execution_count": 7,
     "metadata": {},
     "output_type": "execute_result"
    }
   ],
   "source": [
    "from sklearn.metrics import mean_absolute_error\n",
    "from scipy import stats\n",
    "from scipy.special import kl_div\n",
    "from scipy.stats import entropy\n",
    "\n",
    "def calc_pearson(adata, conditions=None):\n",
    "\n",
    "    control = adata[adata.obs[\"condition\"] == conditions[\"x\"]]\n",
    "    stim = adata[adata.obs[\"condition\"] == conditions[\"y\"]]\n",
    "    #print(control.shape,stim.shape)\n",
    "    n=np.minimum(control.shape[0],stim.shape[0])\n",
    "    \n",
    "    #print(n)\n",
    "    y,_ = sample_obs(control,True,n)\n",
    "    x,_ = sample_obs(stim,True,n)\n",
    "    \n",
    "    #x = np.asarray(np.mean(x, axis=0)).ravel()\n",
    "    #y = np.asarray(np.mean(y, axis=0)).ravel()\n",
    "    \n",
    "    #print(\"mae:\",mean_absolute_error(y,x))\n",
    "    #if actual value is y and predicted value is x\n",
    "    mae_obs=dict.fromkeys(range(x.shape[0]))\n",
    "    div_obs=dict.fromkeys(range(x.shape[0]))\n",
    "    a=dict.fromkeys(range(x.shape[0]))\n",
    "    pearson_obs=dict.fromkeys(range(x.shape[0]))\n",
    "    x=x.toarray()\n",
    "    y=y.toarray()\n",
    "  \n",
    "    for i in range(x.shape[0]):\n",
    "        #use pd\n",
    "        df = pd.DataFrame({'x':x[i], 'y':y[i]})\n",
    "        matrix=df.corr(method='pearson').values\n",
    "        pearson_obs[i] = matrix[0,1]\n",
    "        \n",
    "        #use scipy\n",
    "        a[i]=stats.pearsonr(x[i], y[i]).statistic\n",
    " \n",
    "\n",
    "    \n",
    "    pr=list(pearson_obs.values())\n",
    "    #print('a:',np.mean(list(a.values())))\n",
    "    \n",
    "   \n",
    "    return np.mean(pr)\n",
    "\n",
    "conditions = {\"x\": \"stimulated\", \"y\": \"control\"}\n",
    "print(calc_pearson(train,conditions))\n",
    "\n",
    "conditions = {\"x\": \"control\", \"y\": \"control\"}\n",
    "calc_pearson(train,conditions)"
   ]
  },
  {
   "cell_type": "code",
   "execution_count": 8,
   "metadata": {},
   "outputs": [
    {
     "name": "stdout",
     "output_type": "stream",
     "text": [
      "0.06448077\n"
     ]
    },
    {
     "data": {
      "text/plain": [
       "0.061301168"
      ]
     },
     "execution_count": 8,
     "metadata": {},
     "output_type": "execute_result"
    }
   ],
   "source": [
    "from sklearn.metrics import mean_absolute_error\n",
    "from scipy import stats\n",
    "from scipy.special import kl_div\n",
    "from scipy.stats import entropy\n",
    "\n",
    "def calc_mae(adata, conditions=None):\n",
    "\n",
    "    control = adata[adata.obs[\"condition\"] == conditions[\"x\"]]\n",
    "    stim = adata[adata.obs[\"condition\"] == conditions[\"y\"]]\n",
    "    #print(control.shape,stim.shape)\n",
    "    n=np.minimum(control.shape[0],stim.shape[0])\n",
    "    \n",
    "    #print(n)\n",
    "    y,_ = sample_obs(control,True,n)\n",
    "    x,_ = sample_obs(stim,True,n)\n",
    "    \n",
    "    #x = np.asarray(np.mean(x, axis=0)).ravel()\n",
    "    #y = np.asarray(np.mean(y, axis=0)).ravel()\n",
    "    \n",
    "    #print(\"mae:\",mean_absolute_error(y,x))\n",
    "    #if actual value is y and predicted value is x\n",
    "    mae_obs=dict.fromkeys(range(x.shape[0]))\n",
    "  \n",
    "    for i in range(x.shape[0]):\n",
    "        mae_obs[i]=np.mean(np.abs(y[i] - x[i]))\n",
    " \n",
    "    \n",
    "    mae=list(mae_obs.values())\n",
    "\n",
    "   \n",
    "    return np.mean(mae)\n",
    "\n",
    "conditions = {\"x\": \"stimulated\", \"y\": \"control\"}\n",
    "print(calc_mae(train,conditions))\n",
    "\n",
    "conditions = {\"x\": \"control\", \"y\": \"control\"}\n",
    "calc_mae(train,conditions)"
   ]
  },
  {
   "cell_type": "code",
   "execution_count": 64,
   "metadata": {},
   "outputs": [
    {
     "name": "stdout",
     "output_type": "stream",
     "text": [
      "0.7069505837722218\n",
      "0.7069505837722204\n",
      "0.6950556263829044\n"
     ]
    },
    {
     "data": {
      "text/plain": [
       "0.6950556263829042"
      ]
     },
     "execution_count": 64,
     "metadata": {},
     "output_type": "execute_result"
    }
   ],
   "source": [
    "from scipy.special import kl_div\n",
    "from scipy.stats import entropy \n",
    "from scipy.special import rel_entr\n",
    "from scipy.spatial import distance\n",
    "\n",
    "def calc_kl(adata, conditions=None):\n",
    "\n",
    "    control = adata[adata.obs[\"condition\"] == conditions[\"x\"]]\n",
    "    stim = adata[adata.obs[\"condition\"] == conditions[\"y\"]]\n",
    "    #print(control.shape,stim.shape)\n",
    "    n=np.minimum(control.shape[0],stim.shape[0])\n",
    "    \n",
    "    #print(n)\n",
    "    y,_ = sample_obs(control,True,n)\n",
    "    x,_ = sample_obs(stim,True,n)\n",
    "    x=x.toarray()\n",
    "    y=y.toarray()\n",
    "       \n",
    "    div_obs=dict.fromkeys(range(x.shape[0]))\n",
    "    a=dict.fromkeys(range(x.shape[0]))\n",
    "    for i in range(x.shape[0]):\n",
    "#         if np.all(x[i]==0)==False:\n",
    "#             print(\"x:\",x[i])\n",
    "#         if np.all(y[i]==0)==False:\n",
    "#             print(\"y:\",y[i])\n",
    "        \n",
    "        a[i]=distance.jensenshannon(x[i],y[i])\n",
    "        div_obs[i]=entropy(x[i],y[i])\n",
    "        \n",
    "       \n",
    "    sparse=list(a.values())\n",
    "    div=list(div_obs.values())\n",
    "    print(sum(sparse)/len(sparse))\n",
    "    \n",
    "   \n",
    "    return np.mean(sparse)\n",
    "\n",
    "conditions = {\"x\": \"stimulated\", \"y\": \"control\"}\n",
    "print(calc_kl(train,conditions))\n",
    "\n",
    "conditions = {\"x\": \"control\", \"y\": \"control\"}\n",
    "calc_kl(train,conditions)"
   ]
  },
  {
   "cell_type": "code",
   "execution_count": 65,
   "metadata": {},
   "outputs": [
    {
     "name": "stdout",
     "output_type": "stream",
     "text": [
      "21.382507\n"
     ]
    },
    {
     "data": {
      "text/plain": [
       "19.883062"
      ]
     },
     "execution_count": 65,
     "metadata": {},
     "output_type": "execute_result"
    }
   ],
   "source": [
    "def calc_euclidean_d(adata, conditions=None):\n",
    "\n",
    "    control = adata[adata.obs[\"condition\"] == conditions[\"x\"]]\n",
    "    stim = adata[adata.obs[\"condition\"] == conditions[\"y\"]]\n",
    "    #print(control.shape,stim.shape)\n",
    "    n=np.minimum(control.shape[0],stim.shape[0])\n",
    "    \n",
    "    #print(n)\n",
    "    y,_ = sample_obs(control,True,n)\n",
    "    x,_ = sample_obs(stim,True,n)\n",
    "    x=x.toarray()\n",
    "    y=y.toarray()\n",
    "       \n",
    "    d_obs=dict.fromkeys(range(x.shape[0]))\n",
    "    a=dict.fromkeys(range(x.shape[0]))\n",
    "    for i in range(x.shape[0]):\n",
    "        \n",
    "        d_obs[i]=np.linalg.norm(x[i]-y[i])\n",
    "        \n",
    "    \n",
    "    distance=list(d_obs.values())\n",
    "\n",
    "   \n",
    "    return np.mean(distance)\n",
    "\n",
    "conditions = {\"x\": \"stimulated\", \"y\": \"control\"}\n",
    "print(calc_euclidean_d(train,conditions))\n",
    "\n",
    "conditions = {\"x\": \"control\", \"y\": \"control\"}\n",
    "calc_euclidean_d(train,conditions)"
   ]
  },
  {
   "cell_type": "code",
   "execution_count": 67,
   "metadata": {},
   "outputs": [
    {
     "name": "stdout",
     "output_type": "stream",
     "text": [
      "0.1528904405733022\n"
     ]
    },
    {
     "data": {
      "text/plain": [
       "0.2026452078620873"
      ]
     },
     "execution_count": 67,
     "metadata": {},
     "output_type": "execute_result"
    }
   ],
   "source": [
    "\n",
    "def calc_r(adata, conditions=None):\n",
    "\n",
    "    control = adata[adata.obs[\"condition\"] == conditions[\"x\"]]\n",
    "    stim = adata[adata.obs[\"condition\"] == conditions[\"y\"]]\n",
    "    #print(control.shape,stim.shape)\n",
    "    n=np.minimum(control.shape[0],stim.shape[0])\n",
    "    \n",
    "    #print(n)\n",
    "    y,_ = sample_obs(control,True,n)\n",
    "    x,_ = sample_obs(stim,True,n)\n",
    "    x=x.toarray()\n",
    "    y=y.toarray()\n",
    "       \n",
    "    r_obs=dict.fromkeys(range(x.shape[0]))\n",
    "    \n",
    "    for i in range(x.shape[0]):\n",
    "        m, b, r_value, p_value, std_err = stats.linregress(x[i], y[i])\n",
    "        r_obs[i]=r_value**2\n",
    "        \n",
    "    \n",
    "    rsquare=list(r_obs.values())\n",
    "\n",
    "   \n",
    "    return np.mean(rsquare)\n",
    "\n",
    "conditions = {\"x\": \"stimulated\", \"y\": \"control\"}\n",
    "print(calc_r(train,conditions))\n",
    "\n",
    "conditions = {\"x\": \"control\", \"y\": \"control\"}\n",
    "calc_r(train,conditions)"
   ]
  },
  {
   "cell_type": "code",
   "execution_count": 10,
   "metadata": {},
   "outputs": [
    {
     "data": {
      "text/plain": [
       "stimulated    8886\n",
       "control       8007\n",
       "Name: condition, dtype: int64"
      ]
     },
     "execution_count": 10,
     "metadata": {},
     "output_type": "execute_result"
    }
   ],
   "source": [
    "train.obs.condition.value_counts()"
   ]
  },
  {
   "cell_type": "code",
   "execution_count": 11,
   "metadata": {},
   "outputs": [
    {
     "ename": "NameError",
     "evalue": "name 'control' is not defined",
     "output_type": "error",
     "traceback": [
      "\u001b[0;31m---------------------------------------------------------------------------\u001b[0m",
      "\u001b[0;31mNameError\u001b[0m                                 Traceback (most recent call last)",
      "Cell \u001b[0;32mIn[11], line 30\u001b[0m\n\u001b[1;32m     27\u001b[0m     \u001b[38;5;28;01mreturn\u001b[39;00m divergence\n\u001b[1;32m     29\u001b[0m conditions \u001b[38;5;241m=\u001b[39m {\u001b[38;5;124m\"\u001b[39m\u001b[38;5;124mx\u001b[39m\u001b[38;5;124m\"\u001b[39m: \u001b[38;5;124m\"\u001b[39m\u001b[38;5;124mstimulated\u001b[39m\u001b[38;5;124m\"\u001b[39m, \u001b[38;5;124m\"\u001b[39m\u001b[38;5;124my\u001b[39m\u001b[38;5;124m\"\u001b[39m: \u001b[38;5;124m\"\u001b[39m\u001b[38;5;124mcontrol\u001b[39m\u001b[38;5;124m\"\u001b[39m}\n\u001b[0;32m---> 30\u001b[0m \u001b[38;5;28mprint\u001b[39m(\u001b[43mcalc_kl\u001b[49m\u001b[43m(\u001b[49m\u001b[43mtrain\u001b[49m\u001b[43m,\u001b[49m\u001b[43mconditions\u001b[49m\u001b[43m)\u001b[49m)\n\u001b[1;32m     32\u001b[0m conditions \u001b[38;5;241m=\u001b[39m {\u001b[38;5;124m\"\u001b[39m\u001b[38;5;124mx\u001b[39m\u001b[38;5;124m\"\u001b[39m: \u001b[38;5;124m\"\u001b[39m\u001b[38;5;124mcontrol\u001b[39m\u001b[38;5;124m\"\u001b[39m, \u001b[38;5;124m\"\u001b[39m\u001b[38;5;124my\u001b[39m\u001b[38;5;124m\"\u001b[39m: \u001b[38;5;124m\"\u001b[39m\u001b[38;5;124mcontrol\u001b[39m\u001b[38;5;124m\"\u001b[39m}\n\u001b[1;32m     33\u001b[0m calc_kl(train,conditions)\n",
      "Cell \u001b[0;32mIn[11], line 7\u001b[0m, in \u001b[0;36mcalc_kl\u001b[0;34m(adata, conditions)\u001b[0m\n\u001b[1;32m      5\u001b[0m real_stim \u001b[38;5;241m=\u001b[39m adata[adata\u001b[38;5;241m.\u001b[39mobs[\u001b[38;5;124m\"\u001b[39m\u001b[38;5;124mcondition\u001b[39m\u001b[38;5;124m\"\u001b[39m] \u001b[38;5;241m==\u001b[39m conditions[\u001b[38;5;124m\"\u001b[39m\u001b[38;5;124mx\u001b[39m\u001b[38;5;124m\"\u001b[39m]]\n\u001b[1;32m      6\u001b[0m pred_stim \u001b[38;5;241m=\u001b[39m adata[adata\u001b[38;5;241m.\u001b[39mobs[\u001b[38;5;124m\"\u001b[39m\u001b[38;5;124mcondition\u001b[39m\u001b[38;5;124m\"\u001b[39m] \u001b[38;5;241m==\u001b[39m conditions[\u001b[38;5;124m\"\u001b[39m\u001b[38;5;124my\u001b[39m\u001b[38;5;124m\"\u001b[39m]]\n\u001b[0;32m----> 7\u001b[0m n\u001b[38;5;241m=\u001b[39mnp\u001b[38;5;241m.\u001b[39mminimum(\u001b[43mcontrol\u001b[49m\u001b[38;5;241m.\u001b[39mshape[\u001b[38;5;241m0\u001b[39m],stim\u001b[38;5;241m.\u001b[39mshape[\u001b[38;5;241m0\u001b[39m])\n\u001b[1;32m      9\u001b[0m y,_ \u001b[38;5;241m=\u001b[39m sample_obs(pred_stim,\u001b[38;5;28;01mTrue\u001b[39;00m,n)\n\u001b[1;32m     10\u001b[0m x,_ \u001b[38;5;241m=\u001b[39m sample_obs(real_stim,\u001b[38;5;28;01mTrue\u001b[39;00m,n)\n",
      "\u001b[0;31mNameError\u001b[0m: name 'control' is not defined"
     ]
    }
   ],
   "source": [
    "from scipy.special import kl_div\n",
    "from scipy.stats import entropy\n",
    "def calc_kl(adata, conditions=None):\n",
    "\n",
    "    real_stim = adata[adata.obs[\"condition\"] == conditions[\"x\"]]\n",
    "    pred_stim = adata[adata.obs[\"condition\"] == conditions[\"y\"]]\n",
    "    n=np.minimum(control.shape[0],stim.shape[0])\n",
    "    \n",
    "    y,_ = sample_obs(pred_stim,True,n)\n",
    "    x,_ = sample_obs(real_stim,True,n)\n",
    "   \n",
    "    x = np.asarray(np.mean(x, axis=0)).ravel()\n",
    "    y = np.asarray(np.mean(y, axis=0)).ravel()\n",
    "    \n",
    "    divergence=kl_div(x,y)\n",
    "    print(\"divergence: \",entropy(x,y))\n",
    "    m, b, r_value, p_value, std_err = stats.linregress(x, y)\n",
    "    print(\"r square:\",r_value**2)\n",
    "    df = pd.DataFrame({'x':x, 'y':y})\n",
    "    # compute pearson correlation\n",
    "    r = df['x'].corr(df['y'])\n",
    "    print(\"pearson_correlation:\",r)\n",
    "    d=np.linalg.norm(x-y)\n",
    "    print(\"euclidean distance: \",d)\n",
    "\n",
    "    \n",
    "    return divergence\n",
    "\n",
    "conditions = {\"x\": \"stimulated\", \"y\": \"control\"}\n",
    "print(calc_kl(train,conditions))\n",
    "\n",
    "conditions = {\"x\": \"control\", \"y\": \"control\"}\n",
    "calc_kl(train,conditions)"
   ]
  },
  {
   "cell_type": "code",
   "execution_count": null,
   "metadata": {},
   "outputs": [],
   "source": [
    "import pandas as pd  \n",
    "import numpy as np\n",
    "def sample(adata,with_replacement):\n",
    "\n",
    "    x = np.asarray(np.mean(adata.X, axis=0)).ravel()# always compute mean across n_obs?\n",
    "    \n",
    "    df = pd.DataFrame({'x':x})\n",
    "    \n",
    "    x_sample1=df['x'].sample(frac=0.5, replace=with_replacement, random_state=1)\n",
    "    x_sample2=df['x'].sample(frac=0.5, replace=with_replacement, random_state=2)\n",
    "    \n",
    "    return x_sample1.values, x_sample2.values\n"
   ]
  },
  {
   "cell_type": "code",
   "execution_count": null,
   "metadata": {},
   "outputs": [],
   "source": [
    "def sample2(adata,with_replacement,condition):\n",
    "    x_adata = adata[adata.obs[\"condition\"] == conditions[\"x\"]]\n",
    "    y_adata = adata[adata.obs[\"condition\"] == conditions[\"y\"]]\n",
    "        \n",
    "    x = np.asarray(np.mean(x_adata.X, axis=0)).ravel()# always compute mean across n_obs?\n",
    "    y = np.asarray(np.mean(y_adata.X, axis=0)).ravel()\n",
    "    df = pd.DataFrame({'x':x,'y':y})\n",
    "    \n",
    "    x_sample=df['x'].sample(frac=0.5, replace=with_replacement, random_state=1)\n",
    "    y_sample=df['y'].sample(frac=0.5, replace=with_replacement, random_state=1)\n",
    "    \n",
    "    return x_sample.values, y_sample.values\n",
    "\n",
    "conditions = {\"x\": \"control\", \"y\": \"control\"}\n",
    "x_sample, y_sample=sample2(train,True,conditions)"
   ]
  },
  {
   "cell_type": "code",
   "execution_count": null,
   "metadata": {},
   "outputs": [],
   "source": [
    "\n",
    "sample1, sample2=sample(train,True)\n",
    "print(\"sample1: \",sample1)\n",
    "print(\"sample2: \",sample2)\n",
    "print(np.sum(sample1-sample2))"
   ]
  },
  {
   "cell_type": "code",
   "execution_count": null,
   "metadata": {},
   "outputs": [],
   "source": [
    "from sklearn.metrics import mean_absolute_error\n",
    "def calc_mae(adata, conditions=None):\n",
    "\n",
    "    real_stim = adata[adata.obs[\"condition\"] == conditions[\"x\"]]\n",
    "    pred_stim = adata[adata.obs[\"condition\"] == conditions[\"y\"]]\n",
    "    \n",
    "    y,_ = sample(pred_stim,True)\n",
    "    x,_ = sample(real_stim,True)\n",
    "    print(x)\n",
    "    \n",
    "    print(\"mae:\",mean_absolute_error(y,x))\n",
    "    #if actual value is y and predicted value is x\n",
    "    mae=np.mean(np.abs(np.array(y) - np.array(x)))\n",
    "    #statistic, p_value = stats.wilcoxon(x-y)\n",
    "\n",
    "# Output the test results\n",
    "#     print(\"Wilcoxon signed-rank statistic:\", statistic)\n",
    "#     print(\"p-value:\", p_value)\n",
    "    \n",
    "    return mae\n",
    "# cell_types = [\"B\", \"CD14-Mono\", \"CD4-T\", \"CD8-T\", \"DC\", \"F-Mono\", \"NK\"]\n",
    "conditions = {\"x\": \"stimulated\", \"y\": \"control\"}\n",
    "calc_mae(train,conditions)\n",
    "\n",
    "conditions = {\"x\": \"control\", \"y\": \"control\"}\n",
    "calc_mae(train,conditions)"
   ]
  },
  {
   "cell_type": "code",
   "execution_count": null,
   "metadata": {},
   "outputs": [],
   "source": [
    "from scipy.special import kl_div\n",
    "from scipy.stats import entropy\n",
    "from scipy import stats\n",
    "def calc_kl(adata, conditions=None):\n",
    "\n",
    "    real_stim = adata[adata.obs[\"condition\"] == conditions[\"x\"]]\n",
    "    pred_stim = adata[adata.obs[\"condition\"] == conditions[\"y\"]]\n",
    "    \n",
    "    y,_ = sample(pred_stim,True)\n",
    "    x,_ = sample(real_stim,True)\n",
    "    \n",
    "    m, b, r_value, p_value, std_err = stats.linregress(x, y)\n",
    "   \n",
    "    \n",
    "    divergence=kl_div(x,y)\n",
    "    print(entropy(x,y))\n",
    "    print(\"r square:\",r_value**2)\n",
    "    \n",
    "    return divergence\n",
    "\n",
    "conditions = {\"x\": \"stimulated\", \"y\": \"control\"}\n",
    "calc_kl(train,conditions)\n",
    "\n",
    "conditions = {\"x\": \"control\", \"y\": \"control\"}\n",
    "calc_kl(train,conditions)"
   ]
  },
  {
   "cell_type": "code",
   "execution_count": null,
   "metadata": {},
   "outputs": [],
   "source": [
    "conditions = {\"x\": \"control\", \"y\": \"control\"}\n",
    "calc_mae(train,conditions=conditions)"
   ]
  },
  {
   "cell_type": "code",
   "execution_count": null,
   "metadata": {},
   "outputs": [],
   "source": []
  }
 ],
 "metadata": {
  "kernelspec": {
   "display_name": "fa_base2",
   "language": "python",
   "name": "fa_base2"
  },
  "language_info": {
   "codemirror_mode": {
    "name": "ipython",
    "version": 3
   },
   "file_extension": ".py",
   "mimetype": "text/x-python",
   "name": "python",
   "nbconvert_exporter": "python",
   "pygments_lexer": "ipython3",
   "version": "3.8.16"
  }
 },
 "nbformat": 4,
 "nbformat_minor": 1
}
