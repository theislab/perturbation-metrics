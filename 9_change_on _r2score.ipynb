{
  "cells": [
    {
      "cell_type": "code",
      "execution_count": null,
      "metadata": {
        "colab": {
          "base_uri": "https://localhost:8080/"
        },
        "id": "2ZqHUFxxmiIi",
        "outputId": "10b9fb00-61ff-4a98-b216-0c7d2b37b266"
      },
      "outputs": [
        {
          "name": "stdout",
          "output_type": "stream",
          "text": [
            "Mounted at /content/drive\n",
            "/content/drive/MyDrive/Colab_Notebooks/perturbation_metric_test\n",
            "Looking in indexes: https://pypi.org/simple, https://us-python.pkg.dev/colab-wheels/public/simple/\n",
            "Collecting anndata\n",
            "  Downloading anndata-0.9.1-py3-none-any.whl (102 kB)\n",
            "\u001b[2K     \u001b[90m━━━━━━━━━━━━━━━━━━━━━━━━━━━━━━━━━━━━━━━\u001b[0m \u001b[32m103.0/103.0 kB\u001b[0m \u001b[31m5.4 MB/s\u001b[0m eta \u001b[36m0:00:00\u001b[0m\n",
            "\u001b[?25hRequirement already satisfied: pandas>=1.1.1 in /usr/local/lib/python3.10/dist-packages (from anndata) (1.5.3)\n",
            "Requirement already satisfied: numpy>=1.16.5 in /usr/local/lib/python3.10/dist-packages (from anndata) (1.22.4)\n",
            "Requirement already satisfied: scipy>1.4 in /usr/local/lib/python3.10/dist-packages (from anndata) (1.10.1)\n",
            "Requirement already satisfied: h5py>=3 in /usr/local/lib/python3.10/dist-packages (from anndata) (3.8.0)\n",
            "Requirement already satisfied: natsort in /usr/local/lib/python3.10/dist-packages (from anndata) (8.3.1)\n",
            "Requirement already satisfied: packaging>=20 in /usr/local/lib/python3.10/dist-packages (from anndata) (23.1)\n",
            "Requirement already satisfied: python-dateutil>=2.8.1 in /usr/local/lib/python3.10/dist-packages (from pandas>=1.1.1->anndata) (2.8.2)\n",
            "Requirement already satisfied: pytz>=2020.1 in /usr/local/lib/python3.10/dist-packages (from pandas>=1.1.1->anndata) (2022.7.1)\n",
            "Requirement already satisfied: six>=1.5 in /usr/local/lib/python3.10/dist-packages (from python-dateutil>=2.8.1->pandas>=1.1.1->anndata) (1.16.0)\n",
            "Installing collected packages: anndata\n",
            "Successfully installed anndata-0.9.1\n",
            "Looking in indexes: https://pypi.org/simple, https://us-python.pkg.dev/colab-wheels/public/simple/\n",
            "Collecting git+https://github.com/theislab/scgen.git\n",
            "  Cloning https://github.com/theislab/scgen.git to /tmp/pip-req-build-2to9zuc5\n",
            "  Running command git clone --filter=blob:none --quiet https://github.com/theislab/scgen.git /tmp/pip-req-build-2to9zuc5\n",
            "  Resolved https://github.com/theislab/scgen.git to commit 06084773e56cad0dec340138441dee47a39af752\n",
            "  Installing build dependencies ... \u001b[?25l\u001b[?25hdone\n",
            "  Getting requirements to build wheel ... \u001b[?25l\u001b[?25hdone\n",
            "  Preparing metadata (pyproject.toml) ... \u001b[?25l\u001b[?25hdone\n",
            "Collecting adjustText (from scgen==2.1.1)\n",
            "  Downloading adjustText-0.8-py3-none-any.whl (9.1 kB)\n",
            "Requirement already satisfied: anndata>=0.7.5 in /usr/local/lib/python3.10/dist-packages (from scgen==2.1.1) (0.9.1)\n",
            "Requirement already satisfied: matplotlib!=3.7.0 in /usr/local/lib/python3.10/dist-packages (from scgen==2.1.1) (3.7.1)\n",
            "Collecting scanpy>=1.6 (from scgen==2.1.1)\n",
            "  Downloading scanpy-1.9.3-py3-none-any.whl (2.0 MB)\n",
            "\u001b[2K     \u001b[90m━━━━━━━━━━━━━━━━━━━━━━━━━━━━━━━━━━━━━━━━\u001b[0m \u001b[32m2.0/2.0 MB\u001b[0m \u001b[31m38.4 MB/s\u001b[0m eta \u001b[36m0:00:00\u001b[0m\n",
            "\u001b[?25hCollecting scvi-tools>=0.20.0 (from scgen==2.1.1)\n",
            "  Downloading scvi_tools-1.0.0-py3-none-any.whl (351 kB)\n",
            "\u001b[2K     \u001b[90m━━━━━━━━━━━━━━━━━━━━━━━━━━━━━━━━━━━━━━\u001b[0m \u001b[32m351.0/351.0 kB\u001b[0m \u001b[31m30.1 MB/s\u001b[0m eta \u001b[36m0:00:00\u001b[0m\n",
            "\u001b[?25hRequirement already satisfied: seaborn>=0.11 in /usr/local/lib/python3.10/dist-packages (from scgen==2.1.1) (0.12.2)\n",
            "Requirement already satisfied: pandas>=1.1.1 in /usr/local/lib/python3.10/dist-packages (from anndata>=0.7.5->scgen==2.1.1) (1.5.3)\n",
            "Requirement already satisfied: numpy>=1.16.5 in /usr/local/lib/python3.10/dist-packages (from anndata>=0.7.5->scgen==2.1.1) (1.22.4)\n",
            "Requirement already satisfied: scipy>1.4 in /usr/local/lib/python3.10/dist-packages (from anndata>=0.7.5->scgen==2.1.1) (1.10.1)\n",
            "Requirement already satisfied: h5py>=3 in /usr/local/lib/python3.10/dist-packages (from anndata>=0.7.5->scgen==2.1.1) (3.8.0)\n",
            "Requirement already satisfied: natsort in /usr/local/lib/python3.10/dist-packages (from anndata>=0.7.5->scgen==2.1.1) (8.3.1)\n",
            "Requirement already satisfied: packaging>=20 in /usr/local/lib/python3.10/dist-packages (from anndata>=0.7.5->scgen==2.1.1) (23.1)\n",
            "Requirement already satisfied: contourpy>=1.0.1 in /usr/local/lib/python3.10/dist-packages (from matplotlib!=3.7.0->scgen==2.1.1) (1.0.7)\n",
            "Requirement already satisfied: cycler>=0.10 in /usr/local/lib/python3.10/dist-packages (from matplotlib!=3.7.0->scgen==2.1.1) (0.11.0)\n",
            "Requirement already satisfied: fonttools>=4.22.0 in /usr/local/lib/python3.10/dist-packages (from matplotlib!=3.7.0->scgen==2.1.1) (4.39.3)\n",
            "Requirement already satisfied: kiwisolver>=1.0.1 in /usr/local/lib/python3.10/dist-packages (from matplotlib!=3.7.0->scgen==2.1.1) (1.4.4)\n",
            "Requirement already satisfied: pillow>=6.2.0 in /usr/local/lib/python3.10/dist-packages (from matplotlib!=3.7.0->scgen==2.1.1) (8.4.0)\n",
            "Requirement already satisfied: pyparsing>=2.3.1 in /usr/local/lib/python3.10/dist-packages (from matplotlib!=3.7.0->scgen==2.1.1) (3.0.9)\n",
            "Requirement already satisfied: python-dateutil>=2.7 in /usr/local/lib/python3.10/dist-packages (from matplotlib!=3.7.0->scgen==2.1.1) (2.8.2)\n",
            "Requirement already satisfied: tqdm in /usr/local/lib/python3.10/dist-packages (from scanpy>=1.6->scgen==2.1.1) (4.65.0)\n",
            "Requirement already satisfied: scikit-learn>=0.22 in /usr/local/lib/python3.10/dist-packages (from scanpy>=1.6->scgen==2.1.1) (1.2.2)\n",
            "Requirement already satisfied: statsmodels>=0.10.0rc2 in /usr/local/lib/python3.10/dist-packages (from scanpy>=1.6->scgen==2.1.1) (0.13.5)\n",
            "Requirement already satisfied: patsy in /usr/local/lib/python3.10/dist-packages (from scanpy>=1.6->scgen==2.1.1) (0.5.3)\n",
            "Requirement already satisfied: networkx>=2.3 in /usr/local/lib/python3.10/dist-packages (from scanpy>=1.6->scgen==2.1.1) (3.1)\n",
            "Requirement already satisfied: joblib in /usr/local/lib/python3.10/dist-packages (from scanpy>=1.6->scgen==2.1.1) (1.2.0)\n",
            "Requirement already satisfied: numba>=0.41.0 in /usr/local/lib/python3.10/dist-packages (from scanpy>=1.6->scgen==2.1.1) (0.56.4)\n",
            "Collecting umap-learn>=0.3.10 (from scanpy>=1.6->scgen==2.1.1)\n",
            "  Downloading umap-learn-0.5.3.tar.gz (88 kB)\n",
            "\u001b[2K     \u001b[90m━━━━━━━━━━━━━━━━━━━━━━━━━━━━━━━━━━━━━━━━\u001b[0m \u001b[32m88.2/88.2 kB\u001b[0m \u001b[31m9.0 MB/s\u001b[0m eta \u001b[36m0:00:00\u001b[0m\n",
            "\u001b[?25h  Preparing metadata (setup.py) ... \u001b[?25l\u001b[?25hdone\n",
            "Collecting session-info (from scanpy>=1.6->scgen==2.1.1)\n",
            "  Downloading session_info-1.0.0.tar.gz (24 kB)\n",
            "  Preparing metadata (setup.py) ... \u001b[?25l\u001b[?25hdone\n",
            "Requirement already satisfied: chex in /usr/local/lib/python3.10/dist-packages (from scvi-tools>=0.20.0->scgen==2.1.1) (0.1.7)\n",
            "Collecting docrep>=0.3.2 (from scvi-tools>=0.20.0->scgen==2.1.1)\n",
            "  Downloading docrep-0.3.2.tar.gz (33 kB)\n",
            "  Preparing metadata (setup.py) ... \u001b[?25l\u001b[?25hdone\n",
            "Requirement already satisfied: flax in /usr/local/lib/python3.10/dist-packages (from scvi-tools>=0.20.0->scgen==2.1.1) (0.6.9)\n",
            "Requirement already satisfied: jax>=0.4.4 in /usr/local/lib/python3.10/dist-packages (from scvi-tools>=0.20.0->scgen==2.1.1) (0.4.10)\n",
            "Requirement already satisfied: jaxlib>=0.4.3 in /usr/local/lib/python3.10/dist-packages (from scvi-tools>=0.20.0->scgen==2.1.1) (0.4.10+cuda11.cudnn86)\n",
            "Collecting lightning<2.1,>=2.0 (from scvi-tools>=0.20.0->scgen==2.1.1)\n",
            "  Downloading lightning-2.0.3-py3-none-any.whl (1.8 MB)\n",
            "\u001b[2K     \u001b[90m━━━━━━━━━━━━━━━━━━━━━━━━━━━━━━━━━━━━━━━━\u001b[0m \u001b[32m1.8/1.8 MB\u001b[0m \u001b[31m81.4 MB/s\u001b[0m eta \u001b[36m0:00:00\u001b[0m\n",
            "\u001b[?25hCollecting ml-collections>=0.1.1 (from scvi-tools>=0.20.0->scgen==2.1.1)\n",
            "  Downloading ml_collections-0.1.1.tar.gz (77 kB)\n",
            "\u001b[2K     \u001b[90m━━━━━━━━━━━━━━━━━━━━━━━━━━━━━━━━━━━━━━━━\u001b[0m \u001b[32m77.9/77.9 kB\u001b[0m \u001b[31m8.7 MB/s\u001b[0m eta \u001b[36m0:00:00\u001b[0m\n",
            "\u001b[?25h  Preparing metadata (setup.py) ... \u001b[?25l\u001b[?25hdone\n",
            "Collecting mudata>=0.1.2 (from scvi-tools>=0.20.0->scgen==2.1.1)\n",
            "  Downloading mudata-0.2.3-py3-none-any.whl (24 kB)\n",
            "Collecting numpyro>=0.12.1 (from scvi-tools>=0.20.0->scgen==2.1.1)\n",
            "  Downloading numpyro-0.12.1-py3-none-any.whl (304 kB)\n",
            "\u001b[2K     \u001b[90m━━━━━━━━━━━━━━━━━━━━━━━━━━━━━━━━━━━━━━\u001b[0m \u001b[32m304.6/304.6 kB\u001b[0m \u001b[31m30.3 MB/s\u001b[0m eta \u001b[36m0:00:00\u001b[0m\n",
            "\u001b[?25hRequirement already satisfied: optax in /usr/local/lib/python3.10/dist-packages (from scvi-tools>=0.20.0->scgen==2.1.1) (0.1.5)\n",
            "Collecting pyro-ppl>=1.6.0 (from scvi-tools>=0.20.0->scgen==2.1.1)\n",
            "  Downloading pyro_ppl-1.8.5-py3-none-any.whl (732 kB)\n",
            "\u001b[2K     \u001b[90m━━━━━━━━━━━━━━━━━━━━━━━━━━━━━━━━━━━━━━\u001b[0m \u001b[32m732.5/732.5 kB\u001b[0m \u001b[31m48.1 MB/s\u001b[0m eta \u001b[36m0:00:00\u001b[0m\n",
            "\u001b[?25hRequirement already satisfied: rich>=12.0.0 in /usr/local/lib/python3.10/dist-packages (from scvi-tools>=0.20.0->scgen==2.1.1) (13.3.4)\n",
            "Collecting sparse>=0.14.0 (from scvi-tools>=0.20.0->scgen==2.1.1)\n",
            "  Downloading sparse-0.14.0-py2.py3-none-any.whl (80 kB)\n",
            "\u001b[2K     \u001b[90m━━━━━━━━━━━━━━━━━━━━━━━━━━━━━━━━━━━━━━━━\u001b[0m \u001b[32m81.0/81.0 kB\u001b[0m \u001b[31m8.9 MB/s\u001b[0m eta \u001b[36m0:00:00\u001b[0m\n",
            "\u001b[?25hRequirement already satisfied: torch>=1.8.0 in /usr/local/lib/python3.10/dist-packages (from scvi-tools>=0.20.0->scgen==2.1.1) (2.0.1+cu118)\n",
            "Collecting torchmetrics>=0.11.0 (from scvi-tools>=0.20.0->scgen==2.1.1)\n",
            "  Downloading torchmetrics-0.11.4-py3-none-any.whl (519 kB)\n",
            "\u001b[2K     \u001b[90m━━━━━━━━━━━━━━━━━━━━━━━━━━━━━━━━━━━━━━\u001b[0m \u001b[32m519.2/519.2 kB\u001b[0m \u001b[31m45.2 MB/s\u001b[0m eta \u001b[36m0:00:00\u001b[0m\n",
            "\u001b[?25hCollecting xarray>=2023.2.0 (from scvi-tools>=0.20.0->scgen==2.1.1)\n",
            "  Downloading xarray-2023.5.0-py3-none-any.whl (994 kB)\n",
            "\u001b[2K     \u001b[90m━━━━━━━━━━━━━━━━━━━━━━━━━━━━━━━━━━━━━━\u001b[0m \u001b[32m994.3/994.3 kB\u001b[0m \u001b[31m69.6 MB/s\u001b[0m eta \u001b[36m0:00:00\u001b[0m\n",
            "\u001b[?25hRequirement already satisfied: six in /usr/local/lib/python3.10/dist-packages (from docrep>=0.3.2->scvi-tools>=0.20.0->scgen==2.1.1) (1.16.0)\n",
            "Requirement already satisfied: ml-dtypes>=0.1.0 in /usr/local/lib/python3.10/dist-packages (from jax>=0.4.4->scvi-tools>=0.20.0->scgen==2.1.1) (0.1.0)\n",
            "Requirement already satisfied: opt-einsum in /usr/local/lib/python3.10/dist-packages (from jax>=0.4.4->scvi-tools>=0.20.0->scgen==2.1.1) (3.3.0)\n",
            "Requirement already satisfied: Jinja2<5.0 in /usr/local/lib/python3.10/dist-packages (from lightning<2.1,>=2.0->scvi-tools>=0.20.0->scgen==2.1.1) (3.1.2)\n",
            "Requirement already satisfied: PyYAML<8.0 in /usr/local/lib/python3.10/dist-packages (from lightning<2.1,>=2.0->scvi-tools>=0.20.0->scgen==2.1.1) (6.0)\n",
            "Collecting arrow<3.0,>=1.2.0 (from lightning<2.1,>=2.0->scvi-tools>=0.20.0->scgen==2.1.1)\n",
            "  Downloading arrow-1.2.3-py3-none-any.whl (66 kB)\n",
            "\u001b[2K     \u001b[90m━━━━━━━━━━━━━━━━━━━━━━━━━━━━━━━━━━━━━━━━\u001b[0m \u001b[32m66.4/66.4 kB\u001b[0m \u001b[31m5.7 MB/s\u001b[0m eta \u001b[36m0:00:00\u001b[0m\n",
            "\u001b[?25hRequirement already satisfied: beautifulsoup4<6.0,>=4.8.0 in /usr/local/lib/python3.10/dist-packages (from lightning<2.1,>=2.0->scvi-tools>=0.20.0->scgen==2.1.1) (4.11.2)\n",
            "Requirement already satisfied: click<10.0 in /usr/local/lib/python3.10/dist-packages (from lightning<2.1,>=2.0->scvi-tools>=0.20.0->scgen==2.1.1) (8.1.3)\n",
            "Collecting croniter<1.4.0,>=1.3.0 (from lightning<2.1,>=2.0->scvi-tools>=0.20.0->scgen==2.1.1)\n",
            "  Downloading croniter-1.3.15-py2.py3-none-any.whl (19 kB)\n",
            "Collecting dateutils<2.0 (from lightning<2.1,>=2.0->scvi-tools>=0.20.0->scgen==2.1.1)\n",
            "  Downloading dateutils-0.6.12-py2.py3-none-any.whl (5.7 kB)\n",
            "Collecting deepdiff<8.0,>=5.7.0 (from lightning<2.1,>=2.0->scvi-tools>=0.20.0->scgen==2.1.1)\n",
            "  Downloading deepdiff-6.3.0-py3-none-any.whl (69 kB)\n",
            "\u001b[2K     \u001b[90m━━━━━━━━━━━━━━━━━━━━━━━━━━━━━━━━━━━━━━━━\u001b[0m \u001b[32m69.7/69.7 kB\u001b[0m \u001b[31m5.5 MB/s\u001b[0m eta \u001b[36m0:00:00\u001b[0m\n",
            "\u001b[?25hCollecting fastapi<0.89.0,>=0.69.0 (from lightning<2.1,>=2.0->scvi-tools>=0.20.0->scgen==2.1.1)\n",
            "  Downloading fastapi-0.88.0-py3-none-any.whl (55 kB)\n",
            "\u001b[2K     \u001b[90m━━━━━━━━━━━━━━━━━━━━━━━━━━━━━━━━━━━━━━━━\u001b[0m \u001b[32m55.5/55.5 kB\u001b[0m \u001b[31m5.5 MB/s\u001b[0m eta \u001b[36m0:00:00\u001b[0m\n",
            "\u001b[?25hRequirement already satisfied: fsspec<2024.0,>=2022.5.0 in /usr/local/lib/python3.10/dist-packages (from lightning<2.1,>=2.0->scvi-tools>=0.20.0->scgen==2.1.1) (2023.4.0)\n",
            "Collecting inquirer<5.0,>=2.10.0 (from lightning<2.1,>=2.0->scvi-tools>=0.20.0->scgen==2.1.1)\n",
            "  Downloading inquirer-3.1.3-py3-none-any.whl (18 kB)\n",
            "Collecting lightning-cloud>=0.5.34 (from lightning<2.1,>=2.0->scvi-tools>=0.20.0->scgen==2.1.1)\n",
            "  Downloading lightning_cloud-0.5.36-py3-none-any.whl (562 kB)\n",
            "\u001b[2K     \u001b[90m━━━━━━━━━━━━━━━━━━━━━━━━━━━━━━━━━━━━━━\u001b[0m \u001b[32m562.4/562.4 kB\u001b[0m \u001b[31m36.7 MB/s\u001b[0m eta \u001b[36m0:00:00\u001b[0m\n",
            "\u001b[?25hCollecting lightning-utilities<2.0,>=0.7.0 (from lightning<2.1,>=2.0->scvi-tools>=0.20.0->scgen==2.1.1)\n",
            "  Downloading lightning_utilities-0.8.0-py3-none-any.whl (20 kB)\n",
            "Requirement already satisfied: psutil<7.0 in /usr/local/lib/python3.10/dist-packages (from lightning<2.1,>=2.0->scvi-tools>=0.20.0->scgen==2.1.1) (5.9.5)\n",
            "Requirement already satisfied: pydantic<4.0,>=1.7.4 in /usr/local/lib/python3.10/dist-packages (from lightning<2.1,>=2.0->scvi-tools>=0.20.0->scgen==2.1.1) (1.10.7)\n",
            "Collecting python-multipart<2.0,>=0.0.5 (from lightning<2.1,>=2.0->scvi-tools>=0.20.0->scgen==2.1.1)\n",
            "  Downloading python_multipart-0.0.6-py3-none-any.whl (45 kB)\n",
            "\u001b[2K     \u001b[90m━━━━━━━━━━━━━━━━━━━━━━━━━━━━━━━━━━━━━━━━\u001b[0m \u001b[32m45.7/45.7 kB\u001b[0m \u001b[31m5.2 MB/s\u001b[0m eta \u001b[36m0:00:00\u001b[0m\n",
            "\u001b[?25hRequirement already satisfied: requests<4.0 in /usr/local/lib/python3.10/dist-packages (from lightning<2.1,>=2.0->scvi-tools>=0.20.0->scgen==2.1.1) (2.27.1)\n",
            "Collecting starlette (from lightning<2.1,>=2.0->scvi-tools>=0.20.0->scgen==2.1.1)\n",
            "  Downloading starlette-0.28.0-py3-none-any.whl (68 kB)\n",
            "\u001b[2K     \u001b[90m━━━━━━━━━━━━━━━━━━━━━━━━━━━━━━━━━━━━━━━━\u001b[0m \u001b[32m68.9/68.9 kB\u001b[0m \u001b[31m6.0 MB/s\u001b[0m eta \u001b[36m0:00:00\u001b[0m\n",
            "\u001b[?25hCollecting starsessions<2.0,>=1.2.1 (from lightning<2.1,>=2.0->scvi-tools>=0.20.0->scgen==2.1.1)\n",
            "  Downloading starsessions-1.3.0-py3-none-any.whl (10 kB)\n",
            "Requirement already satisfied: traitlets<7.0,>=5.3.0 in /usr/local/lib/python3.10/dist-packages (from lightning<2.1,>=2.0->scvi-tools>=0.20.0->scgen==2.1.1) (5.7.1)\n",
            "Requirement already satisfied: typing-extensions<6.0,>=4.0.0 in /usr/local/lib/python3.10/dist-packages (from lightning<2.1,>=2.0->scvi-tools>=0.20.0->scgen==2.1.1) (4.5.0)\n",
            "Requirement already satisfied: urllib3<3.0 in /usr/local/lib/python3.10/dist-packages (from lightning<2.1,>=2.0->scvi-tools>=0.20.0->scgen==2.1.1) (1.26.15)\n",
            "Collecting uvicorn<2.0 (from lightning<2.1,>=2.0->scvi-tools>=0.20.0->scgen==2.1.1)\n",
            "  Downloading uvicorn-0.22.0-py3-none-any.whl (58 kB)\n",
            "\u001b[2K     \u001b[90m━━━━━━━━━━━━━━━━━━━━━━━━━━━━━━━━━━━━━━━━\u001b[0m \u001b[32m58.3/58.3 kB\u001b[0m \u001b[31m5.9 MB/s\u001b[0m eta \u001b[36m0:00:00\u001b[0m\n",
            "\u001b[?25hRequirement already satisfied: websocket-client<3.0 in /usr/local/lib/python3.10/dist-packages (from lightning<2.1,>=2.0->scvi-tools>=0.20.0->scgen==2.1.1) (1.5.1)\n",
            "Collecting websockets<12.0 (from lightning<2.1,>=2.0->scvi-tools>=0.20.0->scgen==2.1.1)\n",
            "  Downloading websockets-11.0.3-cp310-cp310-manylinux_2_5_x86_64.manylinux1_x86_64.manylinux_2_17_x86_64.manylinux2014_x86_64.whl (129 kB)\n",
            "\u001b[2K     \u001b[90m━━━━━━━━━━━━━━━━━━━━━━━━━━━━━━━━━━━━━━\u001b[0m \u001b[32m129.9/129.9 kB\u001b[0m \u001b[31m13.1 MB/s\u001b[0m eta \u001b[36m0:00:00\u001b[0m\n",
            "\u001b[?25hCollecting pytorch-lightning (from lightning<2.1,>=2.0->scvi-tools>=0.20.0->scgen==2.1.1)\n",
            "  Downloading pytorch_lightning-2.0.3-py3-none-any.whl (720 kB)\n",
            "\u001b[2K     \u001b[90m━━━━━━━━━━━━━━━━━━━━━━━━━━━━━━━━━━━━━━\u001b[0m \u001b[32m720.6/720.6 kB\u001b[0m \u001b[31m41.0 MB/s\u001b[0m eta \u001b[36m0:00:00\u001b[0m\n",
            "\u001b[?25hRequirement already satisfied: absl-py in /usr/local/lib/python3.10/dist-packages (from ml-collections>=0.1.1->scvi-tools>=0.20.0->scgen==2.1.1) (1.4.0)\n",
            "Requirement already satisfied: contextlib2 in /usr/local/lib/python3.10/dist-packages (from ml-collections>=0.1.1->scvi-tools>=0.20.0->scgen==2.1.1) (0.6.0.post1)\n",
            "Requirement already satisfied: llvmlite<0.40,>=0.39.0dev0 in /usr/local/lib/python3.10/dist-packages (from numba>=0.41.0->scanpy>=1.6->scgen==2.1.1) (0.39.1)\n",
            "Requirement already satisfied: setuptools in /usr/local/lib/python3.10/dist-packages (from numba>=0.41.0->scanpy>=1.6->scgen==2.1.1) (67.7.2)\n",
            "Requirement already satisfied: multipledispatch in /usr/local/lib/python3.10/dist-packages (from numpyro>=0.12.1->scvi-tools>=0.20.0->scgen==2.1.1) (0.6.0)\n",
            "Requirement already satisfied: pytz>=2020.1 in /usr/local/lib/python3.10/dist-packages (from pandas>=1.1.1->anndata>=0.7.5->scgen==2.1.1) (2022.7.1)\n",
            "Collecting pyro-api>=0.1.1 (from pyro-ppl>=1.6.0->scvi-tools>=0.20.0->scgen==2.1.1)\n",
            "  Downloading pyro_api-0.1.2-py3-none-any.whl (11 kB)\n",
            "Requirement already satisfied: markdown-it-py<3.0.0,>=2.2.0 in /usr/local/lib/python3.10/dist-packages (from rich>=12.0.0->scvi-tools>=0.20.0->scgen==2.1.1) (2.2.0)\n",
            "Requirement already satisfied: pygments<3.0.0,>=2.13.0 in /usr/local/lib/python3.10/dist-packages (from rich>=12.0.0->scvi-tools>=0.20.0->scgen==2.1.1) (2.14.0)\n",
            "Requirement already satisfied: threadpoolctl>=2.0.0 in /usr/local/lib/python3.10/dist-packages (from scikit-learn>=0.22->scanpy>=1.6->scgen==2.1.1) (3.1.0)\n",
            "Requirement already satisfied: filelock in /usr/local/lib/python3.10/dist-packages (from torch>=1.8.0->scvi-tools>=0.20.0->scgen==2.1.1) (3.12.0)\n",
            "Requirement already satisfied: sympy in /usr/local/lib/python3.10/dist-packages (from torch>=1.8.0->scvi-tools>=0.20.0->scgen==2.1.1) (1.11.1)\n",
            "Requirement already satisfied: triton==2.0.0 in /usr/local/lib/python3.10/dist-packages (from torch>=1.8.0->scvi-tools>=0.20.0->scgen==2.1.1) (2.0.0)\n",
            "Requirement already satisfied: cmake in /usr/local/lib/python3.10/dist-packages (from triton==2.0.0->torch>=1.8.0->scvi-tools>=0.20.0->scgen==2.1.1) (3.25.2)\n",
            "Requirement already satisfied: lit in /usr/local/lib/python3.10/dist-packages (from triton==2.0.0->torch>=1.8.0->scvi-tools>=0.20.0->scgen==2.1.1) (16.0.5)\n",
            "Collecting pynndescent>=0.5 (from umap-learn>=0.3.10->scanpy>=1.6->scgen==2.1.1)\n",
            "  Downloading pynndescent-0.5.10.tar.gz (1.1 MB)\n",
            "\u001b[2K     \u001b[90m━━━━━━━━━━━━━━━━━━━━━━━━━━━━━━━━━━━━━━━━\u001b[0m \u001b[32m1.1/1.1 MB\u001b[0m \u001b[31m63.1 MB/s\u001b[0m eta \u001b[36m0:00:00\u001b[0m\n",
            "\u001b[?25h  Preparing metadata (setup.py) ... \u001b[?25l\u001b[?25hdone\n",
            "Requirement already satisfied: dm-tree>=0.1.5 in /usr/local/lib/python3.10/dist-packages (from chex->scvi-tools>=0.20.0->scgen==2.1.1) (0.1.8)\n",
            "Requirement already satisfied: toolz>=0.9.0 in /usr/local/lib/python3.10/dist-packages (from chex->scvi-tools>=0.20.0->scgen==2.1.1) (0.12.0)\n",
            "Requirement already satisfied: msgpack in /usr/local/lib/python3.10/dist-packages (from flax->scvi-tools>=0.20.0->scgen==2.1.1) (1.0.5)\n",
            "Requirement already satisfied: orbax-checkpoint in /usr/local/lib/python3.10/dist-packages (from flax->scvi-tools>=0.20.0->scgen==2.1.1) (0.2.1)\n",
            "Requirement already satisfied: tensorstore in /usr/local/lib/python3.10/dist-packages (from flax->scvi-tools>=0.20.0->scgen==2.1.1) (0.1.36)\n",
            "Collecting stdlib_list (from session-info->scanpy>=1.6->scgen==2.1.1)\n",
            "  Downloading stdlib_list-0.8.0-py3-none-any.whl (63 kB)\n",
            "\u001b[2K     \u001b[90m━━━━━━━━━━━━━━━━━━━━━━━━━━━━━━━━━━━━━━━━\u001b[0m \u001b[32m63.5/63.5 kB\u001b[0m \u001b[31m6.9 MB/s\u001b[0m eta \u001b[36m0:00:00\u001b[0m\n",
            "\u001b[?25hRequirement already satisfied: soupsieve>1.2 in /usr/local/lib/python3.10/dist-packages (from beautifulsoup4<6.0,>=4.8.0->lightning<2.1,>=2.0->scvi-tools>=0.20.0->scgen==2.1.1) (2.4.1)\n",
            "Collecting ordered-set<4.2.0,>=4.0.2 (from deepdiff<8.0,>=5.7.0->lightning<2.1,>=2.0->scvi-tools>=0.20.0->scgen==2.1.1)\n",
            "  Downloading ordered_set-4.1.0-py3-none-any.whl (7.6 kB)\n",
            "Collecting starlette (from lightning<2.1,>=2.0->scvi-tools>=0.20.0->scgen==2.1.1)\n",
            "  Downloading starlette-0.22.0-py3-none-any.whl (64 kB)\n",
            "\u001b[2K     \u001b[90m━━━━━━━━━━━━━━━━━━━━━━━━━━━━━━━━━━━━━━━━\u001b[0m \u001b[32m64.3/64.3 kB\u001b[0m \u001b[31m6.6 MB/s\u001b[0m eta \u001b[36m0:00:00\u001b[0m\n",
            "\u001b[?25hRequirement already satisfied: anyio<5,>=3.4.0 in /usr/local/lib/python3.10/dist-packages (from starlette->lightning<2.1,>=2.0->scvi-tools>=0.20.0->scgen==2.1.1) (3.6.2)\n",
            "Collecting aiohttp!=4.0.0a0,!=4.0.0a1 (from fsspec<2024.0,>=2022.5.0->lightning<2.1,>=2.0->scvi-tools>=0.20.0->scgen==2.1.1)\n",
            "  Downloading aiohttp-3.8.4-cp310-cp310-manylinux_2_17_x86_64.manylinux2014_x86_64.whl (1.0 MB)\n",
            "\u001b[2K     \u001b[90m━━━━━━━━━━━━━━━━━━━━━━━━━━━━━━━━━━━━━━━━\u001b[0m \u001b[32m1.0/1.0 MB\u001b[0m \u001b[31m63.1 MB/s\u001b[0m eta \u001b[36m0:00:00\u001b[0m\n",
            "\u001b[?25hCollecting blessed>=1.19.0 (from inquirer<5.0,>=2.10.0->lightning<2.1,>=2.0->scvi-tools>=0.20.0->scgen==2.1.1)\n",
            "  Downloading blessed-1.20.0-py2.py3-none-any.whl (58 kB)\n",
            "\u001b[2K     \u001b[90m━━━━━━━━━━━━━━━━━━━━━━━━━━━━━━━━━━━━━━━━\u001b[0m \u001b[32m58.4/58.4 kB\u001b[0m \u001b[31m6.5 MB/s\u001b[0m eta \u001b[36m0:00:00\u001b[0m\n",
            "\u001b[?25hCollecting python-editor>=1.0.4 (from inquirer<5.0,>=2.10.0->lightning<2.1,>=2.0->scvi-tools>=0.20.0->scgen==2.1.1)\n",
            "  Downloading python_editor-1.0.4-py3-none-any.whl (4.9 kB)\n",
            "Collecting readchar>=3.0.6 (from inquirer<5.0,>=2.10.0->lightning<2.1,>=2.0->scvi-tools>=0.20.0->scgen==2.1.1)\n",
            "  Downloading readchar-4.0.5-py3-none-any.whl (8.5 kB)\n",
            "Requirement already satisfied: MarkupSafe>=2.0 in /usr/local/lib/python3.10/dist-packages (from Jinja2<5.0->lightning<2.1,>=2.0->scvi-tools>=0.20.0->scgen==2.1.1) (2.1.2)\n",
            "Collecting pyjwt (from lightning-cloud>=0.5.34->lightning<2.1,>=2.0->scvi-tools>=0.20.0->scgen==2.1.1)\n",
            "  Downloading PyJWT-2.7.0-py3-none-any.whl (22 kB)\n",
            "Requirement already satisfied: mdurl~=0.1 in /usr/local/lib/python3.10/dist-packages (from markdown-it-py<3.0.0,>=2.2.0->rich>=12.0.0->scvi-tools>=0.20.0->scgen==2.1.1) (0.1.2)\n",
            "Requirement already satisfied: certifi>=2017.4.17 in /usr/local/lib/python3.10/dist-packages (from requests<4.0->lightning<2.1,>=2.0->scvi-tools>=0.20.0->scgen==2.1.1) (2022.12.7)\n",
            "Requirement already satisfied: charset-normalizer~=2.0.0 in /usr/local/lib/python3.10/dist-packages (from requests<4.0->lightning<2.1,>=2.0->scvi-tools>=0.20.0->scgen==2.1.1) (2.0.12)\n",
            "Requirement already satisfied: idna<4,>=2.5 in /usr/local/lib/python3.10/dist-packages (from requests<4.0->lightning<2.1,>=2.0->scvi-tools>=0.20.0->scgen==2.1.1) (3.4)\n",
            "Requirement already satisfied: itsdangerous<3.0.0,>=2.0.1 in /usr/local/lib/python3.10/dist-packages (from starsessions<2.0,>=1.2.1->lightning<2.1,>=2.0->scvi-tools>=0.20.0->scgen==2.1.1) (2.1.2)\n",
            "Collecting h11>=0.8 (from uvicorn<2.0->lightning<2.1,>=2.0->scvi-tools>=0.20.0->scgen==2.1.1)\n",
            "  Downloading h11-0.14.0-py3-none-any.whl (58 kB)\n",
            "\u001b[2K     \u001b[90m━━━━━━━━━━━━━━━━━━━━━━━━━━━━━━━━━━━━━━━━\u001b[0m \u001b[32m58.3/58.3 kB\u001b[0m \u001b[31m6.6 MB/s\u001b[0m eta \u001b[36m0:00:00\u001b[0m\n",
            "\u001b[?25hRequirement already satisfied: cached_property in /usr/local/lib/python3.10/dist-packages (from orbax-checkpoint->flax->scvi-tools>=0.20.0->scgen==2.1.1) (1.5.2)\n",
            "Requirement already satisfied: importlib_resources in /usr/local/lib/python3.10/dist-packages (from orbax-checkpoint->flax->scvi-tools>=0.20.0->scgen==2.1.1) (5.12.0)\n",
            "Requirement already satisfied: etils in /usr/local/lib/python3.10/dist-packages (from orbax-checkpoint->flax->scvi-tools>=0.20.0->scgen==2.1.1) (1.2.0)\n",
            "Requirement already satisfied: nest_asyncio in /usr/local/lib/python3.10/dist-packages (from orbax-checkpoint->flax->scvi-tools>=0.20.0->scgen==2.1.1) (1.5.6)\n",
            "Requirement already satisfied: mpmath>=0.19 in /usr/local/lib/python3.10/dist-packages (from sympy->torch>=1.8.0->scvi-tools>=0.20.0->scgen==2.1.1) (1.3.0)\n",
            "Requirement already satisfied: attrs>=17.3.0 in /usr/local/lib/python3.10/dist-packages (from aiohttp!=4.0.0a0,!=4.0.0a1->fsspec<2024.0,>=2022.5.0->lightning<2.1,>=2.0->scvi-tools>=0.20.0->scgen==2.1.1) (23.1.0)\n",
            "Collecting multidict<7.0,>=4.5 (from aiohttp!=4.0.0a0,!=4.0.0a1->fsspec<2024.0,>=2022.5.0->lightning<2.1,>=2.0->scvi-tools>=0.20.0->scgen==2.1.1)\n",
            "  Downloading multidict-6.0.4-cp310-cp310-manylinux_2_17_x86_64.manylinux2014_x86_64.whl (114 kB)\n",
            "\u001b[2K     \u001b[90m━━━━━━━━━━━━━━━━━━━━━━━━━━━━━━━━━━━━━━━\u001b[0m \u001b[32m114.5/114.5 kB\u001b[0m \u001b[31m7.8 MB/s\u001b[0m eta \u001b[36m0:00:00\u001b[0m\n",
            "\u001b[?25hCollecting async-timeout<5.0,>=4.0.0a3 (from aiohttp!=4.0.0a0,!=4.0.0a1->fsspec<2024.0,>=2022.5.0->lightning<2.1,>=2.0->scvi-tools>=0.20.0->scgen==2.1.1)\n",
            "  Downloading async_timeout-4.0.2-py3-none-any.whl (5.8 kB)\n",
            "Collecting yarl<2.0,>=1.0 (from aiohttp!=4.0.0a0,!=4.0.0a1->fsspec<2024.0,>=2022.5.0->lightning<2.1,>=2.0->scvi-tools>=0.20.0->scgen==2.1.1)\n",
            "  Downloading yarl-1.9.2-cp310-cp310-manylinux_2_17_x86_64.manylinux2014_x86_64.whl (268 kB)\n",
            "\u001b[2K     \u001b[90m━━━━━━━━━━━━━━━━━━━━━━━━━━━━━━━━━━━━━━\u001b[0m \u001b[32m268.8/268.8 kB\u001b[0m \u001b[31m28.0 MB/s\u001b[0m eta \u001b[36m0:00:00\u001b[0m\n",
            "\u001b[?25hCollecting frozenlist>=1.1.1 (from aiohttp!=4.0.0a0,!=4.0.0a1->fsspec<2024.0,>=2022.5.0->lightning<2.1,>=2.0->scvi-tools>=0.20.0->scgen==2.1.1)\n",
            "  Downloading frozenlist-1.3.3-cp310-cp310-manylinux_2_5_x86_64.manylinux1_x86_64.manylinux_2_17_x86_64.manylinux2014_x86_64.whl (149 kB)\n",
            "\u001b[2K     \u001b[90m━━━━━━━━━━━━━━━━━━━━━━━━━━━━━━━━━━━━━━\u001b[0m \u001b[32m149.6/149.6 kB\u001b[0m \u001b[31m15.0 MB/s\u001b[0m eta \u001b[36m0:00:00\u001b[0m\n",
            "\u001b[?25hCollecting aiosignal>=1.1.2 (from aiohttp!=4.0.0a0,!=4.0.0a1->fsspec<2024.0,>=2022.5.0->lightning<2.1,>=2.0->scvi-tools>=0.20.0->scgen==2.1.1)\n",
            "  Downloading aiosignal-1.3.1-py3-none-any.whl (7.6 kB)\n",
            "Requirement already satisfied: sniffio>=1.1 in /usr/local/lib/python3.10/dist-packages (from anyio<5,>=3.4.0->starlette->lightning<2.1,>=2.0->scvi-tools>=0.20.0->scgen==2.1.1) (1.3.0)\n",
            "Requirement already satisfied: wcwidth>=0.1.4 in /usr/local/lib/python3.10/dist-packages (from blessed>=1.19.0->inquirer<5.0,>=2.10.0->lightning<2.1,>=2.0->scvi-tools>=0.20.0->scgen==2.1.1) (0.2.6)\n",
            "Building wheels for collected packages: scgen, docrep, ml-collections, umap-learn, session-info, pynndescent\n",
            "  Building wheel for scgen (pyproject.toml) ... \u001b[?25l\u001b[?25hdone\n",
            "  Created wheel for scgen: filename=scgen-2.1.1-py3-none-any.whl size=24413 sha256=d9f5bc295ec5f7c4514616ba817df779e858010f3ebe85f21d2c16d6e1fbae43\n",
            "  Stored in directory: /tmp/pip-ephem-wheel-cache-x9sds8yl/wheels/5a/ff/00/a8893c5b5a0cc5da6d90f64aa8a944b610f9d0169667945e35\n",
            "  Building wheel for docrep (setup.py) ... \u001b[?25l\u001b[?25hdone\n",
            "  Created wheel for docrep: filename=docrep-0.3.2-py3-none-any.whl size=19877 sha256=46c749323603d1d6b074fabb89665a1eb0e208b08dafa1ce25ab73a1a5b77864\n",
            "  Stored in directory: /root/.cache/pip/wheels/c3/64/48/03c38d8d906159eaa210b3c548fdb590eb3e2a4a5745ae2172\n",
            "  Building wheel for ml-collections (setup.py) ... \u001b[?25l\u001b[?25hdone\n",
            "  Created wheel for ml-collections: filename=ml_collections-0.1.1-py3-none-any.whl size=94506 sha256=9d98b16d25db3b4f7debfd3fe5dc298a61d702010f43da4477a03ce3668f21dc\n",
            "  Stored in directory: /root/.cache/pip/wheels/7b/89/c9/a9b87790789e94aadcfc393c283e3ecd5ab916aed0a31be8fe\n",
            "  Building wheel for umap-learn (setup.py) ... \u001b[?25l\u001b[?25hdone\n",
            "  Created wheel for umap-learn: filename=umap_learn-0.5.3-py3-none-any.whl size=82816 sha256=4d06b8e539cd595b8066e52ac50db6b2c4caf03f73f4cc2f117a4ab26a03570f\n",
            "  Stored in directory: /root/.cache/pip/wheels/a0/e8/c6/a37ea663620bd5200ea1ba0907ab3c217042c1d035ef606acc\n",
            "  Building wheel for session-info (setup.py) ... \u001b[?25l\u001b[?25hdone\n",
            "  Created wheel for session-info: filename=session_info-1.0.0-py3-none-any.whl size=8026 sha256=5e918b5d79d948707e280480dd8028b852a71ac31220c06009621c47f69f3294\n",
            "  Stored in directory: /root/.cache/pip/wheels/6a/aa/b9/eb5d4031476ec10802795b97ccf937b9bd998d68a9b268765a\n",
            "  Building wheel for pynndescent (setup.py) ... \u001b[?25l\u001b[?25hdone\n",
            "  Created wheel for pynndescent: filename=pynndescent-0.5.10-py3-none-any.whl size=55622 sha256=f59642058991890cbea5fd5c2c7f8bb22c015cce567c2158679c0da24c5fbe0e\n",
            "  Stored in directory: /root/.cache/pip/wheels/4a/38/5d/f60a40a66a9512b7e5e83517ebc2d1b42d857be97d135f1096\n",
            "Successfully built scgen docrep ml-collections umap-learn session-info pynndescent\n",
            "Installing collected packages: stdlib_list, python-editor, pyro-api, websockets, session-info, readchar, python-multipart, pyjwt, ordered-set, multidict, ml-collections, lightning-utilities, h11, frozenlist, docrep, blessed, async-timeout, yarl, uvicorn, starlette, sparse, inquirer, deepdiff, dateutils, croniter, arrow, aiosignal, xarray, starsessions, pynndescent, numpyro, fastapi, aiohttp, adjustText, umap-learn, mudata, lightning-cloud, scanpy, torchmetrics, pytorch-lightning, pyro-ppl, lightning, scvi-tools, scgen\n",
            "  Attempting uninstall: xarray\n",
            "    Found existing installation: xarray 2022.12.0\n",
            "    Uninstalling xarray-2022.12.0:\n",
            "      Successfully uninstalled xarray-2022.12.0\n",
            "Successfully installed adjustText-0.8 aiohttp-3.8.4 aiosignal-1.3.1 arrow-1.2.3 async-timeout-4.0.2 blessed-1.20.0 croniter-1.3.15 dateutils-0.6.12 deepdiff-6.3.0 docrep-0.3.2 fastapi-0.88.0 frozenlist-1.3.3 h11-0.14.0 inquirer-3.1.3 lightning-2.0.3 lightning-cloud-0.5.36 lightning-utilities-0.8.0 ml-collections-0.1.1 mudata-0.2.3 multidict-6.0.4 numpyro-0.12.1 ordered-set-4.1.0 pyjwt-2.7.0 pynndescent-0.5.10 pyro-api-0.1.2 pyro-ppl-1.8.5 python-editor-1.0.4 python-multipart-0.0.6 pytorch-lightning-2.0.3 readchar-4.0.5 scanpy-1.9.3 scgen-2.1.1 scvi-tools-1.0.0 session-info-1.0.0 sparse-0.14.0 starlette-0.22.0 starsessions-1.3.0 stdlib_list-0.8.0 torchmetrics-0.11.4 umap-learn-0.5.3 uvicorn-0.22.0 websockets-11.0.3 xarray-2023.5.0 yarl-1.9.2\n",
            "Looking in indexes: https://pypi.org/simple, https://us-python.pkg.dev/colab-wheels/public/simple/\n",
            "Requirement already satisfied: matplotlib in /usr/local/lib/python3.10/dist-packages (3.7.1)\n",
            "Requirement already satisfied: contourpy>=1.0.1 in /usr/local/lib/python3.10/dist-packages (from matplotlib) (1.0.7)\n",
            "Requirement already satisfied: cycler>=0.10 in /usr/local/lib/python3.10/dist-packages (from matplotlib) (0.11.0)\n",
            "Requirement already satisfied: fonttools>=4.22.0 in /usr/local/lib/python3.10/dist-packages (from matplotlib) (4.39.3)\n",
            "Requirement already satisfied: kiwisolver>=1.0.1 in /usr/local/lib/python3.10/dist-packages (from matplotlib) (1.4.4)\n",
            "Requirement already satisfied: numpy>=1.20 in /usr/local/lib/python3.10/dist-packages (from matplotlib) (1.22.4)\n",
            "Requirement already satisfied: packaging>=20.0 in /usr/local/lib/python3.10/dist-packages (from matplotlib) (23.1)\n",
            "Requirement already satisfied: pillow>=6.2.0 in /usr/local/lib/python3.10/dist-packages (from matplotlib) (8.4.0)\n",
            "Requirement already satisfied: pyparsing>=2.3.1 in /usr/local/lib/python3.10/dist-packages (from matplotlib) (3.0.9)\n",
            "Requirement already satisfied: python-dateutil>=2.7 in /usr/local/lib/python3.10/dist-packages (from matplotlib) (2.8.2)\n",
            "Requirement already satisfied: six>=1.5 in /usr/local/lib/python3.10/dist-packages (from python-dateutil>=2.7->matplotlib) (1.16.0)\n",
            "Looking in indexes: https://pypi.org/simple, https://us-python.pkg.dev/colab-wheels/public/simple/\n",
            "Requirement already satisfied: scanpy in /usr/local/lib/python3.10/dist-packages (1.9.3)\n",
            "Requirement already satisfied: anndata>=0.7.4 in /usr/local/lib/python3.10/dist-packages (from scanpy) (0.9.1)\n",
            "Requirement already satisfied: numpy>=1.17.0 in /usr/local/lib/python3.10/dist-packages (from scanpy) (1.22.4)\n",
            "Requirement already satisfied: matplotlib>=3.4 in /usr/local/lib/python3.10/dist-packages (from scanpy) (3.7.1)\n",
            "Requirement already satisfied: pandas>=1.0 in /usr/local/lib/python3.10/dist-packages (from scanpy) (1.5.3)\n",
            "Requirement already satisfied: scipy>=1.4 in /usr/local/lib/python3.10/dist-packages (from scanpy) (1.10.1)\n",
            "Requirement already satisfied: seaborn in /usr/local/lib/python3.10/dist-packages (from scanpy) (0.12.2)\n",
            "Requirement already satisfied: h5py>=3 in /usr/local/lib/python3.10/dist-packages (from scanpy) (3.8.0)\n",
            "Requirement already satisfied: tqdm in /usr/local/lib/python3.10/dist-packages (from scanpy) (4.65.0)\n",
            "Requirement already satisfied: scikit-learn>=0.22 in /usr/local/lib/python3.10/dist-packages (from scanpy) (1.2.2)\n",
            "Requirement already satisfied: statsmodels>=0.10.0rc2 in /usr/local/lib/python3.10/dist-packages (from scanpy) (0.13.5)\n",
            "Requirement already satisfied: patsy in /usr/local/lib/python3.10/dist-packages (from scanpy) (0.5.3)\n",
            "Requirement already satisfied: networkx>=2.3 in /usr/local/lib/python3.10/dist-packages (from scanpy) (3.1)\n",
            "Requirement already satisfied: natsort in /usr/local/lib/python3.10/dist-packages (from scanpy) (8.3.1)\n",
            "Requirement already satisfied: joblib in /usr/local/lib/python3.10/dist-packages (from scanpy) (1.2.0)\n",
            "Requirement already satisfied: numba>=0.41.0 in /usr/local/lib/python3.10/dist-packages (from scanpy) (0.56.4)\n",
            "Requirement already satisfied: umap-learn>=0.3.10 in /usr/local/lib/python3.10/dist-packages (from scanpy) (0.5.3)\n",
            "Requirement already satisfied: packaging in /usr/local/lib/python3.10/dist-packages (from scanpy) (23.1)\n",
            "Requirement already satisfied: session-info in /usr/local/lib/python3.10/dist-packages (from scanpy) (1.0.0)\n",
            "Requirement already satisfied: contourpy>=1.0.1 in /usr/local/lib/python3.10/dist-packages (from matplotlib>=3.4->scanpy) (1.0.7)\n",
            "Requirement already satisfied: cycler>=0.10 in /usr/local/lib/python3.10/dist-packages (from matplotlib>=3.4->scanpy) (0.11.0)\n",
            "Requirement already satisfied: fonttools>=4.22.0 in /usr/local/lib/python3.10/dist-packages (from matplotlib>=3.4->scanpy) (4.39.3)\n",
            "Requirement already satisfied: kiwisolver>=1.0.1 in /usr/local/lib/python3.10/dist-packages (from matplotlib>=3.4->scanpy) (1.4.4)\n",
            "Requirement already satisfied: pillow>=6.2.0 in /usr/local/lib/python3.10/dist-packages (from matplotlib>=3.4->scanpy) (8.4.0)\n",
            "Requirement already satisfied: pyparsing>=2.3.1 in /usr/local/lib/python3.10/dist-packages (from matplotlib>=3.4->scanpy) (3.0.9)\n",
            "Requirement already satisfied: python-dateutil>=2.7 in /usr/local/lib/python3.10/dist-packages (from matplotlib>=3.4->scanpy) (2.8.2)\n",
            "Requirement already satisfied: llvmlite<0.40,>=0.39.0dev0 in /usr/local/lib/python3.10/dist-packages (from numba>=0.41.0->scanpy) (0.39.1)\n",
            "Requirement already satisfied: setuptools in /usr/local/lib/python3.10/dist-packages (from numba>=0.41.0->scanpy) (67.7.2)\n",
            "Requirement already satisfied: pytz>=2020.1 in /usr/local/lib/python3.10/dist-packages (from pandas>=1.0->scanpy) (2022.7.1)\n",
            "Requirement already satisfied: threadpoolctl>=2.0.0 in /usr/local/lib/python3.10/dist-packages (from scikit-learn>=0.22->scanpy) (3.1.0)\n",
            "Requirement already satisfied: six in /usr/local/lib/python3.10/dist-packages (from patsy->scanpy) (1.16.0)\n",
            "Requirement already satisfied: pynndescent>=0.5 in /usr/local/lib/python3.10/dist-packages (from umap-learn>=0.3.10->scanpy) (0.5.10)\n",
            "Requirement already satisfied: stdlib-list in /usr/local/lib/python3.10/dist-packages (from session-info->scanpy) (0.8.0)\n"
          ]
        }
      ],
      "source": [
        "from google.colab import drive\n",
        "drive.mount('/content/drive')\n",
        "%cd drive/MyDrive/Colab_Notebooks/perturbation_metric_test\n",
        "!pip install anndata\n",
        "!pip install git+https://github.com/theislab/scgen.git\n",
        "!pip install matplotlib\n",
        "!pip install scanpy"
      ]
    },
    {
      "cell_type": "code",
      "execution_count": null,
      "metadata": {
        "colab": {
          "base_uri": "https://localhost:8080/"
        },
        "id": "w6gPV6tjmeoN",
        "outputId": "bb4ccea5-c558-4a09-fd26-6340fcb3a043"
      },
      "outputs": [
        {
          "name": "stderr",
          "output_type": "stream",
          "text": [
            "/usr/local/lib/python3.10/dist-packages/scvi/_settings.py:63: UserWarning: Since v1.0.0, scvi-tools no longer uses a random seed by default. Run `scvi.settings.seed = 0` to reproduce results from previous versions.\n",
            "  self.seed = seed\n",
            "/usr/local/lib/python3.10/dist-packages/scvi/_settings.py:70: UserWarning: Setting `dl_pin_memory_gpu_training` is deprecated in v1.0 and will be removed in v1.1. Please pass in `pin_memory` to the data loaders instead.\n",
            "  self.dl_pin_memory_gpu_training = (\n"
          ]
        }
      ],
      "source": [
        "import anndata\n",
        "import scanpy as sc\n",
        "import scgen\n",
        "import pandas as pd\n",
        "import numpy as np\n",
        "\n",
        "font = {'family' : 'Arial',\n",
        "        'size'   : 14}"
      ]
    },
    {
      "cell_type": "code",
      "execution_count": null,
      "metadata": {
        "id": "AiViJETTmeoP"
      },
      "outputs": [],
      "source": [
        "train = sc.read(\"./data/PapalexiSatija2021_eccite_RNA.h5ad\")\n",
        "sc.pp.normalize_total(train, target_sum=1e4)\n",
        "sc.pp.log1p(train)"
      ]
    },
    {
      "cell_type": "code",
      "execution_count": null,
      "metadata": {
        "colab": {
          "base_uri": "https://localhost:8080/"
        },
        "id": "25gOfI4ZmeoQ",
        "outputId": "8a798dfb-d1a6-46bb-879e-6c78e6a8018a"
      },
      "outputs": [
        {
          "name": "stdout",
          "output_type": "stream",
          "text": [
            "[[0. 0. 0. ... 0. 0. 0.]\n",
            " [0. 0. 0. ... 0. 0. 0.]\n",
            " [0. 0. 0. ... 0. 0. 0.]\n",
            " ...\n",
            " [0. 0. 0. ... 0. 0. 0.]\n",
            " [0. 0. 0. ... 0. 0. 0.]\n",
            " [0. 0. 0. ... 0. 0. 0.]]\n"
          ]
        }
      ],
      "source": [
        "print(train.X.toarray())"
      ]
    },
    {
      "cell_type": "code",
      "execution_count": null,
      "metadata": {
        "colab": {
          "base_uri": "https://localhost:8080/"
        },
        "id": "B8UJ4i9kmeoQ",
        "outputId": "49b1eda7-dc31-4f52-d9d5-55e8a7e7ec1d"
      },
      "outputs": [
        {
          "name": "stdout",
          "output_type": "stream",
          "text": [
            "['STAT2g2', 'CAV1g4', 'STAT1g2', 'CD86g1', 'IRF7g2', ..., 'SPI1g3', 'PDCD1LG2g2', 'CUL3g3', 'SPI1g2', 'MYCg4']\n",
            "Length: 99\n",
            "Categories (99, object): ['ATF2g1', 'ATF2g2', 'ATF2g3', 'ATF2g4', ..., 'UBE2L6g2', 'UBE2L6g3',\n",
            "                          'UBE2L6g4', 'control']\n"
          ]
        }
      ],
      "source": [
        "print(train.obs['perturbation'].unique())"
      ]
    },
    {
      "cell_type": "code",
      "execution_count": null,
      "metadata": {
        "colab": {
          "base_uri": "https://localhost:8080/"
        },
        "id": "UOOKmEwQmeoQ",
        "outputId": "f724d534-fb98-42df-ac16-88e024cb5605"
      },
      "outputs": [
        {
          "name": "stdout",
          "output_type": "stream",
          "text": [
            "AAACCTGAGCCAGAAC    STAT2g2\n",
            "AAACCTGAGTGGACGT     CAV1g4\n",
            "AAACCTGCATGAGCGA    STAT1g2\n",
            "AAACCTGTCTTGTCAT     CD86g1\n",
            "AAACGGGAGAACAACT     IRF7g2\n",
            "                     ...   \n",
            "TTTGTCAGTCACTTCC    CMTM6g1\n",
            "TTTGTCAGTGACGGTA    control\n",
            "TTTGTCAGTTCCACAA     ATF2g1\n",
            "TTTGTCATCACGCATA     CAV1g2\n",
            "TTTGTCATCTGTACGA    STAT3g1\n",
            "Name: perturbation, Length: 20729, dtype: category\n",
            "Categories (99, object): ['ATF2g1', 'ATF2g2', 'ATF2g3', 'ATF2g4', ..., 'UBE2L6g2', 'UBE2L6g3',\n",
            "                          'UBE2L6g4', 'control']\n"
          ]
        }
      ],
      "source": [
        "print(train.obs['perturbation'])"
      ]
    },
    {
      "cell_type": "code",
      "execution_count": null,
      "metadata": {
        "colab": {
          "base_uri": "https://localhost:8080/"
        },
        "id": "WAJNaPDumeoQ",
        "outputId": "d48f34e5-f90f-4eee-8751-3f4bc6bc0b77"
      },
      "outputs": [
        {
          "data": {
            "text/plain": [
              "98"
            ]
          },
          "execution_count": 7,
          "metadata": {},
          "output_type": "execute_result"
        }
      ],
      "source": [
        "prt=train.obs['perturbation'].unique()\n",
        "list_prt=list(prt)\n",
        "len(list(prt))\n",
        "list_prt.remove('control')\n",
        "len(list_prt)"
      ]
    },
    {
      "cell_type": "code",
      "execution_count": null,
      "metadata": {
        "colab": {
          "base_uri": "https://localhost:8080/"
        },
        "id": "Ty1ekDbqmeoR",
        "outputId": "3357fa3f-60d4-4065-ca55-bb6687cb7569"
      },
      "outputs": [
        {
          "data": {
            "text/plain": [
              "<2386x18649 sparse matrix of type '<class 'numpy.float32'>'\n",
              "\twith 8032261 stored elements in Compressed Sparse Column format>"
            ]
          },
          "execution_count": 8,
          "metadata": {},
          "output_type": "execute_result"
        }
      ],
      "source": [
        "train[train.obs['perturbation']=='control'].X"
      ]
    },
    {
      "cell_type": "code",
      "execution_count": null,
      "metadata": {
        "id": "M8LcYSXYmeoR"
      },
      "outputs": [],
      "source": [
        "\n",
        "\n",
        "import random\n",
        "\n",
        "def subset(alist, idxs):\n",
        "    '''\n",
        "        use idxs to subset alist\n",
        "        alist: list\n",
        "        idxs: list\n",
        "    '''\n",
        "    sub_list = []\n",
        "    for idx in idxs:\n",
        "        sub_list.append(alist[idx])\n",
        "\n",
        "    return sub_list\n",
        "\n",
        "def split_list(alist, group_num=3, shuffle=True, retain_left=False):\n",
        "    '''\n",
        "        split data into 3 subset and let each subset contains the len(alist)//group number of elements\n",
        "        shuffle: whether shuffle the splitted data, default: True\n",
        "        retain_left: if list alist is splited into the number of group_num subset and there is some element remain，\n",
        "        whether take the remaining elements as a subset\n",
        "    '''\n",
        "\n",
        "    index = list(range(len(alist)))\n",
        "\n",
        "\n",
        "    if shuffle:\n",
        "        random.shuffle(index)\n",
        "\n",
        "    elem_num = len(alist) // group_num\n",
        "    sub_lists = {}\n",
        "\n",
        "\n",
        "    for idx in range(group_num):\n",
        "        start, end = idx*elem_num, (idx+1)*elem_num\n",
        "        sub_lists[str(idx)] = subset(alist, index[start:end])\n",
        "\n",
        "\n",
        "    if retain_left and group_num * elem_num != len(index):\n",
        "        sub_lists[str(idx+1)] = subset(alist, index[end:])\n",
        "\n",
        "    return sub_lists\n",
        "\n",
        "\n",
        "\n",
        "def sample_control_control(adata,size_n):\n",
        "    \"\"\"\n",
        "    the sampling for ctrl and ctrl\n",
        "    split the data into three samples\n",
        "    shuffle the three samples\n",
        "    return two data set have maximum between-sample distance\n",
        "\n",
        "    \"\"\"\n",
        "    x = adata.X\n",
        "    n_rows=x.shape[0]\n",
        "    index_dict=split_list(range(n_rows))# in form {0: [1,2,3],1:[3,44,2...],3:[]}\n",
        "    sample1=x[index_dict['0'],:size_n].toarray()\n",
        "    sample2=x[index_dict['1'],:size_n].toarray()\n",
        "    sample3=x[index_dict['2'],:size_n].toarray()\n",
        "\n",
        "    return sample1,sample2,sample3\n",
        "\n"
      ]
    },
    {
      "cell_type": "code",
      "execution_count": null,
      "metadata": {
        "id": "xSORXggfmeoS"
      },
      "outputs": [],
      "source": [
        "#we use a function to get control and 98 stim data in order to compare the control data with each stim data\n",
        "\n",
        "def sample_obs(x,size_n):\n",
        "    \"\"\"\n",
        "    params\n",
        "    -------------\n",
        "    sample for all control and stim pairs\n",
        "    size_n:the number of rows we will consider in comparison\n",
        "    output x,y in sparse matrix form\n",
        "    which is sample1 and sample2 drawn from two specified codition\n",
        "    \"\"\"\n",
        "\n",
        "    # x = adata.X\n",
        "    #print(x.shape)(16893, 6998)\n",
        "    n_rows=x.shape[0]\n",
        "\n",
        "    df = pd.DataFrame({'x':np.arange(n_rows)})\n",
        "    #shuffle the data index\n",
        "#     x_sample1=df['x'].sample(frac=1, replace=False).values[:size_n]\n",
        "    x_sample1=df['x'].values[:size_n]\n",
        "\n",
        "    return x[x_sample1,:]\n",
        "\n",
        "\n",
        "def data_prep(adata,ctrl,conditions,sample_ctrl=False):\n",
        "    \"\"\"\n",
        "    param\n",
        "    -----------\n",
        "    adata\n",
        "    return_mean: bool variable True if we want to compute mean of sampled data per cell to\n",
        "    find statistic between mean of data from sample1 and sample2\n",
        "    output: the sampled data from sample1 and sample2 of type array\n",
        "    \"\"\"\n",
        "\n",
        "    control = adata[adata.obs[\"perturbation\"] == \"control\"]\n",
        "    stim = adata[adata.obs[\"perturbation\"] == conditions].X\n",
        "\n",
        "    control=ctrl\n",
        "    #fix the number of rows of sampled data as the minimum number of rows between sample1,sample2\n",
        "    n=np.minimum(control.shape[0],stim.shape[0])\n",
        "\n",
        "\n",
        "    x= sample_obs(control,n)\n",
        "    y= sample_obs(stim,n)\n",
        "\n",
        "    # x=x.toarray()\n",
        "    y=y.toarray()\n",
        "\n",
        "    # print(ctrl.shape, y.shape)\n",
        "\n",
        "\n",
        "    return x,y\n",
        "\n",
        "def compute_from_mean(x,y,fn,if_return=False):\n",
        "    \"\"\"\n",
        "    param\n",
        "    -------\n",
        "    x,y:data from sample1 and sample2\n",
        "    fn: the statistic function with input x,y\n",
        "    print statistic computed with mean of sample 1 and 2\n",
        "    \"\"\"\n",
        "\n",
        "    x_mean = np.mean(x, axis=0).ravel()\n",
        "    y_mean = np.mean(y, axis=0).ravel()\n",
        "    mean = fn(x_mean,y_mean)\n",
        "#     print(\"statistic computed with mean of sample 1 and 2:\",mean)\n",
        "    if if_return:\n",
        "        return mean\n",
        "\n",
        "def compute_from_sample(x,y,fn):\n",
        "    \"\"\"\n",
        "    param\n",
        "    -----------\n",
        "    x,y:sampled data from sample1 and sample2 in sparse matric form\n",
        "    output: the average of statistic computed between each data from sample1 and sample2\n",
        "    \"\"\"\n",
        "#     x=x.toarray()\n",
        "#     y=y.toarray()\n",
        "    a=dict.fromkeys(range(x.shape[0]))\n",
        "\n",
        "    for i in range(x.shape[0]):\n",
        "        a[i]=fn(x[i],y[i])\n",
        "\n",
        "    return np.mean(list(a.values()))\n",
        "\n",
        "def dist_based(x,y):\n",
        "    \"\"\"\n",
        "    transpose the data so that we can compute static between genes (columns)\n",
        "    \"\"\"\n",
        "    m=np.minimum(x.shape[0],y.shape[0])\n",
        "    x=x.T[:,:m]#delete .toarray()\n",
        "    y=y.T[:,:m]\n",
        "    return x,y\n",
        "\n",
        "\n",
        "def test(fn,train,metric_str):\n",
        "    \"\"\"\n",
        "    fn: the function for computing specific statistic to apply\n",
        "    print out the test result for statistic between (stim,ctrl) and (ctrl,ctrl)\n",
        "\n",
        "    \"\"\"\n",
        "    # list_stim=list(train.obs['perturbation'].unique())\n",
        "    # list_stim.remove('control')\n",
        "    stim=train[train.obs['perturbation']!=\"control\"]\n",
        "    filtered_obs = stim.obs[stim.obs['perturbation'].map(stim.obs['perturbation'].value_counts()) >= 110]\n",
        "    obs_list=filtered_obs['perturbation'].unique()\n",
        "    list_stim=list(obs_list)\n",
        "\n",
        "    conditions={\"x\":\"control\",\"y\":\"stim\"}\n",
        "\n",
        "    difference=[]\n",
        "    control = train[train.obs[\"perturbation\"] == conditions[\"x\"]]\n",
        "\n",
        "    sample1,sample2,sample3=sample_control_control(control,control.shape[1])\n",
        "    # print(sample1.shape)\n",
        "    pairs={}\n",
        "    pairs[0]=(sample1,sample2)\n",
        "    pairs[1]=(sample1,sample3)\n",
        "    pairs[2]=(sample2,sample3)\n",
        "    for i in range(3):\n",
        "        (x,y)=pairs[i]\n",
        "        print(\"mean of computed statistics for (contrl, control):\",fn(train,None,conditions,True,x,y))\n",
        "        #set the sample_ctrl True\n",
        "        difference.append(fn(train,None,conditions,True,x,y))\n",
        "\n",
        "    zero=['control']*3\n",
        "    if_stim=['stim']*len(list_stim)\n",
        "\n",
        "    for stim in list_stim:\n",
        "      # str(stim)\n",
        "      out1=fn(adata=train,ctrl=sample1,conditions=str(stim))\n",
        "      out2=fn(adata=train,ctrl=sample2,conditions=str(stim))\n",
        "      out3=fn(adata=train,ctrl=sample3,conditions=str(stim))\n",
        "      difference.append((out1+out2+out3)/3)\n",
        "#         print(conditions)\n",
        "#         print(\"mean of computed statistics:\",fn(train,conditions))\n",
        "\n",
        "\n",
        "    #lastly,for (ctrl,ctrl) where we apply a different sampling method, get three points\n",
        "\n",
        "\n",
        "    if_stim= zero + if_stim\n",
        "    metric=[metric_str]*len(if_stim)\n",
        "\n",
        "    return difference,if_stim,metric\n",
        "\n"
      ]
    },
    {
      "cell_type": "code",
      "execution_count": null,
      "metadata": {
        "id": "zFqHtkFFmeoU"
      },
      "outputs": [],
      "source": [
        "from scipy import stats\n",
        "\n",
        "def average_dist_metric(x,y,fn):\n",
        "    kl=0\n",
        "    count_nan=0\n",
        "    for i in range(x.shape[0]):\n",
        "\n",
        "        sparse=np.absolute(fn(x[i],y[i]))\n",
        "        if np.isnan(sparse):#nan: caused by division by 0-vector(vec of all 0)\n",
        "            count_nan+=1\n",
        "        else:\n",
        "            kl+=sparse\n",
        "    if x.shape[0]==count_nan:\n",
        "        return 0 # note that 0 for t-statistics  means that the result is inconclusive and more data may be needed to make a definitive conclusion.\n",
        "    else:\n",
        "        return kl/(x.shape[0]-count_nan)\n",
        "\n",
        "def t_test(adata,ctrl,conditions,sample_ctrl=False,ctrl1=None,ctrl2=None):\n",
        "    if sample_ctrl:\n",
        "        x,y=ctrl1,ctrl2\n",
        "    else:\n",
        "        x,y=data_prep(adata,ctrl,conditions)\n",
        "    x,y=dist_based(x,y)#only for distribution based methods\n",
        "    fn=lambda x,y: stats.ttest_ind(x,y, equal_var=True)[0]\n",
        "    return average_dist_metric(x,y,fn)\n",
        "\n"
      ]
    },
    {
      "cell_type": "code",
      "execution_count": null,
      "metadata": {
        "colab": {
          "base_uri": "https://localhost:8080/",
          "height": 460
        },
        "id": "0yk4A-rxAhF1",
        "outputId": "b260a025-d4d4-4b50-deb3-dd7ec42c4b5f"
      },
      "outputs": [
        {
          "name": "stdout",
          "output_type": "stream",
          "text": [
            "mean of computed statistics for (contrl, control): 0.8067979919936674\n",
            "mean of computed statistics for (contrl, control): 0.812246690864386\n",
            "mean of computed statistics for (contrl, control): 0.8119357431492961\n"
          ]
        },
        {
          "data": {
            "text/plain": [
              "<Axes: xlabel='metric', ylabel='difference'>"
            ]
          },
          "execution_count": 12,
          "metadata": {},
          "output_type": "execute_result"
        },
        {
          "data": {
            "image/png": "[encoded data removed]",
            "text/plain": [
              "<Figure size 200x400 with 1 Axes>"
            ]
          },
          "metadata": {},
          "output_type": "display_data"
        }
      ],
      "source": [
        "import matplotlib.pyplot as plt\n",
        "import seaborn as sns\n",
        "difference5,if_stim5,metric5=test(t_test,train,'t-test')\n",
        "plt.figure(figsize=(2, 4))\n",
        "df=pd.DataFrame({'difference':difference5, 'if_stim':if_stim5, 'metric':metric5})\n",
        "sns.boxplot(data=df, x=\"metric\", y=\"difference\", hue=\"if_stim\")"
      ]
    },
    {
      "cell_type": "code",
      "execution_count": null,
      "metadata": {
        "colab": {
          "base_uri": "https://localhost:8080/",
          "height": 460
        },
        "id": "xHdAH20CmeoT",
        "outputId": "2c7e8a13-2971-4157-f385-bde16e682b9f"
      },
      "outputs": [
        {
          "name": "stdout",
          "output_type": "stream",
          "text": [
            "mean of computed statistics for (contrl, control): 0.000112524576\n",
            "mean of computed statistics for (contrl, control): 0.00011150121\n",
            "mean of computed statistics for (contrl, control): 0.00011365017\n"
          ]
        },
        {
          "data": {
            "text/plain": [
              "<Axes: xlabel='metric', ylabel='difference'>"
            ]
          },
          "execution_count": 13,
          "metadata": {},
          "output_type": "execute_result"
        },
        {
          "data": {
            "image/png": "[encoded data removed]",
            "text/plain": [
              "<Figure size 200x400 with 1 Axes>"
            ]
          },
          "metadata": {},
          "output_type": "display_data"
        }
      ],
      "source": [
        "from scipy.spatial import distance\n",
        "from scipy.stats import ttest_ind\n",
        "import warnings\n",
        "warnings.filterwarnings('ignore')\n",
        "\n",
        "#distribution based metrics\n",
        "#use Jensen-Shannon divergence to replace formula of kl divergence since kl diergence has\n",
        "#inf result for sparse data\n",
        "def kl2(x,y):\n",
        "  input=np.log(np.exp(x) / np.sum(np.exp(x)))\n",
        "  target=np.exp(y)/np.sum(np.exp(y))\n",
        "  loss= target*(np.log(target) - input)\n",
        "  return loss\n",
        "\n",
        "def calc_kl(adata,ctrl,conditions,sample_ctrl=False,ctrl1=None,ctrl2=None):\n",
        "    if sample_ctrl:\n",
        "        x,y=ctrl1,ctrl2\n",
        "    else:\n",
        "        x,y=data_prep(adata,ctrl,conditions)\n",
        "    x,y=dist_based(x,y)#only for distribution based methods\n",
        "\n",
        "    return compute_from_sample(x,y,kl2)\n",
        "\n",
        "difference4,if_stim4,metric4=test(calc_kl,train,'kl')\n",
        "plt.figure(figsize=(2, 4))\n",
        "df=pd.DataFrame({'difference':difference4, 'if_stim':if_stim4, 'metric':metric4})\n",
        "sns.boxplot(data=df, x=\"metric\", y=\"difference\", hue=\"if_stim\")"
      ]
    },
    {
      "cell_type": "code",
      "execution_count": null,
      "metadata": {
        "colab": {
          "base_uri": "https://localhost:8080/"
        },
        "id": "PT2LT5eSmeoS",
        "outputId": "f912c469-8f88-4fd2-a703-52e1a705fde6"
      },
      "outputs": [
        {
          "name": "stdout",
          "output_type": "stream",
          "text": [
            "mean of computed statistics for (contrl, control): 0.6512905981981875\n",
            "mean of computed statistics for (contrl, control): 0.6499960909647101\n",
            "mean of computed statistics for (contrl, control): 0.6543357449970507\n"
          ]
        }
      ],
      "source": [
        "from scipy import stats\n",
        "def calc_pearson(adata,ctrl,conditions, sample_ctrl=False,ctrl1=None,ctrl2=None):\n",
        "    \"\"\"\n",
        "    param\n",
        "    ---------\n",
        "    adata\n",
        "    condition: dictionary pass to adata to get sample1 and sample2 from specific 'condition'\n",
        "    fn: function for computing pearson coefficient\n",
        "    -----------\n",
        "    output: the average of pearson coefficient computed between each data from sample1 and sample2\n",
        "    \"\"\"\n",
        "    fn=lambda x,y: stats.pearsonr(x,y).statistic\n",
        "\n",
        "    if sample_ctrl:\n",
        "        x,y=ctrl1,ctrl2\n",
        "    else:\n",
        "        x,y=data_prep(adata,ctrl,conditions)\n",
        "\n",
        "\n",
        "    compute_from_mean(x,y,fn,sample_ctrl)\n",
        "\n",
        "\n",
        "    pearson_obs=dict.fromkeys(range(x.shape[0]))\n",
        "    for i in range(x.shape[0]):\n",
        "        #use pd\n",
        "        df = pd.DataFrame({'x':x[i], 'y':y[i]})\n",
        "        matrix=df.corr(method='pearson').values\n",
        "        pearson_obs[i] = matrix[0,1]\n",
        "\n",
        "    pr=list(pearson_obs.values())\n",
        "\n",
        "    return np.mean(pr)\n",
        "\n",
        "difference0,if_stim0,metric0=test(calc_pearson,train,'pearson')\n"
      ]
    },
    {
      "cell_type": "code",
      "execution_count": null,
      "metadata": {
        "colab": {
          "base_uri": "https://localhost:8080/",
          "height": 406
        },
        "id": "v4jb-WcmmeoT",
        "outputId": "b536cd4d-42e4-4b20-b4d5-84aed9a37faa"
      },
      "outputs": [
        {
          "data": {
            "text/plain": [
              "<Axes: xlabel='metric', ylabel='difference'>"
            ]
          },
          "execution_count": 15,
          "metadata": {},
          "output_type": "execute_result"
        },
        {
          "data": {
            "image/png": "[encoded data removed]",
            "text/plain": [
              "<Figure size 200x400 with 1 Axes>"
            ]
          },
          "metadata": {},
          "output_type": "display_data"
        }
      ],
      "source": [
        "import matplotlib.pyplot as plt\n",
        "df=pd.DataFrame({'difference':difference0, 'if_stim':if_stim0, 'metric':metric0})\n",
        "# print(difference,if_stim,metric)\n",
        "plt.figure(figsize=(2, 4))\n",
        "import seaborn as sns\n",
        "sns.boxplot(data=df, x=\"metric\", y=\"difference\", hue=\"if_stim\")"
      ]
    },
    {
      "cell_type": "code",
      "execution_count": null,
      "metadata": {
        "colab": {
          "base_uri": "https://localhost:8080/",
          "height": 460
        },
        "id": "CDrld4P2OQxj",
        "outputId": "05039d9b-c5de-461d-b46b-8709602f41f0"
      },
      "outputs": [
        {
          "name": "stdout",
          "output_type": "stream",
          "text": [
            "mean of computed statistics for (contrl, control): 0.4458478015085307\n",
            "mean of computed statistics for (contrl, control): 0.4447509746922118\n",
            "mean of computed statistics for (contrl, control): 0.44214513030224184\n"
          ]
        },
        {
          "data": {
            "text/plain": [
              "<Axes: xlabel='metric', ylabel='difference'>"
            ]
          },
          "execution_count": 16,
          "metadata": {},
          "output_type": "execute_result"
        },
        {
          "data": {
            "image/png": "[encoded data removed]",
            "text/plain": [
              "<Figure size 200x400 with 1 Axes>"
            ]
          },
          "metadata": {},
          "output_type": "display_data"
        }
      ],
      "source": [
        "def calc_spearman(adata,ctrl,conditions, sample_ctrl=False,ctrl1=None,ctrl2=None):\n",
        "    \"\"\"\n",
        "    param\n",
        "    ---------\n",
        "    adata\n",
        "    condition: dictionary pass to adata to get sample1 and sample2 from specific 'condition'\n",
        "    fn: function for computing pearson coefficient\n",
        "    -----------\n",
        "    output: the average of pearson coefficient computed between each data from sample1 and sample2\n",
        "    \"\"\"\n",
        "    fn=lambda x,y: stats.spearmanr(x,y).statistic\n",
        "\n",
        "    if sample_ctrl:\n",
        "        x,y=ctrl1,ctrl2\n",
        "    else:\n",
        "        x,y=data_prep(adata,ctrl,conditions)\n",
        "    return compute_from_sample(x,y,fn)\n",
        "\n",
        "difference0,if_stim0,metric0=test(calc_spearman,train,'spearman')\n",
        "\n",
        "df=pd.DataFrame({'difference':difference0, 'if_stim':if_stim0, 'metric':metric0})\n",
        "plt.figure(figsize=(2, 4))\n",
        "import seaborn as sns\n",
        "sns.boxplot(data=df, x=\"metric\", y=\"difference\", hue=\"if_stim\")\n"
      ]
    },
    {
      "cell_type": "code",
      "execution_count": null,
      "metadata": {
        "colab": {
          "base_uri": "https://localhost:8080/"
        },
        "id": "40xwfbTQmeoT",
        "outputId": "89ec59f2-3f77-47ac-b348-ccfce0ccf2e6"
      },
      "outputs": [
        {
          "name": "stdout",
          "output_type": "stream",
          "text": [
            "mean of computed statistics for (contrl, control): 0.17112292\n",
            "mean of computed statistics for (contrl, control): 0.17137541\n",
            "mean of computed statistics for (contrl, control): 0.17211807\n"
          ]
        }
      ],
      "source": [
        "\n",
        "from scipy import stats\n",
        "def calc_mae(adata,ctrl,conditions,sample_ctrl=False,ctrl1=None,ctrl2=None):\n",
        "    fn=lambda x,y: np.mean(np.abs(y-x))\n",
        "    if sample_ctrl:\n",
        "        x,y=ctrl1,ctrl2\n",
        "    else:\n",
        "        x,y=data_prep(adata,ctrl,conditions)\n",
        "\n",
        "    # compute_from_mean(x,y,fn)\n",
        "    return compute_from_sample(x,y,fn)\n",
        "\n",
        "difference,if_stim,metric=test(calc_mae,train,'mae')"
      ]
    },
    {
      "cell_type": "code",
      "execution_count": null,
      "metadata": {
        "colab": {
          "base_uri": "https://localhost:8080/",
          "height": 406
        },
        "id": "RRyWW7_UmeoT",
        "outputId": "742c3792-cb60-40ef-c71d-34dd2e4a859a"
      },
      "outputs": [
        {
          "data": {
            "text/plain": [
              "<Axes: xlabel='metric', ylabel='difference'>"
            ]
          },
          "execution_count": 18,
          "metadata": {},
          "output_type": "execute_result"
        },
        {
          "data": {
            "image/png": "[encoded data removed]",
            "text/plain": [
              "<Figure size 200x400 with 1 Axes>"
            ]
          },
          "metadata": {},
          "output_type": "display_data"
        }
      ],
      "source": [
        "# print(difference2,if_stim2,metric2)\n",
        "plt.figure(figsize=(2, 4))\n",
        "df=pd.DataFrame({'difference':difference, 'if_stim':if_stim, 'metric':metric})\n",
        "sns.boxplot(data=df, x=\"metric\", y=\"difference\", hue=\"if_stim\")"
      ]
    },
    {
      "cell_type": "code",
      "execution_count": null,
      "metadata": {
        "colab": {
          "base_uri": "https://localhost:8080/",
          "height": 460
        },
        "id": "S_yZTWXmmeoT",
        "outputId": "3a16140d-5228-48d0-d2fe-a8ecf0fe7e8d"
      },
      "outputs": [
        {
          "name": "stdout",
          "output_type": "stream",
          "text": [
            "mean of computed statistics for (contrl, control): 52.67256\n",
            "mean of computed statistics for (contrl, control): 52.76429\n",
            "mean of computed statistics for (contrl, control): 52.577457\n"
          ]
        },
        {
          "data": {
            "text/plain": [
              "<Axes: xlabel='metric', ylabel='difference'>"
            ]
          },
          "execution_count": 19,
          "metadata": {},
          "output_type": "execute_result"
        },
        {
          "data": {
            "image/png": "[encoded data removed]",
            "text/plain": [
              "<Figure size 200x400 with 1 Axes>"
            ]
          },
          "metadata": {},
          "output_type": "display_data"
        }
      ],
      "source": [
        "def calc_euclidean_d(adata,ctrl,conditions,sample_ctrl=False,ctrl1=None,ctrl2=None):\n",
        "    fn=lambda x,y: np.linalg.norm(x-y)\n",
        "    if sample_ctrl:\n",
        "        x,y=ctrl1,ctrl2\n",
        "    else:\n",
        "        x,y=data_prep(adata,ctrl,conditions)\n",
        "    compute_from_mean(x,y,fn)\n",
        "    return compute_from_sample(x,y,fn)\n",
        "\n",
        "difference2,if_stim2,metric2=test(calc_euclidean_d,train,'euclidean')\n",
        "plt.figure(figsize=(2, 4))\n",
        "df=pd.DataFrame({'difference':difference2, 'if_stim':if_stim2, 'metric':metric2})\n",
        "sns.boxplot(data=df, x=\"metric\", y=\"difference\", hue=\"if_stim\")\n"
      ]
    },
    {
      "cell_type": "code",
      "execution_count": null,
      "metadata": {
        "id": "eMXR2ixXrhwl"
      },
      "outputs": [],
      "source": [
        "\n",
        "# print(train.X.toarray())\n",
        "# print(X_norm.toarray())\n"
      ]
    },
    {
      "cell_type": "code",
      "execution_count": null,
      "metadata": {
        "colab": {
          "base_uri": "https://localhost:8080/",
          "height": 460
        },
        "id": "R22ZbrTbmeoT",
        "outputId": "05158f08-67e3-4b26-bcf7-2e9452f34f57"
      },
      "outputs": [
        {
          "name": "stdout",
          "output_type": "stream",
          "text": [
            "mean of computed statistics for (contrl, control): 0.29207467448568214\n",
            "mean of computed statistics for (contrl, control): 0.2947292189648823\n",
            "mean of computed statistics for (contrl, control): 0.29457581526670773\n"
          ]
        },
        {
          "data": {
            "text/plain": [
              "<Axes: xlabel='metric', ylabel='difference'>"
            ]
          },
          "execution_count": 21,
          "metadata": {},
          "output_type": "execute_result"
        },
        {
          "data": {
            "image/png": "[encoded data removed]",
            "text/plain": [
              "<Figure size 200x400 with 1 Axes>"
            ]
          },
          "metadata": {},
          "output_type": "display_data"
        }
      ],
      "source": [
        "from sklearn.metrics import r2_score\n",
        "def calc_r(adata,ctrl,conditions,sample_ctrl=False,ctrl1=None,ctrl2=None):\n",
        "    fn=lambda x,y: r2_score(y,x)\n",
        "    if sample_ctrl:\n",
        "        x,y=ctrl1,ctrl2\n",
        "    else:\n",
        "        x,y=data_prep(adata,ctrl,conditions)\n",
        "    compute_from_mean(x,y,fn)\n",
        "    return compute_from_sample(x,y,fn)\n",
        "\n",
        "difference3,if_stim3,metric3=test(calc_r,train,'r-square')\n",
        "plt.figure(figsize=(2, 4))\n",
        "df=pd.DataFrame({'difference':difference3, 'if_stim':if_stim3, 'metric':metric3})\n",
        "sns.boxplot(data=df, x=\"metric\", y=\"difference\", hue=\"if_stim\")"
      ]
    },
    {
      "cell_type": "code",
      "execution_count": null,
      "metadata": {
        "colab": {
          "background_save": true,
          "base_uri": "https://localhost:8080/"
        },
        "id": "4nBVcgxRmeoU",
        "outputId": "5894e714-0edd-4133-ea0c-2e3377e1f414"
      },
      "outputs": [
        {
          "name": "stdout",
          "output_type": "stream",
          "text": [
            "mean of computed statistics for (contrl, control): 0.0001161135733127594\n",
            "mean of computed statistics for (contrl, control): 0.0001206621527671814\n",
            "mean of computed statistics for (contrl, control): 0.00012283027172088623\n"
          ]
        },
        {
          "data": {
            "text/plain": [
              "<Axes: xlabel='metric', ylabel='difference'>"
            ]
          },
          "execution_count": 22,
          "metadata": {},
          "output_type": "execute_result"
        },
        {
          "data": {
            "image/png": "[encoded data removed]",
            "text/plain": [
              "<Figure size 200x400 with 1 Axes>"
            ]
          },
          "metadata": {},
          "output_type": "display_data"
        }
      ],
      "source": [
        "from sklearn import metrics\n",
        "#very slow ~20min\n",
        "def mmd_rbf(X, Y, gamma=1.0):\n",
        "    \"\"\"MMD using rbf (gaussian) kernel (i.e., k(x,y) = exp(-gamma * ||x-y||^2 / 2))\n",
        "    Arguments:\n",
        "        X {[n_sample1, dim]} -- [X matrix]\n",
        "        Y {[n_sample2, dim]} -- [Y matrix]\n",
        "    Keyword Arguments:\n",
        "        gamma {float} -- [kernel parameter] (default: {1.0})\n",
        "    Returns:\n",
        "        [scalar] -- [MMD value]\n",
        "    \"\"\"\n",
        "\n",
        "    # print(\"mmd\")\n",
        "    XX = metrics.pairwise.rbf_kernel(X, X, gamma)\n",
        "    YY = metrics.pairwise.rbf_kernel(Y, Y, gamma)\n",
        "    XY = metrics.pairwise.rbf_kernel(X, Y, gamma)\n",
        "    return XX.mean() + YY.mean() - 2 * XY.mean()\n",
        "\n",
        "def mmd(adata,ctrl,conditions,sample_ctrl=False,ctrl1=None,ctrl2=None):\n",
        "    if sample_ctrl:\n",
        "        x,y=ctrl1,ctrl2\n",
        "    else:\n",
        "        x,y=data_prep(adata,ctrl,conditions)\n",
        "    x,y=dist_based(x,y)\n",
        "    # print(mmd_rbf(x,y))\n",
        "\n",
        "    return mmd_rbf(x,y)\n",
        "\n",
        "difference6,if_stim6,metric6=test(mmd,train,'mmd')\n",
        "plt.figure(figsize=(2, 4))\n",
        "df=pd.DataFrame({'difference':difference6, 'if_stim':if_stim6, 'metric':metric6})\n",
        "sns.boxplot(data=df, x=\"metric\", y=\"difference\", hue=\"if_stim\")"
      ]
    },
    {
      "cell_type": "code",
      "execution_count": null,
      "metadata": {
        "colab": {
          "background_save": true
        },
        "id": "ArPuTUL3meoU",
        "outputId": "b26f176a-668d-47ad-f29e-304a017d18ed"
      },
      "outputs": [
        {
          "name": "stdout",
          "output_type": "stream",
          "text": [
            "mean of computed statistics for (contrl, control): 0.011474530598360122\n",
            "mean of computed statistics for (contrl, control): 0.011124578334599821\n",
            "mean of computed statistics for (contrl, control): 0.010766554865997648\n"
          ]
        },
        {
          "data": {
            "text/plain": [
              "<Axes: xlabel='metric', ylabel='difference'>"
            ]
          },
          "execution_count": 23,
          "metadata": {},
          "output_type": "execute_result"
        },
        {
          "data": {
            "image/png": "[encoded data removed]",
            "text/plain": [
              "<Figure size 200x400 with 1 Axes>"
            ]
          },
          "metadata": {},
          "output_type": "display_data"
        }
      ],
      "source": [
        "def calc_wasserstein(adata,ctrl,conditions,sample_ctrl=False,ctrl1=None,ctrl2=None):\n",
        "    fn=lambda x,y: stats.wasserstein_distance(x,y)\n",
        "    if sample_ctrl:\n",
        "        x,y=ctrl1,ctrl2\n",
        "    else:\n",
        "        x,y=data_prep(adata,ctrl,conditions)\n",
        "    x,y=dist_based(x,y)\n",
        "    return compute_from_sample(x,y,fn)\n",
        "\n",
        "\n",
        "difference7,if_stim7,metric7=test(calc_wasserstein,train,'wasserstein')\n",
        "plt.figure(figsize=(2, 4))\n",
        "df=pd.DataFrame({'difference':difference7, 'if_stim':if_stim7, 'metric':metric7})\n",
        "sns.boxplot(data=df, x=\"metric\", y=\"difference\", hue=\"if_stim\")"
      ]
    },
    {
      "cell_type": "code",
      "execution_count": null,
      "metadata": {
        "colab": {
          "background_save": true
        },
        "id": "TZNkhsJdmeoU"
      },
      "outputs": [],
      "source": []
    }
  ],
  "metadata": {
    "colab": {
      "provenance": []
    },
    "kernelspec": {
      "display_name": "Python 3 (ipykernel)",
      "language": "python",
      "name": "python3"
    },
    "language_info": {
      "codemirror_mode": {
        "name": "ipython",
        "version": 3
      },
      "file_extension": ".py",
      "mimetype": "text/x-python",
      "name": "python",
      "nbconvert_exporter": "python",
      "pygments_lexer": "ipython3",
      "version": "3.8.16"
    }
  },
  "nbformat": 4,
  "nbformat_minor": 0
}