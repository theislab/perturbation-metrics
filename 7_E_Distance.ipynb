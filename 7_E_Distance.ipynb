{
  "cells": [
    {
      "cell_type": "code",
      "execution_count": 1,
      "metadata": {
        "colab": {
          "base_uri": "https://localhost:8080/"
        },
        "id": "zqj11am4x9Li",
        "outputId": "f0520aa6-c741-4890-8a0e-566ec8dd8451"
      },
      "outputs": [
        {
          "output_type": "stream",
          "name": "stdout",
          "text": [
            "Reading package lists... Done\n",
            "Building dependency tree       \n",
            "Reading state information... Done\n",
            "libcairo2 is already the newest version (1.16.0-4ubuntu1).\n",
            "libcairo2-dev is already the newest version (1.16.0-4ubuntu1).\n",
            "ffmpeg is already the newest version (7:4.2.7-0ubuntu0.1).\n",
            "sox is already the newest version (14.4.2+git20190427-2+deb11u2build0.20.04.1).\n",
            "0 upgraded, 0 newly installed, 0 to remove and 24 not upgraded.\n",
            "Reading package lists... Done\n",
            "Building dependency tree       \n",
            "Reading state information... Done\n",
            "texlive-full is already the newest version (2019.20200218-1).\n",
            "0 upgraded, 0 newly installed, 0 to remove and 24 not upgraded.\n",
            "Drive already mounted at /content/drive; to attempt to forcibly remount, call drive.mount(\"/content/drive\", force_remount=True).\n",
            "/content/drive/MyDrive/Colab_Notebooks/perturbation_metric_test\n",
            "Looking in indexes: https://pypi.org/simple, https://us-python.pkg.dev/colab-wheels/public/simple/\n",
            "Requirement already satisfied: anndata in /usr/local/lib/python3.10/dist-packages (0.9.1)\n",
            "Requirement already satisfied: pandas>=1.1.1 in /usr/local/lib/python3.10/dist-packages (from anndata) (1.5.3)\n",
            "Requirement already satisfied: numpy>=1.16.5 in /usr/local/lib/python3.10/dist-packages (from anndata) (1.22.4)\n",
            "Requirement already satisfied: scipy>1.4 in /usr/local/lib/python3.10/dist-packages (from anndata) (1.10.1)\n",
            "Requirement already satisfied: h5py>=3 in /usr/local/lib/python3.10/dist-packages (from anndata) (3.8.0)\n",
            "Requirement already satisfied: natsort in /usr/local/lib/python3.10/dist-packages (from anndata) (8.3.1)\n",
            "Requirement already satisfied: packaging>=20 in /usr/local/lib/python3.10/dist-packages (from anndata) (23.1)\n",
            "Requirement already satisfied: python-dateutil>=2.8.1 in /usr/local/lib/python3.10/dist-packages (from pandas>=1.1.1->anndata) (2.8.2)\n",
            "Requirement already satisfied: pytz>=2020.1 in /usr/local/lib/python3.10/dist-packages (from pandas>=1.1.1->anndata) (2022.7.1)\n",
            "Requirement already satisfied: six>=1.5 in /usr/local/lib/python3.10/dist-packages (from python-dateutil>=2.8.1->pandas>=1.1.1->anndata) (1.16.0)\n",
            "Looking in indexes: https://pypi.org/simple, https://us-python.pkg.dev/colab-wheels/public/simple/\n",
            "Collecting git+https://github.com/theislab/scgen.git\n",
            "  Cloning https://github.com/theislab/scgen.git to /tmp/pip-req-build-w8gszmda\n",
            "  Running command git clone --filter=blob:none --quiet https://github.com/theislab/scgen.git /tmp/pip-req-build-w8gszmda\n",
            "  Resolved https://github.com/theislab/scgen.git to commit 06084773e56cad0dec340138441dee47a39af752\n",
            "  Installing build dependencies ... \u001b[?25l\u001b[?25hdone\n",
            "  Getting requirements to build wheel ... \u001b[?25l\u001b[?25hdone\n",
            "  Preparing metadata (pyproject.toml) ... \u001b[?25l\u001b[?25hdone\n",
            "Requirement already satisfied: adjustText in /usr/local/lib/python3.10/dist-packages (from scgen==2.1.1) (0.7.3)\n",
            "Requirement already satisfied: anndata>=0.7.5 in /usr/local/lib/python3.10/dist-packages (from scgen==2.1.1) (0.9.1)\n",
            "Requirement already satisfied: matplotlib!=3.7.0 in /usr/local/lib/python3.10/dist-packages (from scgen==2.1.1) (3.7.1)\n",
            "Requirement already satisfied: scanpy>=1.6 in /usr/local/lib/python3.10/dist-packages (from scgen==2.1.1) (1.9.3)\n",
            "Collecting scvi-tools>=0.20.0 (from scgen==2.1.1)\n",
            "  Using cached scvi_tools-0.20.3-py3-none-any.whl (330 kB)\n",
            "Requirement already satisfied: seaborn>=0.11 in /usr/local/lib/python3.10/dist-packages (from scgen==2.1.1) (0.11.2)\n",
            "Requirement already satisfied: pandas>=1.1.1 in /usr/local/lib/python3.10/dist-packages (from anndata>=0.7.5->scgen==2.1.1) (1.5.3)\n",
            "Requirement already satisfied: numpy>=1.16.5 in /usr/local/lib/python3.10/dist-packages (from anndata>=0.7.5->scgen==2.1.1) (1.22.4)\n",
            "Requirement already satisfied: scipy>1.4 in /usr/local/lib/python3.10/dist-packages (from anndata>=0.7.5->scgen==2.1.1) (1.10.1)\n",
            "Requirement already satisfied: h5py>=3 in /usr/local/lib/python3.10/dist-packages (from anndata>=0.7.5->scgen==2.1.1) (3.8.0)\n",
            "Requirement already satisfied: natsort in /usr/local/lib/python3.10/dist-packages (from anndata>=0.7.5->scgen==2.1.1) (8.3.1)\n",
            "Requirement already satisfied: packaging>=20 in /usr/local/lib/python3.10/dist-packages (from anndata>=0.7.5->scgen==2.1.1) (23.1)\n",
            "Requirement already satisfied: contourpy>=1.0.1 in /usr/local/lib/python3.10/dist-packages (from matplotlib!=3.7.0->scgen==2.1.1) (1.0.7)\n",
            "Requirement already satisfied: cycler>=0.10 in /usr/local/lib/python3.10/dist-packages (from matplotlib!=3.7.0->scgen==2.1.1) (0.11.0)\n",
            "Requirement already satisfied: fonttools>=4.22.0 in /usr/local/lib/python3.10/dist-packages (from matplotlib!=3.7.0->scgen==2.1.1) (4.39.3)\n",
            "Requirement already satisfied: kiwisolver>=1.0.1 in /usr/local/lib/python3.10/dist-packages (from matplotlib!=3.7.0->scgen==2.1.1) (1.4.4)\n",
            "Requirement already satisfied: pillow>=6.2.0 in /usr/local/lib/python3.10/dist-packages (from matplotlib!=3.7.0->scgen==2.1.1) (9.5.0)\n",
            "Requirement already satisfied: pyparsing>=2.3.1 in /usr/local/lib/python3.10/dist-packages (from matplotlib!=3.7.0->scgen==2.1.1) (3.0.9)\n",
            "Requirement already satisfied: python-dateutil>=2.7 in /usr/local/lib/python3.10/dist-packages (from matplotlib!=3.7.0->scgen==2.1.1) (2.8.2)\n",
            "Requirement already satisfied: tqdm in /usr/local/lib/python3.10/dist-packages (from scanpy>=1.6->scgen==2.1.1) (4.65.0)\n",
            "Requirement already satisfied: scikit-learn>=0.22 in /usr/local/lib/python3.10/dist-packages (from scanpy>=1.6->scgen==2.1.1) (1.2.2)\n",
            "Requirement already satisfied: statsmodels>=0.10.0rc2 in /usr/local/lib/python3.10/dist-packages (from scanpy>=1.6->scgen==2.1.1) (0.13.5)\n",
            "Requirement already satisfied: patsy in /usr/local/lib/python3.10/dist-packages (from scanpy>=1.6->scgen==2.1.1) (0.5.3)\n",
            "Requirement already satisfied: networkx>=2.3 in /usr/local/lib/python3.10/dist-packages (from scanpy>=1.6->scgen==2.1.1) (3.1)\n",
            "Requirement already satisfied: joblib in /usr/local/lib/python3.10/dist-packages (from scanpy>=1.6->scgen==2.1.1) (1.2.0)\n",
            "Requirement already satisfied: numba>=0.41.0 in /usr/local/lib/python3.10/dist-packages (from scanpy>=1.6->scgen==2.1.1) (0.56.4)\n",
            "Requirement already satisfied: umap-learn>=0.3.10 in /usr/local/lib/python3.10/dist-packages (from scanpy>=1.6->scgen==2.1.1) (0.5.3)\n",
            "Requirement already satisfied: session-info in /usr/local/lib/python3.10/dist-packages (from scanpy>=1.6->scgen==2.1.1) (1.0.0)\n",
            "Requirement already satisfied: chex in /usr/local/lib/python3.10/dist-packages (from scvi-tools>=0.20.0->scgen==2.1.1) (0.1.7)\n",
            "Requirement already satisfied: docrep>=0.3.2 in /usr/local/lib/python3.10/dist-packages (from scvi-tools>=0.20.0->scgen==2.1.1) (0.3.2)\n",
            "Requirement already satisfied: flax in /usr/local/lib/python3.10/dist-packages (from scvi-tools>=0.20.0->scgen==2.1.1) (0.6.9)\n",
            "Requirement already satisfied: jax>=0.4.4 in /usr/local/lib/python3.10/dist-packages (from scvi-tools>=0.20.0->scgen==2.1.1) (0.4.8)\n",
            "Requirement already satisfied: jaxlib>=0.4.3 in /usr/local/lib/python3.10/dist-packages (from scvi-tools>=0.20.0->scgen==2.1.1) (0.4.7+cuda11.cudnn86)\n",
            "Requirement already satisfied: ml-collections>=0.1.1 in /usr/local/lib/python3.10/dist-packages (from scvi-tools>=0.20.0->scgen==2.1.1) (0.1.1)\n",
            "Requirement already satisfied: mudata>=0.1.2 in /usr/local/lib/python3.10/dist-packages (from scvi-tools>=0.20.0->scgen==2.1.1) (0.2.2)\n",
            "Requirement already satisfied: numpyro in /usr/local/lib/python3.10/dist-packages (from scvi-tools>=0.20.0->scgen==2.1.1) (0.11.0)\n",
            "Requirement already satisfied: openpyxl>=3.0 in /usr/local/lib/python3.10/dist-packages (from scvi-tools>=0.20.0->scgen==2.1.1) (3.0.10)\n",
            "Requirement already satisfied: optax in /usr/local/lib/python3.10/dist-packages (from scvi-tools>=0.20.0->scgen==2.1.1) (0.1.5)\n",
            "Requirement already satisfied: pyro-ppl>=1.6.0 in /usr/local/lib/python3.10/dist-packages (from scvi-tools>=0.20.0->scgen==2.1.1) (1.8.4)\n",
            "Collecting pytorch-lightning<1.10.0,>=1.9.0 (from scvi-tools>=0.20.0->scgen==2.1.1)\n",
            "  Using cached pytorch_lightning-1.9.5-py3-none-any.whl (829 kB)\n",
            "Requirement already satisfied: rich>=12.0.0 in /usr/local/lib/python3.10/dist-packages (from scvi-tools>=0.20.0->scgen==2.1.1) (13.3.4)\n",
            "Requirement already satisfied: torch>=1.8.0 in /usr/local/lib/python3.10/dist-packages (from scvi-tools>=0.20.0->scgen==2.1.1) (2.0.0+cu118)\n",
            "Requirement already satisfied: torchmetrics>=0.11.0 in /usr/local/lib/python3.10/dist-packages (from scvi-tools>=0.20.0->scgen==2.1.1) (0.11.4)\n",
            "Requirement already satisfied: six in /usr/local/lib/python3.10/dist-packages (from docrep>=0.3.2->scvi-tools>=0.20.0->scgen==2.1.1) (1.16.0)\n",
            "Requirement already satisfied: ml-dtypes>=0.0.3 in /usr/local/lib/python3.10/dist-packages (from jax>=0.4.4->scvi-tools>=0.20.0->scgen==2.1.1) (0.1.0)\n",
            "Requirement already satisfied: opt-einsum in /usr/local/lib/python3.10/dist-packages (from jax>=0.4.4->scvi-tools>=0.20.0->scgen==2.1.1) (3.3.0)\n",
            "Requirement already satisfied: absl-py in /usr/local/lib/python3.10/dist-packages (from ml-collections>=0.1.1->scvi-tools>=0.20.0->scgen==2.1.1) (1.4.0)\n",
            "Requirement already satisfied: PyYAML in /usr/local/lib/python3.10/dist-packages (from ml-collections>=0.1.1->scvi-tools>=0.20.0->scgen==2.1.1) (6.0)\n",
            "Requirement already satisfied: contextlib2 in /usr/local/lib/python3.10/dist-packages (from ml-collections>=0.1.1->scvi-tools>=0.20.0->scgen==2.1.1) (0.6.0.post1)\n",
            "Requirement already satisfied: llvmlite<0.40,>=0.39.0dev0 in /usr/local/lib/python3.10/dist-packages (from numba>=0.41.0->scanpy>=1.6->scgen==2.1.1) (0.39.1)\n",
            "Requirement already satisfied: setuptools in /usr/local/lib/python3.10/dist-packages (from numba>=0.41.0->scanpy>=1.6->scgen==2.1.1) (67.7.2)\n",
            "Requirement already satisfied: et-xmlfile in /usr/local/lib/python3.10/dist-packages (from openpyxl>=3.0->scvi-tools>=0.20.0->scgen==2.1.1) (1.1.0)\n",
            "Requirement already satisfied: pytz>=2020.1 in /usr/local/lib/python3.10/dist-packages (from pandas>=1.1.1->anndata>=0.7.5->scgen==2.1.1) (2022.7.1)\n",
            "Requirement already satisfied: pyro-api>=0.1.1 in /usr/local/lib/python3.10/dist-packages (from pyro-ppl>=1.6.0->scvi-tools>=0.20.0->scgen==2.1.1) (0.1.2)\n",
            "Requirement already satisfied: fsspec[http]>2021.06.0 in /usr/local/lib/python3.10/dist-packages (from pytorch-lightning<1.10.0,>=1.9.0->scvi-tools>=0.20.0->scgen==2.1.1) (2023.4.0)\n",
            "Requirement already satisfied: typing-extensions>=4.0.0 in /usr/local/lib/python3.10/dist-packages (from pytorch-lightning<1.10.0,>=1.9.0->scvi-tools>=0.20.0->scgen==2.1.1) (4.5.0)\n",
            "Requirement already satisfied: lightning-utilities>=0.6.0.post0 in /usr/local/lib/python3.10/dist-packages (from pytorch-lightning<1.10.0,>=1.9.0->scvi-tools>=0.20.0->scgen==2.1.1) (0.8.0)\n",
            "Requirement already satisfied: markdown-it-py<3.0.0,>=2.2.0 in /usr/local/lib/python3.10/dist-packages (from rich>=12.0.0->scvi-tools>=0.20.0->scgen==2.1.1) (2.2.0)\n",
            "Requirement already satisfied: pygments<3.0.0,>=2.13.0 in /usr/local/lib/python3.10/dist-packages (from rich>=12.0.0->scvi-tools>=0.20.0->scgen==2.1.1) (2.14.0)\n",
            "Requirement already satisfied: threadpoolctl>=2.0.0 in /usr/local/lib/python3.10/dist-packages (from scikit-learn>=0.22->scanpy>=1.6->scgen==2.1.1) (3.1.0)\n",
            "Requirement already satisfied: filelock in /usr/local/lib/python3.10/dist-packages (from torch>=1.8.0->scvi-tools>=0.20.0->scgen==2.1.1) (3.12.0)\n",
            "Requirement already satisfied: sympy in /usr/local/lib/python3.10/dist-packages (from torch>=1.8.0->scvi-tools>=0.20.0->scgen==2.1.1) (1.11.1)\n",
            "Requirement already satisfied: jinja2 in /usr/local/lib/python3.10/dist-packages (from torch>=1.8.0->scvi-tools>=0.20.0->scgen==2.1.1) (3.1.2)\n",
            "Requirement already satisfied: triton==2.0.0 in /usr/local/lib/python3.10/dist-packages (from torch>=1.8.0->scvi-tools>=0.20.0->scgen==2.1.1) (2.0.0)\n",
            "Requirement already satisfied: cmake in /usr/local/lib/python3.10/dist-packages (from triton==2.0.0->torch>=1.8.0->scvi-tools>=0.20.0->scgen==2.1.1) (3.25.2)\n",
            "Requirement already satisfied: lit in /usr/local/lib/python3.10/dist-packages (from triton==2.0.0->torch>=1.8.0->scvi-tools>=0.20.0->scgen==2.1.1) (16.0.3)\n",
            "Requirement already satisfied: pynndescent>=0.5 in /usr/local/lib/python3.10/dist-packages (from umap-learn>=0.3.10->scanpy>=1.6->scgen==2.1.1) (0.5.10)\n",
            "Requirement already satisfied: dm-tree>=0.1.5 in /usr/local/lib/python3.10/dist-packages (from chex->scvi-tools>=0.20.0->scgen==2.1.1) (0.1.8)\n",
            "Requirement already satisfied: toolz>=0.9.0 in /usr/local/lib/python3.10/dist-packages (from chex->scvi-tools>=0.20.0->scgen==2.1.1) (0.12.0)\n",
            "Requirement already satisfied: msgpack in /usr/local/lib/python3.10/dist-packages (from flax->scvi-tools>=0.20.0->scgen==2.1.1) (1.0.5)\n",
            "Requirement already satisfied: orbax-checkpoint in /usr/local/lib/python3.10/dist-packages (from flax->scvi-tools>=0.20.0->scgen==2.1.1) (0.2.1)\n",
            "Requirement already satisfied: tensorstore in /usr/local/lib/python3.10/dist-packages (from flax->scvi-tools>=0.20.0->scgen==2.1.1) (0.1.36)\n",
            "Requirement already satisfied: multipledispatch in /usr/local/lib/python3.10/dist-packages (from numpyro->scvi-tools>=0.20.0->scgen==2.1.1) (0.6.0)\n",
            "Requirement already satisfied: stdlib-list in /usr/local/lib/python3.10/dist-packages (from session-info->scanpy>=1.6->scgen==2.1.1) (0.8.0)\n",
            "Requirement already satisfied: requests in /usr/local/lib/python3.10/dist-packages (from fsspec[http]>2021.06.0->pytorch-lightning<1.10.0,>=1.9.0->scvi-tools>=0.20.0->scgen==2.1.1) (2.27.1)\n",
            "Requirement already satisfied: aiohttp!=4.0.0a0,!=4.0.0a1 in /usr/local/lib/python3.10/dist-packages (from fsspec[http]>2021.06.0->pytorch-lightning<1.10.0,>=1.9.0->scvi-tools>=0.20.0->scgen==2.1.1) (3.8.4)\n",
            "Requirement already satisfied: mdurl~=0.1 in /usr/local/lib/python3.10/dist-packages (from markdown-it-py<3.0.0,>=2.2.0->rich>=12.0.0->scvi-tools>=0.20.0->scgen==2.1.1) (0.1.2)\n",
            "Requirement already satisfied: MarkupSafe>=2.0 in /usr/local/lib/python3.10/dist-packages (from jinja2->torch>=1.8.0->scvi-tools>=0.20.0->scgen==2.1.1) (2.1.2)\n",
            "Requirement already satisfied: cached_property in /usr/local/lib/python3.10/dist-packages (from orbax-checkpoint->flax->scvi-tools>=0.20.0->scgen==2.1.1) (1.5.2)\n",
            "Requirement already satisfied: importlib_resources in /usr/local/lib/python3.10/dist-packages (from orbax-checkpoint->flax->scvi-tools>=0.20.0->scgen==2.1.1) (5.12.0)\n",
            "Requirement already satisfied: etils in /usr/local/lib/python3.10/dist-packages (from orbax-checkpoint->flax->scvi-tools>=0.20.0->scgen==2.1.1) (1.2.0)\n",
            "Requirement already satisfied: nest_asyncio in /usr/local/lib/python3.10/dist-packages (from orbax-checkpoint->flax->scvi-tools>=0.20.0->scgen==2.1.1) (1.5.6)\n",
            "Requirement already satisfied: mpmath>=0.19 in /usr/local/lib/python3.10/dist-packages (from sympy->torch>=1.8.0->scvi-tools>=0.20.0->scgen==2.1.1) (1.3.0)\n",
            "Requirement already satisfied: attrs>=17.3.0 in /usr/local/lib/python3.10/dist-packages (from aiohttp!=4.0.0a0,!=4.0.0a1->fsspec[http]>2021.06.0->pytorch-lightning<1.10.0,>=1.9.0->scvi-tools>=0.20.0->scgen==2.1.1) (23.1.0)\n",
            "Requirement already satisfied: charset-normalizer<4.0,>=2.0 in /usr/local/lib/python3.10/dist-packages (from aiohttp!=4.0.0a0,!=4.0.0a1->fsspec[http]>2021.06.0->pytorch-lightning<1.10.0,>=1.9.0->scvi-tools>=0.20.0->scgen==2.1.1) (2.0.12)\n",
            "Requirement already satisfied: multidict<7.0,>=4.5 in /usr/local/lib/python3.10/dist-packages (from aiohttp!=4.0.0a0,!=4.0.0a1->fsspec[http]>2021.06.0->pytorch-lightning<1.10.0,>=1.9.0->scvi-tools>=0.20.0->scgen==2.1.1) (6.0.4)\n",
            "Requirement already satisfied: async-timeout<5.0,>=4.0.0a3 in /usr/local/lib/python3.10/dist-packages (from aiohttp!=4.0.0a0,!=4.0.0a1->fsspec[http]>2021.06.0->pytorch-lightning<1.10.0,>=1.9.0->scvi-tools>=0.20.0->scgen==2.1.1) (4.0.2)\n",
            "Requirement already satisfied: yarl<2.0,>=1.0 in /usr/local/lib/python3.10/dist-packages (from aiohttp!=4.0.0a0,!=4.0.0a1->fsspec[http]>2021.06.0->pytorch-lightning<1.10.0,>=1.9.0->scvi-tools>=0.20.0->scgen==2.1.1) (1.9.2)\n",
            "Requirement already satisfied: frozenlist>=1.1.1 in /usr/local/lib/python3.10/dist-packages (from aiohttp!=4.0.0a0,!=4.0.0a1->fsspec[http]>2021.06.0->pytorch-lightning<1.10.0,>=1.9.0->scvi-tools>=0.20.0->scgen==2.1.1) (1.3.3)\n",
            "Requirement already satisfied: aiosignal>=1.1.2 in /usr/local/lib/python3.10/dist-packages (from aiohttp!=4.0.0a0,!=4.0.0a1->fsspec[http]>2021.06.0->pytorch-lightning<1.10.0,>=1.9.0->scvi-tools>=0.20.0->scgen==2.1.1) (1.3.1)\n",
            "Requirement already satisfied: urllib3<1.27,>=1.21.1 in /usr/local/lib/python3.10/dist-packages (from requests->fsspec[http]>2021.06.0->pytorch-lightning<1.10.0,>=1.9.0->scvi-tools>=0.20.0->scgen==2.1.1) (1.26.15)\n",
            "Requirement already satisfied: certifi>=2017.4.17 in /usr/local/lib/python3.10/dist-packages (from requests->fsspec[http]>2021.06.0->pytorch-lightning<1.10.0,>=1.9.0->scvi-tools>=0.20.0->scgen==2.1.1) (2022.12.7)\n",
            "Requirement already satisfied: idna<4,>=2.5 in /usr/local/lib/python3.10/dist-packages (from requests->fsspec[http]>2021.06.0->pytorch-lightning<1.10.0,>=1.9.0->scvi-tools>=0.20.0->scgen==2.1.1) (3.4)\n",
            "Installing collected packages: pytorch-lightning, scvi-tools\n",
            "  Attempting uninstall: pytorch-lightning\n",
            "    Found existing installation: pytorch-lightning 1.7.7\n",
            "    Uninstalling pytorch-lightning-1.7.7:\n",
            "      Successfully uninstalled pytorch-lightning-1.7.7\n",
            "  Attempting uninstall: scvi-tools\n",
            "    Found existing installation: scvi-tools 0.19.0\n",
            "    Uninstalling scvi-tools-0.19.0:\n",
            "      Successfully uninstalled scvi-tools-0.19.0\n",
            "\u001b[31mERROR: pip's dependency resolver does not currently take into account all the packages that are installed. This behaviour is the source of the following dependency conflicts.\n",
            "pertpy 0.4.0 requires scvi-tools<0.20.0,>=0.19.0, but you have scvi-tools 0.20.3 which is incompatible.\u001b[0m\u001b[31m\n",
            "\u001b[0mSuccessfully installed pytorch-lightning-1.9.5 scvi-tools-0.20.3\n",
            "Looking in indexes: https://pypi.org/simple, https://us-python.pkg.dev/colab-wheels/public/simple/\n",
            "Requirement already satisfied: matplotlib in /usr/local/lib/python3.10/dist-packages (3.7.1)\n",
            "Requirement already satisfied: contourpy>=1.0.1 in /usr/local/lib/python3.10/dist-packages (from matplotlib) (1.0.7)\n",
            "Requirement already satisfied: cycler>=0.10 in /usr/local/lib/python3.10/dist-packages (from matplotlib) (0.11.0)\n",
            "Requirement already satisfied: fonttools>=4.22.0 in /usr/local/lib/python3.10/dist-packages (from matplotlib) (4.39.3)\n",
            "Requirement already satisfied: kiwisolver>=1.0.1 in /usr/local/lib/python3.10/dist-packages (from matplotlib) (1.4.4)\n",
            "Requirement already satisfied: numpy>=1.20 in /usr/local/lib/python3.10/dist-packages (from matplotlib) (1.22.4)\n",
            "Requirement already satisfied: packaging>=20.0 in /usr/local/lib/python3.10/dist-packages (from matplotlib) (23.1)\n",
            "Requirement already satisfied: pillow>=6.2.0 in /usr/local/lib/python3.10/dist-packages (from matplotlib) (9.5.0)\n",
            "Requirement already satisfied: pyparsing>=2.3.1 in /usr/local/lib/python3.10/dist-packages (from matplotlib) (3.0.9)\n",
            "Requirement already satisfied: python-dateutil>=2.7 in /usr/local/lib/python3.10/dist-packages (from matplotlib) (2.8.2)\n",
            "Requirement already satisfied: six>=1.5 in /usr/local/lib/python3.10/dist-packages (from python-dateutil>=2.7->matplotlib) (1.16.0)\n",
            "Looking in indexes: https://pypi.org/simple, https://us-python.pkg.dev/colab-wheels/public/simple/\n",
            "Requirement already satisfied: scanpy in /usr/local/lib/python3.10/dist-packages (1.9.3)\n",
            "Requirement already satisfied: anndata>=0.7.4 in /usr/local/lib/python3.10/dist-packages (from scanpy) (0.9.1)\n",
            "Requirement already satisfied: numpy>=1.17.0 in /usr/local/lib/python3.10/dist-packages (from scanpy) (1.22.4)\n",
            "Requirement already satisfied: matplotlib>=3.4 in /usr/local/lib/python3.10/dist-packages (from scanpy) (3.7.1)\n",
            "Requirement already satisfied: pandas>=1.0 in /usr/local/lib/python3.10/dist-packages (from scanpy) (1.5.3)\n",
            "Requirement already satisfied: scipy>=1.4 in /usr/local/lib/python3.10/dist-packages (from scanpy) (1.10.1)\n",
            "Requirement already satisfied: seaborn in /usr/local/lib/python3.10/dist-packages (from scanpy) (0.11.2)\n",
            "Requirement already satisfied: h5py>=3 in /usr/local/lib/python3.10/dist-packages (from scanpy) (3.8.0)\n",
            "Requirement already satisfied: tqdm in /usr/local/lib/python3.10/dist-packages (from scanpy) (4.65.0)\n",
            "Requirement already satisfied: scikit-learn>=0.22 in /usr/local/lib/python3.10/dist-packages (from scanpy) (1.2.2)\n",
            "Requirement already satisfied: statsmodels>=0.10.0rc2 in /usr/local/lib/python3.10/dist-packages (from scanpy) (0.13.5)\n",
            "Requirement already satisfied: patsy in /usr/local/lib/python3.10/dist-packages (from scanpy) (0.5.3)\n",
            "Requirement already satisfied: networkx>=2.3 in /usr/local/lib/python3.10/dist-packages (from scanpy) (3.1)\n",
            "Requirement already satisfied: natsort in /usr/local/lib/python3.10/dist-packages (from scanpy) (8.3.1)\n",
            "Requirement already satisfied: joblib in /usr/local/lib/python3.10/dist-packages (from scanpy) (1.2.0)\n",
            "Requirement already satisfied: numba>=0.41.0 in /usr/local/lib/python3.10/dist-packages (from scanpy) (0.56.4)\n",
            "Requirement already satisfied: umap-learn>=0.3.10 in /usr/local/lib/python3.10/dist-packages (from scanpy) (0.5.3)\n",
            "Requirement already satisfied: packaging in /usr/local/lib/python3.10/dist-packages (from scanpy) (23.1)\n",
            "Requirement already satisfied: session-info in /usr/local/lib/python3.10/dist-packages (from scanpy) (1.0.0)\n",
            "Requirement already satisfied: contourpy>=1.0.1 in /usr/local/lib/python3.10/dist-packages (from matplotlib>=3.4->scanpy) (1.0.7)\n",
            "Requirement already satisfied: cycler>=0.10 in /usr/local/lib/python3.10/dist-packages (from matplotlib>=3.4->scanpy) (0.11.0)\n",
            "Requirement already satisfied: fonttools>=4.22.0 in /usr/local/lib/python3.10/dist-packages (from matplotlib>=3.4->scanpy) (4.39.3)\n",
            "Requirement already satisfied: kiwisolver>=1.0.1 in /usr/local/lib/python3.10/dist-packages (from matplotlib>=3.4->scanpy) (1.4.4)\n",
            "Requirement already satisfied: pillow>=6.2.0 in /usr/local/lib/python3.10/dist-packages (from matplotlib>=3.4->scanpy) (9.5.0)\n",
            "Requirement already satisfied: pyparsing>=2.3.1 in /usr/local/lib/python3.10/dist-packages (from matplotlib>=3.4->scanpy) (3.0.9)\n",
            "Requirement already satisfied: python-dateutil>=2.7 in /usr/local/lib/python3.10/dist-packages (from matplotlib>=3.4->scanpy) (2.8.2)\n",
            "Requirement already satisfied: llvmlite<0.40,>=0.39.0dev0 in /usr/local/lib/python3.10/dist-packages (from numba>=0.41.0->scanpy) (0.39.1)\n",
            "Requirement already satisfied: setuptools in /usr/local/lib/python3.10/dist-packages (from numba>=0.41.0->scanpy) (67.7.2)\n",
            "Requirement already satisfied: pytz>=2020.1 in /usr/local/lib/python3.10/dist-packages (from pandas>=1.0->scanpy) (2022.7.1)\n",
            "Requirement already satisfied: threadpoolctl>=2.0.0 in /usr/local/lib/python3.10/dist-packages (from scikit-learn>=0.22->scanpy) (3.1.0)\n",
            "Requirement already satisfied: six in /usr/local/lib/python3.10/dist-packages (from patsy->scanpy) (1.16.0)\n",
            "Requirement already satisfied: pynndescent>=0.5 in /usr/local/lib/python3.10/dist-packages (from umap-learn>=0.3.10->scanpy) (0.5.10)\n",
            "Requirement already satisfied: stdlib-list in /usr/local/lib/python3.10/dist-packages (from session-info->scanpy) (0.8.0)\n",
            "Looking in indexes: https://pypi.org/simple, https://us-python.pkg.dev/colab-wheels/public/simple/\n",
            "Requirement already satisfied: pertpy in /usr/local/lib/python3.10/dist-packages (0.4.0)\n",
            "Requirement already satisfied: PyYAML>=5.4.1 in /usr/local/lib/python3.10/dist-packages (from pertpy) (6.0)\n",
            "Requirement already satisfied: adjusttext<0.8.0,>=0.7.3 in /usr/local/lib/python3.10/dist-packages (from pertpy) (0.7.3)\n",
            "Requirement already satisfied: arviz<0.16,>=0.14 in /usr/local/lib/python3.10/dist-packages (from pertpy) (0.15.1)\n",
            "Requirement already satisfied: decoupler<2.0.0,>=1.3.3 in /usr/local/lib/python3.10/dist-packages (from pertpy) (1.3.4)\n",
            "Requirement already satisfied: ipywidgets>=7.6.5 in /usr/local/lib/python3.10/dist-packages (from pertpy) (7.7.1)\n",
            "Requirement already satisfied: leidenalg<0.10.0,>=0.9.0 in /usr/local/lib/python3.10/dist-packages (from pertpy) (0.9.1)\n",
            "Requirement already satisfied: muon>=0.1.2 in /usr/local/lib/python3.10/dist-packages (from pertpy) (0.1.3)\n",
            "Requirement already satisfied: numba<0.57.0,>=0.56.4 in /usr/local/lib/python3.10/dist-packages (from pertpy) (0.56.4)\n",
            "Requirement already satisfied: numpyro<0.12.0,>=0.10.1 in /usr/local/lib/python3.10/dist-packages (from pertpy) (0.11.0)\n",
            "Requirement already satisfied: ott-jax<0.5.0,>=0.4.0 in /usr/local/lib/python3.10/dist-packages (from pertpy) (0.4.0)\n",
            "Requirement already satisfied: pandas<=2.0.0 in /usr/local/lib/python3.10/dist-packages (from pertpy) (1.5.3)\n",
            "Requirement already satisfied: plotnine<0.11.0,>=0.10.1 in /usr/local/lib/python3.10/dist-packages (from pertpy) (0.10.1)\n",
            "Requirement already satisfied: protobuf==3.20.1 in /usr/local/lib/python3.10/dist-packages (from pertpy) (3.20.1)\n",
            "Requirement already satisfied: pypi-latest>=0.1.1 in /usr/local/lib/python3.10/dist-packages (from pertpy) (0.1.2)\n",
            "Requirement already satisfied: pyqt5<6.0.0,>=5.15.9 in /usr/local/lib/python3.10/dist-packages (from pertpy) (5.15.9)\n",
            "Requirement already satisfied: requests>=2.27.1 in /usr/local/lib/python3.10/dist-packages (from pertpy) (2.27.1)\n",
            "Requirement already satisfied: rich>=10.11.0 in /usr/local/lib/python3.10/dist-packages (from pertpy) (13.3.4)\n",
            "Requirement already satisfied: scanpy>=1.8.1 in /usr/local/lib/python3.10/dist-packages (from pertpy) (1.9.3)\n",
            "Requirement already satisfied: scikit-misc<0.2.0,>=0.1.4 in /usr/local/lib/python3.10/dist-packages (from pertpy) (0.1.4)\n",
            "Requirement already satisfied: scipy<2.0.0,>=1.9.3 in /usr/local/lib/python3.10/dist-packages (from pertpy) (1.10.1)\n",
            "Collecting scvi-tools<0.20.0,>=0.19.0 (from pertpy)\n",
            "  Using cached scvi_tools-0.19.0-py3-none-any.whl (296 kB)\n",
            "Requirement already satisfied: sparsecca<0.4.0,>=0.3.0 in /usr/local/lib/python3.10/dist-packages (from pertpy) (0.3.0)\n",
            "Requirement already satisfied: statannotations<0.6.0,>=0.5.0 in /usr/local/lib/python3.10/dist-packages (from pertpy) (0.5.0)\n",
            "Requirement already satisfied: switchlang<0.2.0,>=0.1.0 in /usr/local/lib/python3.10/dist-packages (from pertpy) (0.1.0)\n",
            "Requirement already satisfied: toytree<3.0.0,>=2.0.1 in /usr/local/lib/python3.10/dist-packages (from pertpy) (2.0.1)\n",
            "Requirement already satisfied: numpy in /usr/local/lib/python3.10/dist-packages (from adjusttext<0.8.0,>=0.7.3->pertpy) (1.22.4)\n",
            "Requirement already satisfied: matplotlib in /usr/local/lib/python3.10/dist-packages (from adjusttext<0.8.0,>=0.7.3->pertpy) (3.7.1)\n",
            "Requirement already satisfied: setuptools>=60.0.0 in /usr/local/lib/python3.10/dist-packages (from arviz<0.16,>=0.14->pertpy) (67.7.2)\n",
            "Requirement already satisfied: packaging in /usr/local/lib/python3.10/dist-packages (from arviz<0.16,>=0.14->pertpy) (23.1)\n",
            "Requirement already satisfied: xarray>=0.21.0 in /usr/local/lib/python3.10/dist-packages (from arviz<0.16,>=0.14->pertpy) (2022.12.0)\n",
            "Requirement already satisfied: h5netcdf>=1.0.2 in /usr/local/lib/python3.10/dist-packages (from arviz<0.16,>=0.14->pertpy) (1.1.0)\n",
            "Requirement already satisfied: typing-extensions>=4.1.0 in /usr/local/lib/python3.10/dist-packages (from arviz<0.16,>=0.14->pertpy) (4.5.0)\n",
            "Requirement already satisfied: xarray-einstats>=0.3 in /usr/local/lib/python3.10/dist-packages (from arviz<0.16,>=0.14->pertpy) (0.5.1)\n",
            "Requirement already satisfied: tqdm in /usr/local/lib/python3.10/dist-packages (from decoupler<2.0.0,>=1.3.3->pertpy) (4.65.0)\n",
            "Requirement already satisfied: anndata in /usr/local/lib/python3.10/dist-packages (from decoupler<2.0.0,>=1.3.3->pertpy) (0.9.1)\n",
            "Requirement already satisfied: ipykernel>=4.5.1 in /usr/local/lib/python3.10/dist-packages (from ipywidgets>=7.6.5->pertpy) (5.5.6)\n",
            "Requirement already satisfied: ipython-genutils~=0.2.0 in /usr/local/lib/python3.10/dist-packages (from ipywidgets>=7.6.5->pertpy) (0.2.0)\n",
            "Requirement already satisfied: traitlets>=4.3.1 in /usr/local/lib/python3.10/dist-packages (from ipywidgets>=7.6.5->pertpy) (5.7.1)\n",
            "Requirement already satisfied: widgetsnbextension~=3.6.0 in /usr/local/lib/python3.10/dist-packages (from ipywidgets>=7.6.5->pertpy) (3.6.4)\n",
            "Requirement already satisfied: ipython>=4.0.0 in /usr/local/lib/python3.10/dist-packages (from ipywidgets>=7.6.5->pertpy) (7.34.0)\n",
            "Requirement already satisfied: jupyterlab-widgets>=1.0.0 in /usr/local/lib/python3.10/dist-packages (from ipywidgets>=7.6.5->pertpy) (3.0.7)\n",
            "Requirement already satisfied: igraph<0.11,>=0.10.0 in /usr/local/lib/python3.10/dist-packages (from leidenalg<0.10.0,>=0.9.0->pertpy) (0.10.4)\n",
            "Requirement already satisfied: seaborn in /usr/local/lib/python3.10/dist-packages (from muon>=0.1.2->pertpy) (0.11.2)\n",
            "Requirement already satisfied: h5py in /usr/local/lib/python3.10/dist-packages (from muon>=0.1.2->pertpy) (3.8.0)\n",
            "Requirement already satisfied: scikit-learn in /usr/local/lib/python3.10/dist-packages (from muon>=0.1.2->pertpy) (1.2.2)\n",
            "Requirement already satisfied: umap-learn in /usr/local/lib/python3.10/dist-packages (from muon>=0.1.2->pertpy) (0.5.3)\n",
            "Requirement already satisfied: mudata in /usr/local/lib/python3.10/dist-packages (from muon>=0.1.2->pertpy) (0.2.2)\n",
            "Requirement already satisfied: llvmlite<0.40,>=0.39.0dev0 in /usr/local/lib/python3.10/dist-packages (from numba<0.57.0,>=0.56.4->pertpy) (0.39.1)\n",
            "Requirement already satisfied: jax>=0.4 in /usr/local/lib/python3.10/dist-packages (from numpyro<0.12.0,>=0.10.1->pertpy) (0.4.8)\n",
            "Requirement already satisfied: jaxlib>=0.4 in /usr/local/lib/python3.10/dist-packages (from numpyro<0.12.0,>=0.10.1->pertpy) (0.4.7+cuda11.cudnn86)\n",
            "Requirement already satisfied: multipledispatch in /usr/local/lib/python3.10/dist-packages (from numpyro<0.12.0,>=0.10.1->pertpy) (0.6.0)\n",
            "Requirement already satisfied: jaxopt>=0.5.5 in /usr/local/lib/python3.10/dist-packages (from ott-jax<0.5.0,>=0.4.0->pertpy) (0.6)\n",
            "Requirement already satisfied: flax>=0.5.2 in /usr/local/lib/python3.10/dist-packages (from ott-jax<0.5.0,>=0.4.0->pertpy) (0.6.9)\n",
            "Requirement already satisfied: optax>=0.1.1 in /usr/local/lib/python3.10/dist-packages (from ott-jax<0.5.0,>=0.4.0->pertpy) (0.1.5)\n",
            "Requirement already satisfied: python-dateutil>=2.8.1 in /usr/local/lib/python3.10/dist-packages (from pandas<=2.0.0->pertpy) (2.8.2)\n",
            "Requirement already satisfied: pytz>=2020.1 in /usr/local/lib/python3.10/dist-packages (from pandas<=2.0.0->pertpy) (2022.7.1)\n",
            "Requirement already satisfied: mizani>=0.8.1 in /usr/local/lib/python3.10/dist-packages (from plotnine<0.11.0,>=0.10.1->pertpy) (0.8.1)\n",
            "Requirement already satisfied: patsy>=0.5.1 in /usr/local/lib/python3.10/dist-packages (from plotnine<0.11.0,>=0.10.1->pertpy) (0.5.3)\n",
            "Requirement already satisfied: statsmodels>=0.13.2 in /usr/local/lib/python3.10/dist-packages (from plotnine<0.11.0,>=0.10.1->pertpy) (0.13.5)\n",
            "Requirement already satisfied: click>=7.0.0 in /usr/local/lib/python3.10/dist-packages (from pypi-latest>=0.1.1->pertpy) (8.1.3)\n",
            "Requirement already satisfied: questionary>=1.9.0 in /usr/local/lib/python3.10/dist-packages (from pypi-latest>=0.1.1->pertpy) (1.10.0)\n",
            "Requirement already satisfied: PyQt5-sip<13,>=12.11 in /usr/local/lib/python3.10/dist-packages (from pyqt5<6.0.0,>=5.15.9->pertpy) (12.12.1)\n",
            "Requirement already satisfied: PyQt5-Qt5>=5.15.2 in /usr/local/lib/python3.10/dist-packages (from pyqt5<6.0.0,>=5.15.9->pertpy) (5.15.2)\n",
            "Requirement already satisfied: urllib3<1.27,>=1.21.1 in /usr/local/lib/python3.10/dist-packages (from requests>=2.27.1->pertpy) (1.26.15)\n",
            "Requirement already satisfied: certifi>=2017.4.17 in /usr/local/lib/python3.10/dist-packages (from requests>=2.27.1->pertpy) (2022.12.7)\n",
            "Requirement already satisfied: charset-normalizer~=2.0.0 in /usr/local/lib/python3.10/dist-packages (from requests>=2.27.1->pertpy) (2.0.12)\n",
            "Requirement already satisfied: idna<4,>=2.5 in /usr/local/lib/python3.10/dist-packages (from requests>=2.27.1->pertpy) (3.4)\n",
            "Requirement already satisfied: markdown-it-py<3.0.0,>=2.2.0 in /usr/local/lib/python3.10/dist-packages (from rich>=10.11.0->pertpy) (2.2.0)\n",
            "Requirement already satisfied: pygments<3.0.0,>=2.13.0 in /usr/local/lib/python3.10/dist-packages (from rich>=10.11.0->pertpy) (2.14.0)\n",
            "Requirement already satisfied: networkx>=2.3 in /usr/local/lib/python3.10/dist-packages (from scanpy>=1.8.1->pertpy) (3.1)\n",
            "Requirement already satisfied: natsort in /usr/local/lib/python3.10/dist-packages (from scanpy>=1.8.1->pertpy) (8.3.1)\n",
            "Requirement already satisfied: joblib in /usr/local/lib/python3.10/dist-packages (from scanpy>=1.8.1->pertpy) (1.2.0)\n",
            "Requirement already satisfied: session-info in /usr/local/lib/python3.10/dist-packages (from scanpy>=1.8.1->pertpy) (1.0.0)\n",
            "Requirement already satisfied: chex in /usr/local/lib/python3.10/dist-packages (from scvi-tools<0.20.0,>=0.19.0->pertpy) (0.1.7)\n",
            "Requirement already satisfied: docrep>=0.3.2 in /usr/local/lib/python3.10/dist-packages (from scvi-tools<0.20.0,>=0.19.0->pertpy) (0.3.2)\n",
            "Requirement already satisfied: ml-collections>=0.1.1 in /usr/local/lib/python3.10/dist-packages (from scvi-tools<0.20.0,>=0.19.0->pertpy) (0.1.1)\n",
            "Requirement already satisfied: openpyxl>=3.0 in /usr/local/lib/python3.10/dist-packages (from scvi-tools<0.20.0,>=0.19.0->pertpy) (3.0.10)\n",
            "Requirement already satisfied: pyro-ppl>=1.6.0 in /usr/local/lib/python3.10/dist-packages (from scvi-tools<0.20.0,>=0.19.0->pertpy) (1.8.4)\n",
            "Collecting pytorch-lightning<1.8,>=1.7.0 (from scvi-tools<0.20.0,>=0.19.0->pertpy)\n",
            "  Using cached pytorch_lightning-1.7.7-py3-none-any.whl (708 kB)\n",
            "Requirement already satisfied: torch>=1.8.0 in /usr/local/lib/python3.10/dist-packages (from scvi-tools<0.20.0,>=0.19.0->pertpy) (2.0.0+cu118)\n",
            "Requirement already satisfied: torchmetrics>=0.6.0 in /usr/local/lib/python3.10/dist-packages (from scvi-tools<0.20.0,>=0.19.0->pertpy) (0.11.4)\n",
            "Requirement already satisfied: pyomo in /usr/local/lib/python3.10/dist-packages (from sparsecca<0.4.0,>=0.3.0->pertpy) (6.5.0)\n",
            "Requirement already satisfied: toyplot in /usr/local/lib/python3.10/dist-packages (from toytree<3.0.0,>=2.0.1->pertpy) (1.0.3)\n",
            "Requirement already satisfied: future in /usr/local/lib/python3.10/dist-packages (from toytree<3.0.0,>=2.0.1->pertpy) (0.18.3)\n",
            "Requirement already satisfied: six in /usr/local/lib/python3.10/dist-packages (from docrep>=0.3.2->scvi-tools<0.20.0,>=0.19.0->pertpy) (1.16.0)\n",
            "Requirement already satisfied: msgpack in /usr/local/lib/python3.10/dist-packages (from flax>=0.5.2->ott-jax<0.5.0,>=0.4.0->pertpy) (1.0.5)\n",
            "Requirement already satisfied: orbax-checkpoint in /usr/local/lib/python3.10/dist-packages (from flax>=0.5.2->ott-jax<0.5.0,>=0.4.0->pertpy) (0.2.1)\n",
            "Requirement already satisfied: tensorstore in /usr/local/lib/python3.10/dist-packages (from flax>=0.5.2->ott-jax<0.5.0,>=0.4.0->pertpy) (0.1.36)\n",
            "Requirement already satisfied: texttable>=1.6.2 in /usr/local/lib/python3.10/dist-packages (from igraph<0.11,>=0.10.0->leidenalg<0.10.0,>=0.9.0->pertpy) (1.6.7)\n",
            "Requirement already satisfied: jupyter-client in /usr/local/lib/python3.10/dist-packages (from ipykernel>=4.5.1->ipywidgets>=7.6.5->pertpy) (6.1.12)\n",
            "Requirement already satisfied: tornado>=4.2 in /usr/local/lib/python3.10/dist-packages (from ipykernel>=4.5.1->ipywidgets>=7.6.5->pertpy) (6.3.1)\n",
            "Requirement already satisfied: jedi>=0.16 in /usr/local/lib/python3.10/dist-packages (from ipython>=4.0.0->ipywidgets>=7.6.5->pertpy) (0.18.2)\n",
            "Requirement already satisfied: decorator in /usr/local/lib/python3.10/dist-packages (from ipython>=4.0.0->ipywidgets>=7.6.5->pertpy) (4.4.2)\n",
            "Requirement already satisfied: pickleshare in /usr/local/lib/python3.10/dist-packages (from ipython>=4.0.0->ipywidgets>=7.6.5->pertpy) (0.7.5)\n",
            "Requirement already satisfied: prompt-toolkit!=3.0.0,!=3.0.1,<3.1.0,>=2.0.0 in /usr/local/lib/python3.10/dist-packages (from ipython>=4.0.0->ipywidgets>=7.6.5->pertpy) (3.0.38)\n",
            "Requirement already satisfied: backcall in /usr/local/lib/python3.10/dist-packages (from ipython>=4.0.0->ipywidgets>=7.6.5->pertpy) (0.2.0)\n",
            "Requirement already satisfied: matplotlib-inline in /usr/local/lib/python3.10/dist-packages (from ipython>=4.0.0->ipywidgets>=7.6.5->pertpy) (0.1.6)\n",
            "Requirement already satisfied: pexpect>4.3 in /usr/local/lib/python3.10/dist-packages (from ipython>=4.0.0->ipywidgets>=7.6.5->pertpy) (4.8.0)\n",
            "Requirement already satisfied: ml-dtypes>=0.0.3 in /usr/local/lib/python3.10/dist-packages (from jax>=0.4->numpyro<0.12.0,>=0.10.1->pertpy) (0.1.0)\n",
            "Requirement already satisfied: opt-einsum in /usr/local/lib/python3.10/dist-packages (from jax>=0.4->numpyro<0.12.0,>=0.10.1->pertpy) (3.3.0)\n",
            "Requirement already satisfied: absl-py>=0.7.0 in /usr/local/lib/python3.10/dist-packages (from jaxopt>=0.5.5->ott-jax<0.5.0,>=0.4.0->pertpy) (1.4.0)\n",
            "Requirement already satisfied: mdurl~=0.1 in /usr/local/lib/python3.10/dist-packages (from markdown-it-py<3.0.0,>=2.2.0->rich>=10.11.0->pertpy) (0.1.2)\n",
            "Requirement already satisfied: contourpy>=1.0.1 in /usr/local/lib/python3.10/dist-packages (from matplotlib->adjusttext<0.8.0,>=0.7.3->pertpy) (1.0.7)\n",
            "Requirement already satisfied: cycler>=0.10 in /usr/local/lib/python3.10/dist-packages (from matplotlib->adjusttext<0.8.0,>=0.7.3->pertpy) (0.11.0)\n",
            "Requirement already satisfied: fonttools>=4.22.0 in /usr/local/lib/python3.10/dist-packages (from matplotlib->adjusttext<0.8.0,>=0.7.3->pertpy) (4.39.3)\n",
            "Requirement already satisfied: kiwisolver>=1.0.1 in /usr/local/lib/python3.10/dist-packages (from matplotlib->adjusttext<0.8.0,>=0.7.3->pertpy) (1.4.4)\n",
            "Requirement already satisfied: pillow>=6.2.0 in /usr/local/lib/python3.10/dist-packages (from matplotlib->adjusttext<0.8.0,>=0.7.3->pertpy) (9.5.0)\n",
            "Requirement already satisfied: pyparsing>=2.3.1 in /usr/local/lib/python3.10/dist-packages (from matplotlib->adjusttext<0.8.0,>=0.7.3->pertpy) (3.0.9)\n",
            "Requirement already satisfied: palettable in /usr/local/lib/python3.10/dist-packages (from mizani>=0.8.1->plotnine<0.11.0,>=0.10.1->pertpy) (3.3.3)\n",
            "Requirement already satisfied: contextlib2 in /usr/local/lib/python3.10/dist-packages (from ml-collections>=0.1.1->scvi-tools<0.20.0,>=0.19.0->pertpy) (0.6.0.post1)\n",
            "Requirement already satisfied: et-xmlfile in /usr/local/lib/python3.10/dist-packages (from openpyxl>=3.0->scvi-tools<0.20.0,>=0.19.0->pertpy) (1.1.0)\n",
            "Requirement already satisfied: dm-tree>=0.1.5 in /usr/local/lib/python3.10/dist-packages (from chex->scvi-tools<0.20.0,>=0.19.0->pertpy) (0.1.8)\n",
            "Requirement already satisfied: toolz>=0.9.0 in /usr/local/lib/python3.10/dist-packages (from chex->scvi-tools<0.20.0,>=0.19.0->pertpy) (0.12.0)\n",
            "Requirement already satisfied: pyro-api>=0.1.1 in /usr/local/lib/python3.10/dist-packages (from pyro-ppl>=1.6.0->scvi-tools<0.20.0,>=0.19.0->pertpy) (0.1.2)\n",
            "Requirement already satisfied: fsspec[http]!=2021.06.0,>=2021.05.0 in /usr/local/lib/python3.10/dist-packages (from pytorch-lightning<1.8,>=1.7.0->scvi-tools<0.20.0,>=0.19.0->pertpy) (2023.4.0)\n",
            "Requirement already satisfied: tensorboard>=2.9.1 in /usr/local/lib/python3.10/dist-packages (from pytorch-lightning<1.8,>=1.7.0->scvi-tools<0.20.0,>=0.19.0->pertpy) (2.12.2)\n",
            "Requirement already satisfied: pyDeprecate>=0.3.1 in /usr/local/lib/python3.10/dist-packages (from pytorch-lightning<1.8,>=1.7.0->scvi-tools<0.20.0,>=0.19.0->pertpy) (0.3.2)\n",
            "Requirement already satisfied: threadpoolctl>=2.0.0 in /usr/local/lib/python3.10/dist-packages (from scikit-learn->muon>=0.1.2->pertpy) (3.1.0)\n",
            "Requirement already satisfied: filelock in /usr/local/lib/python3.10/dist-packages (from torch>=1.8.0->scvi-tools<0.20.0,>=0.19.0->pertpy) (3.12.0)\n",
            "Requirement already satisfied: sympy in /usr/local/lib/python3.10/dist-packages (from torch>=1.8.0->scvi-tools<0.20.0,>=0.19.0->pertpy) (1.11.1)\n",
            "Requirement already satisfied: jinja2 in /usr/local/lib/python3.10/dist-packages (from torch>=1.8.0->scvi-tools<0.20.0,>=0.19.0->pertpy) (3.1.2)\n",
            "Requirement already satisfied: triton==2.0.0 in /usr/local/lib/python3.10/dist-packages (from torch>=1.8.0->scvi-tools<0.20.0,>=0.19.0->pertpy) (2.0.0)\n",
            "Requirement already satisfied: cmake in /usr/local/lib/python3.10/dist-packages (from triton==2.0.0->torch>=1.8.0->scvi-tools<0.20.0,>=0.19.0->pertpy) (3.25.2)\n",
            "Requirement already satisfied: lit in /usr/local/lib/python3.10/dist-packages (from triton==2.0.0->torch>=1.8.0->scvi-tools<0.20.0,>=0.19.0->pertpy) (16.0.3)\n",
            "Requirement already satisfied: pynndescent>=0.5 in /usr/local/lib/python3.10/dist-packages (from umap-learn->muon>=0.1.2->pertpy) (0.5.10)\n",
            "Requirement already satisfied: notebook>=4.4.1 in /usr/local/lib/python3.10/dist-packages (from widgetsnbextension~=3.6.0->ipywidgets>=7.6.5->pertpy) (6.4.8)\n",
            "Requirement already satisfied: ply in /usr/local/lib/python3.10/dist-packages (from pyomo->sparsecca<0.4.0,>=0.3.0->pertpy) (3.11)\n",
            "Requirement already satisfied: stdlib-list in /usr/local/lib/python3.10/dist-packages (from session-info->scanpy>=1.8.1->pertpy) (0.8.0)\n",
            "Requirement already satisfied: arrow>=1.0 in /usr/local/lib/python3.10/dist-packages (from toyplot->toytree<3.0.0,>=2.0.1->pertpy) (1.2.3)\n",
            "Requirement already satisfied: custom-inherit in /usr/local/lib/python3.10/dist-packages (from toyplot->toytree<3.0.0,>=2.0.1->pertpy) (2.4.1)\n",
            "Requirement already satisfied: pypng in /usr/local/lib/python3.10/dist-packages (from toyplot->toytree<3.0.0,>=2.0.1->pertpy) (0.20220715.0)\n",
            "Requirement already satisfied: reportlab in /usr/local/lib/python3.10/dist-packages (from toyplot->toytree<3.0.0,>=2.0.1->pertpy) (4.0.0)\n",
            "Requirement already satisfied: aiohttp!=4.0.0a0,!=4.0.0a1 in /usr/local/lib/python3.10/dist-packages (from fsspec[http]!=2021.06.0,>=2021.05.0->pytorch-lightning<1.8,>=1.7.0->scvi-tools<0.20.0,>=0.19.0->pertpy) (3.8.4)\n",
            "Requirement already satisfied: parso<0.9.0,>=0.8.0 in /usr/local/lib/python3.10/dist-packages (from jedi>=0.16->ipython>=4.0.0->ipywidgets>=7.6.5->pertpy) (0.8.3)\n",
            "Requirement already satisfied: pyzmq>=17 in /usr/local/lib/python3.10/dist-packages (from notebook>=4.4.1->widgetsnbextension~=3.6.0->ipywidgets>=7.6.5->pertpy) (23.2.1)\n",
            "Requirement already satisfied: argon2-cffi in /usr/local/lib/python3.10/dist-packages (from notebook>=4.4.1->widgetsnbextension~=3.6.0->ipywidgets>=7.6.5->pertpy) (21.3.0)\n",
            "Requirement already satisfied: jupyter-core>=4.6.1 in /usr/local/lib/python3.10/dist-packages (from notebook>=4.4.1->widgetsnbextension~=3.6.0->ipywidgets>=7.6.5->pertpy) (5.3.0)\n",
            "Requirement already satisfied: nbformat in /usr/local/lib/python3.10/dist-packages (from notebook>=4.4.1->widgetsnbextension~=3.6.0->ipywidgets>=7.6.5->pertpy) (5.8.0)\n",
            "Requirement already satisfied: nbconvert in /usr/local/lib/python3.10/dist-packages (from notebook>=4.4.1->widgetsnbextension~=3.6.0->ipywidgets>=7.6.5->pertpy) (6.5.4)\n",
            "Requirement already satisfied: nest-asyncio>=1.5 in /usr/local/lib/python3.10/dist-packages (from notebook>=4.4.1->widgetsnbextension~=3.6.0->ipywidgets>=7.6.5->pertpy) (1.5.6)\n",
            "Requirement already satisfied: Send2Trash>=1.8.0 in /usr/local/lib/python3.10/dist-packages (from notebook>=4.4.1->widgetsnbextension~=3.6.0->ipywidgets>=7.6.5->pertpy) (1.8.0)\n",
            "Requirement already satisfied: terminado>=0.8.3 in /usr/local/lib/python3.10/dist-packages (from notebook>=4.4.1->widgetsnbextension~=3.6.0->ipywidgets>=7.6.5->pertpy) (0.17.1)\n",
            "Requirement already satisfied: prometheus-client in /usr/local/lib/python3.10/dist-packages (from notebook>=4.4.1->widgetsnbextension~=3.6.0->ipywidgets>=7.6.5->pertpy) (0.16.0)\n",
            "Requirement already satisfied: ptyprocess>=0.5 in /usr/local/lib/python3.10/dist-packages (from pexpect>4.3->ipython>=4.0.0->ipywidgets>=7.6.5->pertpy) (0.7.0)\n",
            "Requirement already satisfied: wcwidth in /usr/local/lib/python3.10/dist-packages (from prompt-toolkit!=3.0.0,!=3.0.1,<3.1.0,>=2.0.0->ipython>=4.0.0->ipywidgets>=7.6.5->pertpy) (0.2.6)\n",
            "Requirement already satisfied: grpcio>=1.48.2 in /usr/local/lib/python3.10/dist-packages (from tensorboard>=2.9.1->pytorch-lightning<1.8,>=1.7.0->scvi-tools<0.20.0,>=0.19.0->pertpy) (1.54.0)\n",
            "Requirement already satisfied: google-auth<3,>=1.6.3 in /usr/local/lib/python3.10/dist-packages (from tensorboard>=2.9.1->pytorch-lightning<1.8,>=1.7.0->scvi-tools<0.20.0,>=0.19.0->pertpy) (2.17.3)\n",
            "Requirement already satisfied: google-auth-oauthlib<1.1,>=0.5 in /usr/local/lib/python3.10/dist-packages (from tensorboard>=2.9.1->pytorch-lightning<1.8,>=1.7.0->scvi-tools<0.20.0,>=0.19.0->pertpy) (1.0.0)\n",
            "Requirement already satisfied: markdown>=2.6.8 in /usr/local/lib/python3.10/dist-packages (from tensorboard>=2.9.1->pytorch-lightning<1.8,>=1.7.0->scvi-tools<0.20.0,>=0.19.0->pertpy) (3.4.3)\n",
            "Requirement already satisfied: tensorboard-data-server<0.8.0,>=0.7.0 in /usr/local/lib/python3.10/dist-packages (from tensorboard>=2.9.1->pytorch-lightning<1.8,>=1.7.0->scvi-tools<0.20.0,>=0.19.0->pertpy) (0.7.0)\n",
            "Requirement already satisfied: tensorboard-plugin-wit>=1.6.0 in /usr/local/lib/python3.10/dist-packages (from tensorboard>=2.9.1->pytorch-lightning<1.8,>=1.7.0->scvi-tools<0.20.0,>=0.19.0->pertpy) (1.8.1)\n",
            "Requirement already satisfied: werkzeug>=1.0.1 in /usr/local/lib/python3.10/dist-packages (from tensorboard>=2.9.1->pytorch-lightning<1.8,>=1.7.0->scvi-tools<0.20.0,>=0.19.0->pertpy) (2.3.0)\n",
            "Requirement already satisfied: wheel>=0.26 in /usr/local/lib/python3.10/dist-packages (from tensorboard>=2.9.1->pytorch-lightning<1.8,>=1.7.0->scvi-tools<0.20.0,>=0.19.0->pertpy) (0.40.0)\n",
            "Requirement already satisfied: MarkupSafe>=2.0 in /usr/local/lib/python3.10/dist-packages (from jinja2->torch>=1.8.0->scvi-tools<0.20.0,>=0.19.0->pertpy) (2.1.2)\n",
            "Requirement already satisfied: cached_property in /usr/local/lib/python3.10/dist-packages (from orbax-checkpoint->flax>=0.5.2->ott-jax<0.5.0,>=0.4.0->pertpy) (1.5.2)\n",
            "Requirement already satisfied: importlib_resources in /usr/local/lib/python3.10/dist-packages (from orbax-checkpoint->flax>=0.5.2->ott-jax<0.5.0,>=0.4.0->pertpy) (5.12.0)\n",
            "Requirement already satisfied: etils in /usr/local/lib/python3.10/dist-packages (from orbax-checkpoint->flax>=0.5.2->ott-jax<0.5.0,>=0.4.0->pertpy) (1.2.0)\n",
            "Requirement already satisfied: rlPyCairo<1,>=0.2.0 in /usr/local/lib/python3.10/dist-packages (from reportlab->toyplot->toytree<3.0.0,>=2.0.1->pertpy) (0.2.0)\n",
            "Requirement already satisfied: freetype-py<2.4,>=2.3.0 in /usr/local/lib/python3.10/dist-packages (from reportlab->toyplot->toytree<3.0.0,>=2.0.1->pertpy) (2.3.0)\n",
            "Requirement already satisfied: mpmath>=0.19 in /usr/local/lib/python3.10/dist-packages (from sympy->torch>=1.8.0->scvi-tools<0.20.0,>=0.19.0->pertpy) (1.3.0)\n",
            "Requirement already satisfied: attrs>=17.3.0 in /usr/local/lib/python3.10/dist-packages (from aiohttp!=4.0.0a0,!=4.0.0a1->fsspec[http]!=2021.06.0,>=2021.05.0->pytorch-lightning<1.8,>=1.7.0->scvi-tools<0.20.0,>=0.19.0->pertpy) (23.1.0)\n",
            "Requirement already satisfied: multidict<7.0,>=4.5 in /usr/local/lib/python3.10/dist-packages (from aiohttp!=4.0.0a0,!=4.0.0a1->fsspec[http]!=2021.06.0,>=2021.05.0->pytorch-lightning<1.8,>=1.7.0->scvi-tools<0.20.0,>=0.19.0->pertpy) (6.0.4)\n",
            "Requirement already satisfied: async-timeout<5.0,>=4.0.0a3 in /usr/local/lib/python3.10/dist-packages (from aiohttp!=4.0.0a0,!=4.0.0a1->fsspec[http]!=2021.06.0,>=2021.05.0->pytorch-lightning<1.8,>=1.7.0->scvi-tools<0.20.0,>=0.19.0->pertpy) (4.0.2)\n",
            "Requirement already satisfied: yarl<2.0,>=1.0 in /usr/local/lib/python3.10/dist-packages (from aiohttp!=4.0.0a0,!=4.0.0a1->fsspec[http]!=2021.06.0,>=2021.05.0->pytorch-lightning<1.8,>=1.7.0->scvi-tools<0.20.0,>=0.19.0->pertpy) (1.9.2)\n",
            "Requirement already satisfied: frozenlist>=1.1.1 in /usr/local/lib/python3.10/dist-packages (from aiohttp!=4.0.0a0,!=4.0.0a1->fsspec[http]!=2021.06.0,>=2021.05.0->pytorch-lightning<1.8,>=1.7.0->scvi-tools<0.20.0,>=0.19.0->pertpy) (1.3.3)\n",
            "Requirement already satisfied: aiosignal>=1.1.2 in /usr/local/lib/python3.10/dist-packages (from aiohttp!=4.0.0a0,!=4.0.0a1->fsspec[http]!=2021.06.0,>=2021.05.0->pytorch-lightning<1.8,>=1.7.0->scvi-tools<0.20.0,>=0.19.0->pertpy) (1.3.1)\n",
            "Requirement already satisfied: cachetools<6.0,>=2.0.0 in /usr/local/lib/python3.10/dist-packages (from google-auth<3,>=1.6.3->tensorboard>=2.9.1->pytorch-lightning<1.8,>=1.7.0->scvi-tools<0.20.0,>=0.19.0->pertpy) (5.3.0)\n",
            "Requirement already satisfied: pyasn1-modules>=0.2.1 in /usr/local/lib/python3.10/dist-packages (from google-auth<3,>=1.6.3->tensorboard>=2.9.1->pytorch-lightning<1.8,>=1.7.0->scvi-tools<0.20.0,>=0.19.0->pertpy) (0.3.0)\n",
            "Requirement already satisfied: rsa<5,>=3.1.4 in /usr/local/lib/python3.10/dist-packages (from google-auth<3,>=1.6.3->tensorboard>=2.9.1->pytorch-lightning<1.8,>=1.7.0->scvi-tools<0.20.0,>=0.19.0->pertpy) (4.9)\n",
            "Requirement already satisfied: requests-oauthlib>=0.7.0 in /usr/local/lib/python3.10/dist-packages (from google-auth-oauthlib<1.1,>=0.5->tensorboard>=2.9.1->pytorch-lightning<1.8,>=1.7.0->scvi-tools<0.20.0,>=0.19.0->pertpy) (1.3.1)\n",
            "Requirement already satisfied: platformdirs>=2.5 in /usr/local/lib/python3.10/dist-packages (from jupyter-core>=4.6.1->notebook>=4.4.1->widgetsnbextension~=3.6.0->ipywidgets>=7.6.5->pertpy) (3.3.0)\n",
            "Requirement already satisfied: pycairo>=1.20.0 in /usr/local/lib/python3.10/dist-packages (from rlPyCairo<1,>=0.2.0->reportlab->toyplot->toytree<3.0.0,>=2.0.1->pertpy) (1.23.0)\n",
            "Requirement already satisfied: argon2-cffi-bindings in /usr/local/lib/python3.10/dist-packages (from argon2-cffi->notebook>=4.4.1->widgetsnbextension~=3.6.0->ipywidgets>=7.6.5->pertpy) (21.2.0)\n",
            "Requirement already satisfied: lxml in /usr/local/lib/python3.10/dist-packages (from nbconvert->notebook>=4.4.1->widgetsnbextension~=3.6.0->ipywidgets>=7.6.5->pertpy) (4.9.2)\n",
            "Requirement already satisfied: beautifulsoup4 in /usr/local/lib/python3.10/dist-packages (from nbconvert->notebook>=4.4.1->widgetsnbextension~=3.6.0->ipywidgets>=7.6.5->pertpy) (4.11.2)\n",
            "Requirement already satisfied: bleach in /usr/local/lib/python3.10/dist-packages (from nbconvert->notebook>=4.4.1->widgetsnbextension~=3.6.0->ipywidgets>=7.6.5->pertpy) (6.0.0)\n",
            "Requirement already satisfied: defusedxml in /usr/local/lib/python3.10/dist-packages (from nbconvert->notebook>=4.4.1->widgetsnbextension~=3.6.0->ipywidgets>=7.6.5->pertpy) (0.7.1)\n",
            "Requirement already satisfied: entrypoints>=0.2.2 in /usr/local/lib/python3.10/dist-packages (from nbconvert->notebook>=4.4.1->widgetsnbextension~=3.6.0->ipywidgets>=7.6.5->pertpy) (0.4)\n",
            "Requirement already satisfied: jupyterlab-pygments in /usr/local/lib/python3.10/dist-packages (from nbconvert->notebook>=4.4.1->widgetsnbextension~=3.6.0->ipywidgets>=7.6.5->pertpy) (0.2.2)\n",
            "Requirement already satisfied: mistune<2,>=0.8.1 in /usr/local/lib/python3.10/dist-packages (from nbconvert->notebook>=4.4.1->widgetsnbextension~=3.6.0->ipywidgets>=7.6.5->pertpy) (0.8.4)\n",
            "Requirement already satisfied: nbclient>=0.5.0 in /usr/local/lib/python3.10/dist-packages (from nbconvert->notebook>=4.4.1->widgetsnbextension~=3.6.0->ipywidgets>=7.6.5->pertpy) (0.7.4)\n",
            "Requirement already satisfied: pandocfilters>=1.4.1 in /usr/local/lib/python3.10/dist-packages (from nbconvert->notebook>=4.4.1->widgetsnbextension~=3.6.0->ipywidgets>=7.6.5->pertpy) (1.5.0)\n",
            "Requirement already satisfied: tinycss2 in /usr/local/lib/python3.10/dist-packages (from nbconvert->notebook>=4.4.1->widgetsnbextension~=3.6.0->ipywidgets>=7.6.5->pertpy) (1.2.1)\n",
            "Requirement already satisfied: fastjsonschema in /usr/local/lib/python3.10/dist-packages (from nbformat->notebook>=4.4.1->widgetsnbextension~=3.6.0->ipywidgets>=7.6.5->pertpy) (2.16.3)\n",
            "Requirement already satisfied: jsonschema>=2.6 in /usr/local/lib/python3.10/dist-packages (from nbformat->notebook>=4.4.1->widgetsnbextension~=3.6.0->ipywidgets>=7.6.5->pertpy) (4.3.3)\n",
            "Requirement already satisfied: pyrsistent!=0.17.0,!=0.17.1,!=0.17.2,>=0.14.0 in /usr/local/lib/python3.10/dist-packages (from jsonschema>=2.6->nbformat->notebook>=4.4.1->widgetsnbextension~=3.6.0->ipywidgets>=7.6.5->pertpy) (0.19.3)\n",
            "Requirement already satisfied: pyasn1<0.6.0,>=0.4.6 in /usr/local/lib/python3.10/dist-packages (from pyasn1-modules>=0.2.1->google-auth<3,>=1.6.3->tensorboard>=2.9.1->pytorch-lightning<1.8,>=1.7.0->scvi-tools<0.20.0,>=0.19.0->pertpy) (0.5.0)\n",
            "Requirement already satisfied: oauthlib>=3.0.0 in /usr/local/lib/python3.10/dist-packages (from requests-oauthlib>=0.7.0->google-auth-oauthlib<1.1,>=0.5->tensorboard>=2.9.1->pytorch-lightning<1.8,>=1.7.0->scvi-tools<0.20.0,>=0.19.0->pertpy) (3.2.2)\n",
            "Requirement already satisfied: cffi>=1.0.1 in /usr/local/lib/python3.10/dist-packages (from argon2-cffi-bindings->argon2-cffi->notebook>=4.4.1->widgetsnbextension~=3.6.0->ipywidgets>=7.6.5->pertpy) (1.15.1)\n",
            "Requirement already satisfied: soupsieve>1.2 in /usr/local/lib/python3.10/dist-packages (from beautifulsoup4->nbconvert->notebook>=4.4.1->widgetsnbextension~=3.6.0->ipywidgets>=7.6.5->pertpy) (2.4.1)\n",
            "Requirement already satisfied: webencodings in /usr/local/lib/python3.10/dist-packages (from bleach->nbconvert->notebook>=4.4.1->widgetsnbextension~=3.6.0->ipywidgets>=7.6.5->pertpy) (0.5.1)\n",
            "Requirement already satisfied: pycparser in /usr/local/lib/python3.10/dist-packages (from cffi>=1.0.1->argon2-cffi-bindings->argon2-cffi->notebook>=4.4.1->widgetsnbextension~=3.6.0->ipywidgets>=7.6.5->pertpy) (2.21)\n",
            "Installing collected packages: pytorch-lightning, scvi-tools\n",
            "  Attempting uninstall: pytorch-lightning\n",
            "    Found existing installation: pytorch-lightning 1.9.5\n",
            "    Uninstalling pytorch-lightning-1.9.5:\n",
            "      Successfully uninstalled pytorch-lightning-1.9.5\n",
            "  Attempting uninstall: scvi-tools\n",
            "    Found existing installation: scvi-tools 0.20.3\n",
            "    Uninstalling scvi-tools-0.20.3:\n",
            "      Successfully uninstalled scvi-tools-0.20.3\n",
            "\u001b[31mERROR: pip's dependency resolver does not currently take into account all the packages that are installed. This behaviour is the source of the following dependency conflicts.\n",
            "scgen 2.1.1 requires scvi-tools>=0.20.0, but you have scvi-tools 0.19.0 which is incompatible.\u001b[0m\u001b[31m\n",
            "\u001b[0mSuccessfully installed pytorch-lightning-1.7.7 scvi-tools-0.19.0\n"
          ]
        }
      ],
      "source": [
        "!apt-get install sox ffmpeg libcairo2 libcairo2-dev\n",
        "!apt-get install texlive-full \n",
        "from google.colab import drive\n",
        "drive.mount('/content/drive')\n",
        "%cd drive/MyDrive/Colab_Notebooks/perturbation_metric_test\n",
        "!pip install anndata \n",
        "!pip install git+https://github.com/theislab/scgen.git\n",
        "!pip install matplotlib\n",
        "!pip install scanpy\n",
        "!pip install pertpy\n",
        "# need to run this block twice"
      ]
    },
    {
      "cell_type": "code",
      "source": [
        "!pip install scvi-tools>=0.20.0"
      ],
      "metadata": {
        "id": "wby-fJ98G3wB"
      },
      "execution_count": null,
      "outputs": []
    },
    {
      "cell_type": "code",
      "execution_count": 2,
      "metadata": {
        "id": "85tWZumhyH4Y",
        "colab": {
          "base_uri": "https://localhost:8080/",
          "height": 161
        },
        "outputId": "edf7caf2-c696-42bf-cae2-95b829e77f4b"
      },
      "outputs": [
        {
          "output_type": "stream",
          "name": "stderr",
          "text": [
            "INFO:pytorch_lightning.utilities.seed:Global seed set to 0\n",
            "/usr/local/lib/python3.10/dist-packages/pytorch_lightning/utilities/warnings.py:53: LightningDeprecationWarning: pytorch_lightning.utilities.warnings.rank_zero_deprecation has been deprecated in v1.6 and will be removed in v1.8. Use the equivalent function from the pytorch_lightning.utilities.rank_zero module instead.\n",
            "  new_rank_zero_deprecation(\n",
            "/usr/local/lib/python3.10/dist-packages/pytorch_lightning/utilities/warnings.py:58: LightningDeprecationWarning: The `pytorch_lightning.loggers.base.rank_zero_experiment` is deprecated in v1.7 and will be removed in v1.9. Please use `pytorch_lightning.loggers.logger.rank_zero_experiment` instead.\n",
            "  return new_rank_zero_deprecation(*args, **kwargs)\n",
            "WARNING:jax._src.xla_bridge:No GPU/TPU found, falling back to CPU. (Set TF_CPP_MIN_LOG_LEVEL=0 and rerun for more info.)\n"
          ]
        },
        {
          "output_type": "display_data",
          "data": {
            "text/plain": [
              "\u001b[1;33mTo use sccoda or tasccoda please install ete3 with \u001b[0m\u001b[1;32mpip install ete3\u001b[0m\n"
            ],
            "text/html": [
              "<pre style=\"white-space:pre;overflow-x:auto;line-height:normal;font-family:Menlo,'DejaVu Sans Mono',consolas,'Courier New',monospace\"><span style=\"color: #808000; text-decoration-color: #808000; font-weight: bold\">To use sccoda or tasccoda please install ete3 with </span><span style=\"color: #008000; text-decoration-color: #008000; font-weight: bold\">pip install ete3</span>\n",
              "</pre>\n"
            ]
          },
          "metadata": {}
        }
      ],
      "source": [
        "import anndata\n",
        "import scanpy as sc\n",
        "import scgen\n",
        "import pandas as pd  \n",
        "import numpy as np\n",
        "import pertpy as pt\n",
        "import matplotlib.pyplot as plt\n"
      ]
    },
    {
      "cell_type": "code",
      "execution_count": 3,
      "metadata": {
        "id": "aQILPzl7JxHV"
      },
      "outputs": [],
      "source": [
        "train = sc.read(\"./data/PapalexiSatija2021_eccite_RNA.h5ad\")\n",
        "sc.pp.normalize_total(train, target_sum=1e4)\n",
        "sc.pp.log1p(train)\n",
        "sc.pp.highly_variable_genes(train, n_top_genes=100, subset=True, min_mean=.1)\n",
        "sc.pp.pca(train, use_highly_variable=True)\n",
        "sc.pp.neighbors(train, use_rep='X_pca', n_neighbors=30, n_pcs=30)"
      ]
    },
    {
      "cell_type": "code",
      "execution_count": null,
      "metadata": {
        "id": "78MN_8kIJ9cR"
      },
      "outputs": [],
      "source": [
        "obs_key = 'perturbation'  # defines groups to test\n",
        "distance = pt.tl.Distance('edistance', 'X_pca')\n",
        "df = distance.pairwise(train, groupby=obs_key, verbose=True)\n",
        "from seaborn import clustermap\n",
        "clustermap(df, robust=True, figsize=(10,10))\n",
        "plt.show()\n",
        "#df is a data frame show results in e-distance not p-value "
      ]
    },
    {
      "cell_type": "code",
      "execution_count": null,
      "metadata": {
        "id": "GQzp5D1dMURa"
      },
      "outputs": [],
      "source": [
        "\n",
        "ctrl_stim=df['control']\n",
        "print(ctrl_stim['control'])# ctrl, ctrl \n",
        "np.mean(ctrl_stim)# ctrl, stim "
      ]
    },
    {
      "cell_type": "code",
      "execution_count": 4,
      "metadata": {
        "id": "sHG_Wp4-BJcU",
        "colab": {
          "base_uri": "https://localhost:8080/",
          "height": 33,
          "referenced_widgets": [
            "e7cb79791e6d414c99b53464db3891fa",
            "489d670ef4344236b040e421da8156fe"
          ]
        },
        "outputId": "d568fe07-5194-436a-ac91-fe66193ae12e"
      },
      "outputs": [
        {
          "output_type": "display_data",
          "data": {
            "text/plain": [
              "Output()"
            ],
            "application/vnd.jupyter.widget-view+json": {
              "version_major": 2,
              "version_minor": 0,
              "model_id": "e7cb79791e6d414c99b53464db3891fa"
            }
          },
          "metadata": {}
        },
        {
          "output_type": "display_data",
          "data": {
            "text/plain": [],
            "text/html": [
              "<pre style=\"white-space:pre;overflow-x:auto;line-height:normal;font-family:Menlo,'DejaVu Sans Mono',consolas,'Courier New',monospace\"></pre>\n"
            ]
          },
          "metadata": {}
        },
        {
          "output_type": "display_data",
          "data": {
            "text/plain": [
              "\n"
            ],
            "text/html": [
              "<pre style=\"white-space:pre;overflow-x:auto;line-height:normal;font-family:Menlo,'DejaVu Sans Mono',consolas,'Courier New',monospace\">\n",
              "</pre>\n"
            ]
          },
          "metadata": {}
        }
      ],
      "source": [
        "obs_key = 'perturbation' \n",
        "etest = pt.tl.DistanceTest('edistance', n_perms=1000, obsm_key='X_pca', alpha=0.0015)\n",
        "contrast = 'control' \n",
        "tab = etest(train, groupby=obs_key, contrast=contrast)\n",
        "\n",
        "\n"
      ]
    },
    {
      "cell_type": "code",
      "execution_count": 11,
      "metadata": {
        "id": "m_O-M-zsBqfh"
      },
      "outputs": [],
      "source": [
        "tab.to_csv(\"e_distance.csv\",index=False)# this does save the name of rows"
      ]
    },
    {
      "cell_type": "code",
      "source": [
        "tab.columns.values"
      ],
      "metadata": {
        "colab": {
          "base_uri": "https://localhost:8080/"
        },
        "id": "vm7QK9ny9rpX",
        "outputId": "817d024c-9dd3-4682-a858-cad1112ebb4a"
      },
      "execution_count": 5,
      "outputs": [
        {
          "output_type": "execute_result",
          "data": {
            "text/plain": [
              "array(['distance', 'pvalue', 'significant', 'pvalue_adj',\n",
              "       'significant_adj'], dtype=object)"
            ]
          },
          "metadata": {},
          "execution_count": 5
        }
      ]
    },
    {
      "cell_type": "code",
      "source": [
        "tab_copy=tab.copy()\n",
        "tab_copy['name']=tab.index"
      ],
      "metadata": {
        "id": "rhGvr0MPn9bX"
      },
      "execution_count": 19,
      "outputs": []
    },
    {
      "cell_type": "code",
      "source": [
        "tab_copy.to_csv(\"e_distance.csv\",index=False)"
      ],
      "metadata": {
        "id": "Rcw2vhOWpiMt"
      },
      "execution_count": 21,
      "outputs": []
    },
    {
      "cell_type": "code",
      "source": [
        "import pandas as pd\n",
        "tab2 = pd.read_csv(\"e_distance.csv\") \n",
        "tab2"
      ],
      "metadata": {
        "colab": {
          "base_uri": "https://localhost:8080/",
          "height": 423
        },
        "id": "Dea5b4ir9R2C",
        "outputId": "b35145eb-8fde-45cd-b998-e0c904a99984"
      },
      "execution_count": 22,
      "outputs": [
        {
          "output_type": "execute_result",
          "data": {
            "text/plain": [
              "    distance  pvalue  significant  pvalue_adj  significant_adj        name\n",
              "0   0.017370   0.661        False    0.999996            False     STAT2g2\n",
              "1   0.029570   0.007        False    0.325227            False      CAV1g4\n",
              "2   0.315472   0.067        False    0.943171            False     STAT1g2\n",
              "3   0.010651   0.016        False    0.581462            False      CD86g1\n",
              "4   0.037443   0.001         True    0.094302            False      IRF7g2\n",
              "..       ...     ...          ...         ...              ...         ...\n",
              "94  0.333902   0.186        False    0.996138            False      SPI1g3\n",
              "95  0.051816   0.766        False    0.999996            False  PDCD1LG2g2\n",
              "96  0.336118   0.405        False    0.999913            False      CUL3g3\n",
              "97  1.248222   0.001         True    0.094302            False      SPI1g2\n",
              "98  2.594668   0.001         True    0.094302            False       MYCg4\n",
              "\n",
              "[99 rows x 6 columns]"
            ],
            "text/html": [
              "\n",
              "  <div id=\"df-62ef212a-45c1-4014-b23f-c71031af9302\">\n",
              "    <div class=\"colab-df-container\">\n",
              "      <div>\n",
              "<style scoped>\n",
              "    .dataframe tbody tr th:only-of-type {\n",
              "        vertical-align: middle;\n",
              "    }\n",
              "\n",
              "    .dataframe tbody tr th {\n",
              "        vertical-align: top;\n",
              "    }\n",
              "\n",
              "    .dataframe thead th {\n",
              "        text-align: right;\n",
              "    }\n",
              "</style>\n",
              "<table border=\"1\" class=\"dataframe\">\n",
              "  <thead>\n",
              "    <tr style=\"text-align: right;\">\n",
              "      <th></th>\n",
              "      <th>distance</th>\n",
              "      <th>pvalue</th>\n",
              "      <th>significant</th>\n",
              "      <th>pvalue_adj</th>\n",
              "      <th>significant_adj</th>\n",
              "      <th>name</th>\n",
              "    </tr>\n",
              "  </thead>\n",
              "  <tbody>\n",
              "    <tr>\n",
              "      <th>0</th>\n",
              "      <td>0.017370</td>\n",
              "      <td>0.661</td>\n",
              "      <td>False</td>\n",
              "      <td>0.999996</td>\n",
              "      <td>False</td>\n",
              "      <td>STAT2g2</td>\n",
              "    </tr>\n",
              "    <tr>\n",
              "      <th>1</th>\n",
              "      <td>0.029570</td>\n",
              "      <td>0.007</td>\n",
              "      <td>False</td>\n",
              "      <td>0.325227</td>\n",
              "      <td>False</td>\n",
              "      <td>CAV1g4</td>\n",
              "    </tr>\n",
              "    <tr>\n",
              "      <th>2</th>\n",
              "      <td>0.315472</td>\n",
              "      <td>0.067</td>\n",
              "      <td>False</td>\n",
              "      <td>0.943171</td>\n",
              "      <td>False</td>\n",
              "      <td>STAT1g2</td>\n",
              "    </tr>\n",
              "    <tr>\n",
              "      <th>3</th>\n",
              "      <td>0.010651</td>\n",
              "      <td>0.016</td>\n",
              "      <td>False</td>\n",
              "      <td>0.581462</td>\n",
              "      <td>False</td>\n",
              "      <td>CD86g1</td>\n",
              "    </tr>\n",
              "    <tr>\n",
              "      <th>4</th>\n",
              "      <td>0.037443</td>\n",
              "      <td>0.001</td>\n",
              "      <td>True</td>\n",
              "      <td>0.094302</td>\n",
              "      <td>False</td>\n",
              "      <td>IRF7g2</td>\n",
              "    </tr>\n",
              "    <tr>\n",
              "      <th>...</th>\n",
              "      <td>...</td>\n",
              "      <td>...</td>\n",
              "      <td>...</td>\n",
              "      <td>...</td>\n",
              "      <td>...</td>\n",
              "      <td>...</td>\n",
              "    </tr>\n",
              "    <tr>\n",
              "      <th>94</th>\n",
              "      <td>0.333902</td>\n",
              "      <td>0.186</td>\n",
              "      <td>False</td>\n",
              "      <td>0.996138</td>\n",
              "      <td>False</td>\n",
              "      <td>SPI1g3</td>\n",
              "    </tr>\n",
              "    <tr>\n",
              "      <th>95</th>\n",
              "      <td>0.051816</td>\n",
              "      <td>0.766</td>\n",
              "      <td>False</td>\n",
              "      <td>0.999996</td>\n",
              "      <td>False</td>\n",
              "      <td>PDCD1LG2g2</td>\n",
              "    </tr>\n",
              "    <tr>\n",
              "      <th>96</th>\n",
              "      <td>0.336118</td>\n",
              "      <td>0.405</td>\n",
              "      <td>False</td>\n",
              "      <td>0.999913</td>\n",
              "      <td>False</td>\n",
              "      <td>CUL3g3</td>\n",
              "    </tr>\n",
              "    <tr>\n",
              "      <th>97</th>\n",
              "      <td>1.248222</td>\n",
              "      <td>0.001</td>\n",
              "      <td>True</td>\n",
              "      <td>0.094302</td>\n",
              "      <td>False</td>\n",
              "      <td>SPI1g2</td>\n",
              "    </tr>\n",
              "    <tr>\n",
              "      <th>98</th>\n",
              "      <td>2.594668</td>\n",
              "      <td>0.001</td>\n",
              "      <td>True</td>\n",
              "      <td>0.094302</td>\n",
              "      <td>False</td>\n",
              "      <td>MYCg4</td>\n",
              "    </tr>\n",
              "  </tbody>\n",
              "</table>\n",
              "<p>99 rows × 6 columns</p>\n",
              "</div>\n",
              "      <button class=\"colab-df-convert\" onclick=\"convertToInteractive('df-62ef212a-45c1-4014-b23f-c71031af9302')\"\n",
              "              title=\"Convert this dataframe to an interactive table.\"\n",
              "              style=\"display:none;\">\n",
              "        \n",
              "  <svg xmlns=\"http://www.w3.org/2000/svg\" height=\"24px\"viewBox=\"0 0 24 24\"\n",
              "       width=\"24px\">\n",
              "    <path d=\"M0 0h24v24H0V0z\" fill=\"none\"/>\n",
              "    <path d=\"M18.56 5.44l.94 2.06.94-2.06 2.06-.94-2.06-.94-.94-2.06-.94 2.06-2.06.94zm-11 1L8.5 8.5l.94-2.06 2.06-.94-2.06-.94L8.5 2.5l-.94 2.06-2.06.94zm10 10l.94 2.06.94-2.06 2.06-.94-2.06-.94-.94-2.06-.94 2.06-2.06.94z\"/><path d=\"M17.41 7.96l-1.37-1.37c-.4-.4-.92-.59-1.43-.59-.52 0-1.04.2-1.43.59L10.3 9.45l-7.72 7.72c-.78.78-.78 2.05 0 2.83L4 21.41c.39.39.9.59 1.41.59.51 0 1.02-.2 1.41-.59l7.78-7.78 2.81-2.81c.8-.78.8-2.07 0-2.86zM5.41 20L4 18.59l7.72-7.72 1.47 1.35L5.41 20z\"/>\n",
              "  </svg>\n",
              "      </button>\n",
              "      \n",
              "  <style>\n",
              "    .colab-df-container {\n",
              "      display:flex;\n",
              "      flex-wrap:wrap;\n",
              "      gap: 12px;\n",
              "    }\n",
              "\n",
              "    .colab-df-convert {\n",
              "      background-color: #E8F0FE;\n",
              "      border: none;\n",
              "      border-radius: 50%;\n",
              "      cursor: pointer;\n",
              "      display: none;\n",
              "      fill: #1967D2;\n",
              "      height: 32px;\n",
              "      padding: 0 0 0 0;\n",
              "      width: 32px;\n",
              "    }\n",
              "\n",
              "    .colab-df-convert:hover {\n",
              "      background-color: #E2EBFA;\n",
              "      box-shadow: 0px 1px 2px rgba(60, 64, 67, 0.3), 0px 1px 3px 1px rgba(60, 64, 67, 0.15);\n",
              "      fill: #174EA6;\n",
              "    }\n",
              "\n",
              "    [theme=dark] .colab-df-convert {\n",
              "      background-color: #3B4455;\n",
              "      fill: #D2E3FC;\n",
              "    }\n",
              "\n",
              "    [theme=dark] .colab-df-convert:hover {\n",
              "      background-color: #434B5C;\n",
              "      box-shadow: 0px 1px 3px 1px rgba(0, 0, 0, 0.15);\n",
              "      filter: drop-shadow(0px 1px 2px rgba(0, 0, 0, 0.3));\n",
              "      fill: #FFFFFF;\n",
              "    }\n",
              "  </style>\n",
              "\n",
              "      <script>\n",
              "        const buttonEl =\n",
              "          document.querySelector('#df-62ef212a-45c1-4014-b23f-c71031af9302 button.colab-df-convert');\n",
              "        buttonEl.style.display =\n",
              "          google.colab.kernel.accessAllowed ? 'block' : 'none';\n",
              "\n",
              "        async function convertToInteractive(key) {\n",
              "          const element = document.querySelector('#df-62ef212a-45c1-4014-b23f-c71031af9302');\n",
              "          const dataTable =\n",
              "            await google.colab.kernel.invokeFunction('convertToInteractive',\n",
              "                                                     [key], {});\n",
              "          if (!dataTable) return;\n",
              "\n",
              "          const docLinkHtml = 'Like what you see? Visit the ' +\n",
              "            '<a target=\"_blank\" href=https://colab.research.google.com/notebooks/data_table.ipynb>data table notebook</a>'\n",
              "            + ' to learn more about interactive tables.';\n",
              "          element.innerHTML = '';\n",
              "          dataTable['output_type'] = 'display_data';\n",
              "          await google.colab.output.renderOutput(dataTable, element);\n",
              "          const docLink = document.createElement('div');\n",
              "          docLink.innerHTML = docLinkHtml;\n",
              "          element.appendChild(docLink);\n",
              "        }\n",
              "      </script>\n",
              "    </div>\n",
              "  </div>\n",
              "  "
            ]
          },
          "metadata": {},
          "execution_count": 22
        }
      ]
    },
    {
      "cell_type": "code",
      "source": [
        "tab['pvalue_adj']['control'] #1"
      ],
      "metadata": {
        "id": "QfkTTu2E8Upt",
        "colab": {
          "base_uri": "https://localhost:8080/"
        },
        "outputId": "6bcf3b69-3151-4080-e7c2-fb29e3368fd0"
      },
      "execution_count": 14,
      "outputs": [
        {
          "output_type": "execute_result",
          "data": {
            "text/plain": [
              "1.0"
            ]
          },
          "metadata": {},
          "execution_count": 14
        }
      ]
    },
    {
      "cell_type": "code",
      "source": [
        "sum_stim=sum(tab['pvalue_adj'])-1\n",
        "sum_stim/98  #0.567399"
      ],
      "metadata": {
        "id": "S2nTLmQi8pii",
        "colab": {
          "base_uri": "https://localhost:8080/"
        },
        "outputId": "f40c4acd-2096-4496-edff-f1d6273cda98"
      },
      "execution_count": 15,
      "outputs": [
        {
          "output_type": "execute_result",
          "data": {
            "text/plain": [
              "0.5673994175166678"
            ]
          },
          "metadata": {},
          "execution_count": 15
        }
      ]
    },
    {
      "cell_type": "code",
      "source": [
        "print(tab['pvalue']['control']) #1 \n",
        "(sum(tab['pvalue'])-1)/98 #0.17"
      ],
      "metadata": {
        "id": "pXf3BsoO876W",
        "colab": {
          "base_uri": "https://localhost:8080/"
        },
        "outputId": "b8e7a1d9-6c0e-4056-becb-a30b8552f307"
      },
      "execution_count": 16,
      "outputs": [
        {
          "output_type": "stream",
          "name": "stdout",
          "text": [
            "1.0\n"
          ]
        },
        {
          "output_type": "execute_result",
          "data": {
            "text/plain": [
              "0.17380612244897967"
            ]
          },
          "metadata": {},
          "execution_count": 16
        }
      ]
    }
  ],
  "metadata": {
    "colab": {
      "provenance": []
    },
    "kernelspec": {
      "display_name": "Python 3",
      "name": "python3"
    },
    "language_info": {
      "name": "python"
    },
    "widgets": {
      "application/vnd.jupyter.widget-state+json": {
        "e7cb79791e6d414c99b53464db3891fa": {
          "model_module": "@jupyter-widgets/output",
          "model_name": "OutputModel",
          "model_module_version": "1.0.0",
          "state": {
            "_dom_classes": [],
            "_model_module": "@jupyter-widgets/output",
            "_model_module_version": "1.0.0",
            "_model_name": "OutputModel",
            "_view_count": null,
            "_view_module": "@jupyter-widgets/output",
            "_view_module_version": "1.0.0",
            "_view_name": "OutputView",
            "layout": "IPY_MODEL_489d670ef4344236b040e421da8156fe",
            "msg_id": "",
            "outputs": [
              {
                "output_type": "display_data",
                "data": {
                  "text/plain": "Working... \u001b[38;2;114;156;31m━━━━━━━━━━━━━━━━━━━━━━━━━━━━━━━━━━━━━━━━\u001b[0m \u001b[35m100%\u001b[0m \u001b[33m2:15:19\u001b[0m\n",
                  "text/html": "<pre style=\"white-space:pre;overflow-x:auto;line-height:normal;font-family:Menlo,'DejaVu Sans Mono',consolas,'Courier New',monospace\">Working... <span style=\"color: #729c1f; text-decoration-color: #729c1f\">━━━━━━━━━━━━━━━━━━━━━━━━━━━━━━━━━━━━━━━━</span> <span style=\"color: #800080; text-decoration-color: #800080\">100%</span> <span style=\"color: #808000; text-decoration-color: #808000\">2:15:19</span>\n</pre>\n"
                },
                "metadata": {}
              }
            ]
          }
        },
        "489d670ef4344236b040e421da8156fe": {
          "model_module": "@jupyter-widgets/base",
          "model_name": "LayoutModel",
          "model_module_version": "1.2.0",
          "state": {
            "_model_module": "@jupyter-widgets/base",
            "_model_module_version": "1.2.0",
            "_model_name": "LayoutModel",
            "_view_count": null,
            "_view_module": "@jupyter-widgets/base",
            "_view_module_version": "1.2.0",
            "_view_name": "LayoutView",
            "align_content": null,
            "align_items": null,
            "align_self": null,
            "border": null,
            "bottom": null,
            "display": null,
            "flex": null,
            "flex_flow": null,
            "grid_area": null,
            "grid_auto_columns": null,
            "grid_auto_flow": null,
            "grid_auto_rows": null,
            "grid_column": null,
            "grid_gap": null,
            "grid_row": null,
            "grid_template_areas": null,
            "grid_template_columns": null,
            "grid_template_rows": null,
            "height": null,
            "justify_content": null,
            "justify_items": null,
            "left": null,
            "margin": null,
            "max_height": null,
            "max_width": null,
            "min_height": null,
            "min_width": null,
            "object_fit": null,
            "object_position": null,
            "order": null,
            "overflow": null,
            "overflow_x": null,
            "overflow_y": null,
            "padding": null,
            "right": null,
            "top": null,
            "visibility": null,
            "width": null
          }
        }
      }
    }
  },
  "nbformat": 4,
  "nbformat_minor": 0
}