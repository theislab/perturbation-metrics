{
 "cells": [
  {
   "cell_type": "code",
   "execution_count": 1,
   "metadata": {
    "pycharm": {
     "is_executing": true
    }
   },
   "outputs": [
    {
     "name": "stderr",
     "output_type": "stream",
     "text": [
      "Global seed set to 0\n",
      "/Users/meiqiliu/miniforge3/envs/fa_base2/lib/python3.8/site-packages/flax/struct.py:132: FutureWarning: jax.tree_util.register_keypaths is deprecated, and will be removed in a future release. Please use `register_pytree_with_keys()` instead.\n",
      "  jax.tree_util.register_keypaths(data_clz, keypaths)\n",
      "/Users/meiqiliu/miniforge3/envs/fa_base2/lib/python3.8/site-packages/flax/struct.py:132: FutureWarning: jax.tree_util.register_keypaths is deprecated, and will be removed in a future release. Please use `register_pytree_with_keys()` instead.\n",
      "  jax.tree_util.register_keypaths(data_clz, keypaths)\n"
     ]
    }
   ],
   "source": [
    "import anndata\n",
    "import scanpy as sc\n",
    "import scgen\n",
    "import pandas as pd  \n",
    "import numpy as np\n",
    "\n",
    "font = {'family' : 'Arial',\n",
    "        'size'   : 14}"
   ]
  },
  {
   "cell_type": "code",
   "execution_count": 2,
   "metadata": {
    "pycharm": {
     "name": "#%%\n"
    }
   },
   "outputs": [
    {
     "name": "stderr",
     "output_type": "stream",
     "text": [
      "/Users/meiqiliu/miniforge3/envs/fa_base2/lib/python3.8/site-packages/anndata/compat/__init__.py:232: FutureWarning: Moving element from .uns['neighbors']['distances'] to .obsp['distances'].\n",
      "\n",
      "This is where adjacency matrices should go now.\n",
      "  warn(\n",
      "/Users/meiqiliu/miniforge3/envs/fa_base2/lib/python3.8/site-packages/anndata/compat/__init__.py:232: FutureWarning: Moving element from .uns['neighbors']['connectivities'] to .obsp['connectivities'].\n",
      "\n",
      "This is where adjacency matrices should go now.\n",
      "  warn(\n"
     ]
    }
   ],
   "source": [
    "train = sc.read(\"./data/train.h5ad\",backup_url='https://drive.google.com/uc?id=1r87vhoLLq6PXAYdmyyd89zG90eJOFYLk')"
   ]
  },
  {
   "cell_type": "code",
   "execution_count": 3,
   "metadata": {},
   "outputs": [
    {
     "name": "stdout",
     "output_type": "stream",
     "text": [
      "AnnData object with n_obs × n_vars = 16893 × 6998\n",
      "    obs: 'condition', 'n_counts', 'n_genes', 'mt_frac', 'cell_type'\n",
      "    var: 'gene_symbol', 'n_cells'\n",
      "    uns: 'cell_type_colors', 'condition_colors', 'neighbors'\n",
      "    obsm: 'X_pca', 'X_tsne', 'X_umap'\n",
      "    obsp: 'distances', 'connectivities'\n",
      "['stimulated', 'stimulated', 'stimulated', 'stimulated', 'stimulated', ..., 'control', 'control', 'control', 'control', 'control']\n",
      "Length: 16893\n",
      "Categories (2, object): ['control', 'stimulated']\n"
     ]
    }
   ],
   "source": [
    "print(train)\n",
    "print(train.obs['condition'].values)"
   ]
  },
  {
   "cell_type": "code",
   "execution_count": 4,
   "metadata": {},
   "outputs": [
    {
     "data": {
      "text/plain": [
       "<8007x6998 sparse matrix of type '<class 'numpy.float32'>'\n",
       "\twith 2634770 stored elements in Compressed Sparse Row format>"
      ]
     },
     "execution_count": 4,
     "metadata": {},
     "output_type": "execute_result"
    }
   ],
   "source": [
    "train[train.obs['condition']=='control'].X"
   ]
  },
  {
   "cell_type": "code",
   "execution_count": 5,
   "metadata": {},
   "outputs": [
    {
     "data": {
      "text/plain": [
       "(<16893x6998 sparse matrix of type '<class 'numpy.float32'>'\n",
       " \twith 5533579 stored elements in Compressed Sparse Row format>,\n",
       " <16893x6998 sparse matrix of type '<class 'numpy.float32'>'\n",
       " \twith 5533579 stored elements in Compressed Sparse Row format>)"
      ]
     },
     "execution_count": 5,
     "metadata": {},
     "output_type": "execute_result"
    }
   ],
   "source": [
    "import pandas as pd  \n",
    "import numpy as np\n",
    "def sample_obs(adata,size_n):\n",
    "    \"\"\"\n",
    "    params \n",
    "    -------------\n",
    "    adata\n",
    "    size_n:the number of rows we will consider in comparison\n",
    "    output x,y in sparse matrix form\n",
    "    which is sample1 and sample2 drawn from two specified codition\n",
    "    \"\"\"\n",
    "\n",
    "    x = adata.X\n",
    "    #print(x.shape)(16893, 6998)\n",
    "    n_rows=x.shape[0]\n",
    "    \n",
    "    df = pd.DataFrame({'x':np.arange(n_rows)})\n",
    "    #shuffle the data index\n",
    "    x_sample1=df['x'].sample(frac=1, replace=False).values[:size_n]\n",
    "    x_sample2=df['x'].sample(frac=1, replace=False).values[:size_n]\n",
    "    \n",
    "    return x[x_sample1,:], x[x_sample2,:]\n",
    "\n",
    "sample_obs(train,train.X.shape[0])\n"
   ]
  },
  {
   "cell_type": "code",
   "execution_count": 193,
   "metadata": {},
   "outputs": [],
   "source": [
    "def data_prep(adata,conditions=None):\n",
    "    \"\"\"\n",
    "    param\n",
    "    -----------\n",
    "    adata\n",
    "    return_mean: bool variable True if we want to compute mean of sampled data per cell to\n",
    "    find statistic between mean of data from sample1 and sample2\n",
    "    output: the sampled data from sample1 and sample2 of type array\n",
    "    \"\"\"\n",
    "    control = adata[adata.obs[\"condition\"] == conditions[\"x\"]]\n",
    "    stim = adata[adata.obs[\"condition\"] == conditions[\"y\"]]\n",
    "    \n",
    "    #fix the number of rows of sampled data as the minimum number of rows between sample1,sample2\n",
    "    n=np.minimum(control.shape[0],stim.shape[0])\n",
    "    \n",
    "    y,_ = sample_obs(control,n)\n",
    "    x,_ = sample_obs(stim,n)\n",
    "    \n",
    "    x=x.toarray()\n",
    "    y=y.toarray()\n",
    "    \n",
    "    return x,y\n",
    " \n",
    "def compute_from_mean(x,y,fn,if_return=False):\n",
    "    \"\"\"\n",
    "    param\n",
    "    -------\n",
    "    x,y:data from sample1 and sample2\n",
    "    fn: the statistic function with input x,y\n",
    "    print statistic computed with mean of sample 1 and 2\n",
    "    \"\"\" \n",
    "    \n",
    "    x_mean = np.mean(x, axis=0).ravel()\n",
    "    y_mean = np.mean(y, axis=0).ravel()\n",
    "    mean = fn(x_mean,y_mean)\n",
    "    print(\"statistic computed with mean of sample 1 and 2:\",mean)\n",
    "    if if_return:\n",
    "        return mean\n",
    "\n",
    "def compute_from_sample(x,y,fn):\n",
    "    \"\"\"\n",
    "    param\n",
    "    -----------\n",
    "    x,y:sampled data from sample1 and sample2 in sparse matric form\n",
    "    output: the average of statistic computed between each data from sample1 and sample2\n",
    "    \"\"\"\n",
    "#     x=x.toarray()\n",
    "#     y=y.toarray()\n",
    "    a=dict.fromkeys(range(x.shape[0]))\n",
    "    \n",
    "    for i in range(x.shape[0]):\n",
    "        a[i]=fn(x[i],y[i])\n",
    "        \n",
    "    return np.mean(list(a.values()))\n",
    "\n",
    "\n",
    "def test(fn,train):\n",
    "    \"\"\"\n",
    "    fn: the function for computing specific statistic to apply \n",
    "    print out the test result for statistic between (stim,ctrl) and (ctrl,ctrl)\n",
    "    \n",
    "    \"\"\"\n",
    "    conditions = {\"x\": \"stimulated\", \"y\": \"control\"}\n",
    "    print(\"mean of computed statistics:\",fn(train,conditions))\n",
    "\n",
    "    conditions = {\"x\": \"control\", \"y\": \"control\"}\n",
    "    print(\"mean of computed statistics:\",fn(train,conditions))\n",
    "    \n",
    "    return None\n",
    " \n",
    "def dist_based(x,y):\n",
    "    \"\"\"\n",
    "    transpose the data so that we can compute static between genes (columns)\n",
    "    \"\"\"\n",
    "    m=np.minimum(x.shape[0],x.shape[0])\n",
    "    x=x.T[:,:m]#delete .toarray()\n",
    "    y=y.T[:,:m]\n",
    "    return x,y\n",
    "        \n",
    "    "
   ]
  },
  {
   "cell_type": "code",
   "execution_count": 7,
   "metadata": {},
   "outputs": [
    {
     "name": "stdout",
     "output_type": "stream",
     "text": [
      "statistic computed with mean of sample 1 and 2: 0.8653249069044943\n",
      "mean of computed statistics: 0.37555144570264\n",
      "statistic computed with mean of sample 1 and 2: 0.9999999999973818\n",
      "mean of computed statistics: 0.42847043916316774\n"
     ]
    }
   ],
   "source": [
    "from scipy import stats\n",
    "def calc_pearson(adata, conditions,fn=None):\n",
    "    \"\"\"\n",
    "    param\n",
    "    ---------\n",
    "    adata\n",
    "    condition: dictionary pass to adata to get sample1 and sample2 from specific 'condition'\n",
    "    fn: function for computing pearson coefficient \n",
    "    -----------\n",
    "    output: the average of pearson coefficient computed between each data from sample1 and sample2\n",
    "    \"\"\"\n",
    "    fn=lambda x,y: stats.pearsonr(x,y).statistic\n",
    "\n",
    "    x,y=data_prep(adata,conditions)\n",
    "    \n",
    "    compute_from_mean(x,y,fn)\n",
    "    \n",
    "#     x=x.toarray()\n",
    "#     y=y.toarray()\n",
    "    pearson_obs=dict.fromkeys(range(x.shape[0]))\n",
    "    for i in range(x.shape[0]):\n",
    "        #use pd\n",
    "        df = pd.DataFrame({'x':x[i], 'y':y[i]})\n",
    "        matrix=df.corr(method='pearson').values\n",
    "        pearson_obs[i] = matrix[0,1]\n",
    "    \n",
    "    pr=list(pearson_obs.values())\n",
    "    \n",
    "    return np.mean(pr)\n",
    "\n",
    "test(calc_pearson,train)\n"
   ]
  },
  {
   "cell_type": "code",
   "execution_count": 8,
   "metadata": {},
   "outputs": [
    {
     "name": "stdout",
     "output_type": "stream",
     "text": [
      "statistic computed with mean of sample 1 and 2: 0.014766272\n",
      "mean of computed statistics: 0.064424925\n",
      "statistic computed with mean of sample 1 and 2: 2.5458988e-08\n",
      "mean of computed statistics: 0.06142647\n"
     ]
    }
   ],
   "source": [
    "from scipy import stats\n",
    "def calc_mae(adata, conditions,fn=None):\n",
    "    fn=lambda x,y: np.mean(np.abs(y-x))\n",
    "    x,y=data_prep(adata,conditions)\n",
    "    compute_from_mean(x,y,fn)\n",
    "    return compute_from_sample(x,y,fn)\n",
    "\n",
    "test(calc_mae,train)"
   ]
  },
  {
   "cell_type": "code",
   "execution_count": 9,
   "metadata": {},
   "outputs": [
    {
     "name": "stdout",
     "output_type": "stream",
     "text": [
      "statistic computed with mean of sample 1 and 2: 6.5797815\n",
      "mean of computed statistics: 21.398846\n",
      "statistic computed with mean of sample 1 and 2: 1.4995142e-05\n",
      "mean of computed statistics: 19.897516\n"
     ]
    }
   ],
   "source": [
    "def calc_euclidean_d(adata, conditions,fn=None):\n",
    "    fn=lambda x,y: np.linalg.norm(x-y)\n",
    "    x,y=data_prep(adata,conditions)\n",
    "    compute_from_mean(x,y,fn) \n",
    "    return compute_from_sample(x,y,fn)\n",
    "\n",
    "test(calc_euclidean_d,train)"
   ]
  },
  {
   "cell_type": "code",
   "execution_count": 10,
   "metadata": {},
   "outputs": [
    {
     "name": "stdout",
     "output_type": "stream",
     "text": [
      "statistic computed with mean of sample 1 and 2: 0.7481821992856497\n",
      "mean of computed statistics: 0.1525710060806336\n",
      "statistic computed with mean of sample 1 and 2: 0.9999999999975027\n",
      "mean of computed statistics: 0.20038285497247008\n"
     ]
    }
   ],
   "source": [
    "def calc_r(adata,conditions,fn=None):\n",
    "    fn=lambda x,y: stats.linregress(x,y)[2]**2\n",
    "    x,y=data_prep(adata,conditions)\n",
    "    compute_from_mean(x,y,fn)\n",
    "    return compute_from_sample(x,y,fn)\n",
    "test(calc_r,train)"
   ]
  },
  {
   "cell_type": "code",
   "execution_count": 11,
   "metadata": {},
   "outputs": [
    {
     "name": "stderr",
     "output_type": "stream",
     "text": [
      "/Users/meiqiliu/miniforge3/envs/fa_base2/lib/python3.8/site-packages/scipy/spatial/distance.py:1291: RuntimeWarning: invalid value encountered in divide\n",
      "  q = q / np.sum(q, axis=axis, keepdims=True)\n",
      "/Users/meiqiliu/miniforge3/envs/fa_base2/lib/python3.8/site-packages/scipy/spatial/distance.py:1290: RuntimeWarning: invalid value encountered in divide\n",
      "  p = p / np.sum(p, axis=axis, keepdims=True)\n"
     ]
    },
    {
     "name": "stdout",
     "output_type": "stream",
     "text": [
      "mean of computed statistics: 0.8133531029771389\n"
     ]
    },
    {
     "name": "stderr",
     "output_type": "stream",
     "text": [
      "/Users/meiqiliu/miniforge3/envs/fa_base2/lib/python3.8/site-packages/scipy/spatial/distance.py:1290: RuntimeWarning: invalid value encountered in divide\n",
      "  p = p / np.sum(p, axis=axis, keepdims=True)\n",
      "/Users/meiqiliu/miniforge3/envs/fa_base2/lib/python3.8/site-packages/scipy/spatial/distance.py:1291: RuntimeWarning: invalid value encountered in divide\n",
      "  q = q / np.sum(q, axis=axis, keepdims=True)\n"
     ]
    },
    {
     "name": "stdout",
     "output_type": "stream",
     "text": [
      "mean of computed statistics: 0.8125199976448257\n"
     ]
    }
   ],
   "source": [
    "from scipy.special import rel_entr\n",
    "from scipy.spatial import distance\n",
    "from scipy.stats import shapiro,ttest_rel,t,ttest_ind\n",
    "#distribution based metrics \n",
    "#use Jensen-Shannon divergence to replace formula of kl divergence since kl diergence has\n",
    "#inf result for sparse data \n",
    "def average_dist_metric(x,y,fn):\n",
    "    kl=0\n",
    "    count_nan=0\n",
    "    for i in range(x.shape[0]):\n",
    "\n",
    "        sparse=fn(x[i],y[i])\n",
    "        if np.isnan(sparse):#nan: caused by division by 0-vector(vec of all 0)\n",
    "            count_nan+=1   \n",
    "        else:\n",
    "            kl+=sparse\n",
    "    return kl/(x.shape[0]-count_nan)\n",
    "\n",
    "def calc_kl(adata, conditions):\n",
    "    x,y=data_prep(adata,conditions)\n",
    "    x,y=dist_based(x,y)#only for distribution based methods\n",
    "    fn=lambda x,y: distance.jensenshannon(x,y)\n",
    "    return average_dist_metric(x,y,fn)\n",
    "\n",
    "# def calc_kl(adata, conditions):\n",
    "#     x,y=data_prep(adata,conditions)\n",
    "#     x,y=dist_based(x,y)#only for distribution based methods\n",
    "    \n",
    "#     kl=0\n",
    "#     count_nan=0\n",
    "#     for i in range(x.shape[0]):\n",
    "\n",
    "#         sparse=distance.jensenshannon(x[i],y[i])\n",
    "#         if np.isnan(sparse):#nan: caused by division by 0-vector(vec of all 0)\n",
    "#             count_nan+=1   \n",
    "#         else:\n",
    "#             kl+=sparse\n",
    " \n",
    "\n",
    "#     return kl/(x.shape[0]-count_nan)\n",
    "\n",
    "test(calc_kl,train)"
   ]
  },
  {
   "cell_type": "code",
   "execution_count": 13,
   "metadata": {},
   "outputs": [
    {
     "name": "stdout",
     "output_type": "stream",
     "text": [
      "mean of computed statistics: 0.5255426446376334\n",
      "mean of computed statistics: -8.213753851441806e-09\n"
     ]
    }
   ],
   "source": [
    "\n",
    "def t_test(adata, conditions):\n",
    "    x,y=data_prep(adata,conditions)\n",
    "    x,y=dist_based(x,y)#only for distribution based methods\n",
    "    fn=lambda x,y: stats.ttest_ind(x,y, equal_var=True)[0]\n",
    "    return average_dist_metric(x,y,fn)\n",
    "\n",
    "# def t_test(adata, conditions):\n",
    "#     x,y=data_prep(adata,conditions)\n",
    "#     x,y=dist_based(x,y)\n",
    "    \n",
    "#     t=0\n",
    "#     p=0\n",
    "#     count_nan=0\n",
    "#     for i in range(x.shape[0]):\n",
    "        \n",
    "#         t_stats,p_value=stats.ttest_ind(x[i],y[i], equal_var=True)\n",
    "    \n",
    "#         #t_stats,p_value=ttest_rel(x[i], y[i])\n",
    "#         if np.isnan(t_stats):\n",
    "#             count_nan+=1\n",
    "           \n",
    "#         else:\n",
    "#             t=t+t_stats\n",
    "#             p=p+p_value\n",
    "     \n",
    "#     print(\"t-statistic:\",t/(x.shape[0]-count_nan))\n",
    "#     print(\"p-value\",p/(x.shape[0]-count_nan))\n",
    "   \n",
    "#     return t/(x.shape[0]-count_nan)\n",
    "\n",
    "test(t_test,train)"
   ]
  },
  {
   "cell_type": "code",
   "execution_count": null,
   "metadata": {},
   "outputs": [],
   "source": [
    "from sklearn import metrics\n",
    "\n",
    "def mmd_rbf(X, Y, gamma=1.0):\n",
    "    \"\"\"MMD using rbf (gaussian) kernel (i.e., k(x,y) = exp(-gamma * ||x-y||^2 / 2))\n",
    "    Arguments:\n",
    "        X {[n_sample1, dim]} -- [X matrix]\n",
    "        Y {[n_sample2, dim]} -- [Y matrix]\n",
    "    Keyword Arguments:\n",
    "        gamma {float} -- [kernel parameter] (default: {1.0})\n",
    "    Returns:\n",
    "        [scalar] -- [MMD value]\n",
    "    \"\"\"\n",
    "    XX = metrics.pairwise.rbf_kernel(X, X, gamma)\n",
    "    YY = metrics.pairwise.rbf_kernel(Y, Y, gamma)\n",
    "    XY = metrics.pairwise.rbf_kernel(X, Y, gamma)\n",
    "    return XX.mean() + YY.mean() - 2 * XY.mean()"
   ]
  },
  {
   "cell_type": "code",
   "execution_count": null,
   "metadata": {},
   "outputs": [],
   "source": [
    "def mmd(adata, conditions=None):\n",
    "    x,y=data_prep(adata,conditions)\n",
    "    x,y=dist_based(x,y)\n",
    "    \n",
    "    print(\"mmd rbf: \",mmd_rbf(x,y))\n",
    "\n",
    "    return None\n",
    "\n",
    "conditions = {\"x\": \"stimulated\", \"y\": \"control\"}\n",
    "mmd(train,conditions)\n",
    "\n",
    "conditions = {\"x\": \"control\", \"y\": \"control\"}\n",
    "mmd(train,conditions)"
   ]
  },
  {
   "cell_type": "code",
   "execution_count": null,
   "metadata": {},
   "outputs": [],
   "source": [
    "%%time\n",
    "def calc_wasserstein(adata, conditions,fn=None):\n",
    "    fn=lambda x,y: stats.wasserstein_distance(x,y)\n",
    "    x,y=data_prep(adata,conditions)\n",
    "    x,y=dist_based(x,y)\n",
    "    return compute_from_sample(x,y,fn)\n",
    "\n",
    "test(calc_wasserstein,train)   "
   ]
  },
  {
   "cell_type": "code",
   "execution_count": null,
   "metadata": {},
   "outputs": [],
   "source": [
    "# %%time\n",
    "# def wasserstein(adata, conditions=None):\n",
    "\n",
    "#     control = adata[adata.obs[\"condition\"] == conditions[\"x\"]]\n",
    "#     stim = adata[adata.obs[\"condition\"] == conditions[\"y\"]]\n",
    "#     n=np.minimum(control.shape[1],stim.shape[1])\n",
    "#     m=np.minimum(control.shape[0],stim.shape[0])\n",
    "\n",
    "#     y,_ = sample_obs(control,n)\n",
    "#     x,_ = sample_obs(stim,n)   \n",
    "    \n",
    "#     x=x.T[:,:m].toarray()\n",
    "#     y=y.T[:,:m].toarray()\n",
    "  \n",
    "#     d=dict.fromkeys(range(x.shape[1]))\n",
    "    \n",
    "#     for i in range(x.shape[0]):\n",
    "       \n",
    "#         d[i]=stats.wasserstein_distance(x[i],y[i])\n",
    "         \n",
    "#     print(np.mean(list(d.values())))\n",
    "\n",
    "\n",
    "#     return np.mean(list(d.values()))\n",
    "\n",
    "# conditions = {\"x\": \"stimulated\", \"y\": \"control\"}\n",
    "# wasserstein(train,conditions)\n",
    "\n",
    "# conditions = {\"x\": \"control\", \"y\": \"control\"}\n",
    "# wasserstein(train,conditions)\n"
   ]
  },
  {
   "cell_type": "code",
   "execution_count": 115,
   "metadata": {},
   "outputs": [
    {
     "name": "stdout",
     "output_type": "stream",
     "text": [
      "-0.06459994854032636\n",
      "Optimization terminated successfully.\n",
      "         Current function value: 88.919292\n",
      "         Iterations: 16\n",
      "         Function evaluations: 17\n",
      "         Gradient evaluations: 17\n",
      "                     ZeroInflatedNegativeBinomialP Regression Results                    \n",
      "=========================================================================================\n",
      "Dep. Variable:                                 y   No. Observations:                   15\n",
      "Model:             ZeroInflatedNegativeBinomialP   Df Residuals:                       13\n",
      "Method:                                      MLE   Df Model:                            1\n",
      "Date:                           Mon, 17 Apr 2023   Pseudo R-squ.:                  -15.78\n",
      "Time:                                   20:35:56   Log-Likelihood:                -1333.8\n",
      "converged:                                  True   LL-Null:                       -79.480\n",
      "Covariance Type:                       nonrobust   LLR p-value:                     1.000\n",
      "=================================================================================\n",
      "                    coef    std err          z      P>|z|      [0.025      0.975]\n",
      "---------------------------------------------------------------------------------\n",
      "inflate_const   -11.6532        nan        nan        nan         nan         nan\n",
      "const            10.8134        nan        nan        nan         nan         nan\n",
      "x1               -2.6034        nan        nan        nan         nan         nan\n",
      "alpha          3.468e+37        nan        nan        nan         nan         nan\n",
      "=================================================================================\n"
     ]
    },
    {
     "name": "stderr",
     "output_type": "stream",
     "text": [
      "/Users/meiqiliu/miniforge3/envs/fa_base2/lib/python3.8/site-packages/statsmodels/discrete/discrete_model.py:3122: RuntimeWarning: invalid value encountered in log\n",
      "  a1 * np.log(a1) + y * np.log(mu) -\n",
      "/Users/meiqiliu/miniforge3/envs/fa_base2/lib/python3.8/site-packages/statsmodels/base/model.py:592: HessianInversionWarning: Inverting hessian failed, no bse or cov_params available\n",
      "  warnings.warn('Inverting hessian failed, no bse or cov_params '\n",
      "/Users/meiqiliu/miniforge3/envs/fa_base2/lib/python3.8/site-packages/statsmodels/base/optimizer.py:17: FutureWarning: Keyword arguments have been passed to the optimizer that have no effect. The list of allowed keyword arguments for method bfgs is: gtol, norm, epsilon. The list of unsupported keyword arguments passed include: maxfun. After release 0.14, this will raise.\n",
      "  warnings.warn(\n",
      "/Users/meiqiliu/miniforge3/envs/fa_base2/lib/python3.8/site-packages/statsmodels/base/model.py:592: HessianInversionWarning: Inverting hessian failed, no bse or cov_params available\n",
      "  warnings.warn('Inverting hessian failed, no bse or cov_params '\n"
     ]
    },
    {
     "data": {
      "image/png": "[encoded data removed]",
      "text/plain": [
       "<Figure size 640x480 with 1 Axes>"
      ]
     },
     "metadata": {},
     "output_type": "display_data"
    }
   ],
   "source": [
    "import statsmodels\n",
    "print(statsmodels.stats.proportion.proportion_effectsize(prop1=0.3, prop2=0.33))\n",
    "s=np.random.negative_binomial(3,0.25,10000)\n",
    "X=np.ones_like(s)\n",
    "#res=sm.ZeroInflatedNegativeBinomial(s,X).fit(start_params=[1,1])\n",
    "#print(s)\n",
    "from statsmodels.discrete.count_model import (ZeroInflatedNegativeBinomialP, ZeroInflatedPoisson,\n",
    "                                              ZeroInflatedGeneralizedPoisson)\n",
    "endog=[6679,469,151,52,27,12,5,5,3,6,2,1,1,2,1]\n",
    "exog=[[1,0],[1,1],[1,2],[1,3],[1,4],[1,5],[1,6],[1,7],[1,8],[1,9],[1,10],[1,12],[1,14],[1,25],[1,32]]\n",
    "\n",
    "\n",
    "endog=np.array(endog)\n",
    "exog=np.array(exog)\n",
    "\n",
    "plt.plot(exog[:,1],endog,'r.-')\n",
    "plt.xlabel('exog')\n",
    "plt.ylabel('endog')\n",
    "plt.savefig('plot.png')\n",
    "\n",
    "model_zinb = ZeroInflatedNegativeBinomialP(endog, exog)\n",
    "res_nb = model_zinb.fit(method='bfgs', maxiter=5000, maxfun=5000)\n",
    "print(res_nb.summary())\n"
   ]
  },
  {
   "cell_type": "code",
   "execution_count": null,
   "metadata": {},
   "outputs": [],
   "source": [
    "def zero_inflated(adata, conditions):\n",
    "\n",
    "    x,y=data_prep(adata,conditions)\n",
    "    x,y=dist_based(x,y)\n",
    "    \n",
    "    "
   ]
  },
  {
   "cell_type": "code",
   "execution_count": 169,
   "metadata": {},
   "outputs": [
    {
     "name": "stdout",
     "output_type": "stream",
     "text": [
      "[0.05079731 0.05005321 0.03956505 ... 0.03377978 0.05320852 0.0431784 ]\n"
     ]
    },
    {
     "name": "stderr",
     "output_type": "stream",
     "text": [
      "/Users/meiqiliu/miniforge3/envs/fa_base2/lib/python3.8/site-packages/statsmodels/discrete/discrete_model.py:3122: RuntimeWarning: invalid value encountered in log\n",
      "  a1 * np.log(a1) + y * np.log(mu) -\n",
      "/Users/meiqiliu/miniforge3/envs/fa_base2/lib/python3.8/site-packages/statsmodels/discrete/discrete_model.py:3123: RuntimeWarning: invalid value encountered in log\n",
      "  (y + a1) * np.log(a2))\n",
      "/Users/meiqiliu/miniforge3/envs/fa_base2/lib/python3.8/site-packages/statsmodels/discrete/discrete_model.py:3122: RuntimeWarning: invalid value encountered in log\n",
      "  a1 * np.log(a1) + y * np.log(mu) -\n",
      "/Users/meiqiliu/miniforge3/envs/fa_base2/lib/python3.8/site-packages/statsmodels/discrete/discrete_model.py:3123: RuntimeWarning: invalid value encountered in log\n",
      "  (y + a1) * np.log(a2))\n",
      "/Users/meiqiliu/miniforge3/envs/fa_base2/lib/python3.8/site-packages/statsmodels/discrete/discrete_model.py:3159: RuntimeWarning: invalid value encountered in log\n",
      "  dgterm = dgpart + np.log(a1 / a2) + 1 - a3 / a2\n",
      "/Users/meiqiliu/miniforge3/envs/fa_base2/lib/python3.8/site-packages/statsmodels/discrete/discrete_model.py:1819: RuntimeWarning: overflow encountered in exp\n",
      "  return 1/(1+np.exp(-X))\n",
      "/Users/meiqiliu/miniforge3/envs/fa_base2/lib/python3.8/site-packages/statsmodels/discrete/discrete_model.py:3122: RuntimeWarning: divide by zero encountered in log\n",
      "  a1 * np.log(a1) + y * np.log(mu) -\n",
      "/Users/meiqiliu/miniforge3/envs/fa_base2/lib/python3.8/site-packages/statsmodels/discrete/discrete_model.py:3156: RuntimeWarning: invalid value encountered in divide\n",
      "  a4 = p * a1 / mu\n",
      "/Users/meiqiliu/miniforge3/envs/fa_base2/lib/python3.8/site-packages/statsmodels/discrete/discrete_model.py:3164: RuntimeWarning: divide by zero encountered in divide\n",
      "  y / mu)\n",
      "/Users/meiqiliu/miniforge3/envs/fa_base2/lib/python3.8/site-packages/statsmodels/discrete/discrete_model.py:3122: RuntimeWarning: invalid value encountered in log\n",
      "  a1 * np.log(a1) + y * np.log(mu) -\n",
      "/Users/meiqiliu/miniforge3/envs/fa_base2/lib/python3.8/site-packages/statsmodels/discrete/discrete_model.py:3123: RuntimeWarning: invalid value encountered in log\n",
      "  (y + a1) * np.log(a2))\n",
      "/Users/meiqiliu/miniforge3/envs/fa_base2/lib/python3.8/site-packages/statsmodels/discrete/discrete_model.py:3122: RuntimeWarning: invalid value encountered in log\n",
      "  a1 * np.log(a1) + y * np.log(mu) -\n",
      "/Users/meiqiliu/miniforge3/envs/fa_base2/lib/python3.8/site-packages/statsmodels/discrete/discrete_model.py:3123: RuntimeWarning: invalid value encountered in log\n",
      "  (y + a1) * np.log(a2))\n",
      "/Users/meiqiliu/miniforge3/envs/fa_base2/lib/python3.8/site-packages/statsmodels/base/model.py:592: HessianInversionWarning: Inverting hessian failed, no bse or cov_params available\n",
      "  warnings.warn('Inverting hessian failed, no bse or cov_params '\n",
      "/Users/meiqiliu/miniforge3/envs/fa_base2/lib/python3.8/site-packages/statsmodels/base/model.py:604: ConvergenceWarning: Maximum Likelihood optimization failed to converge. Check mle_retvals\n",
      "  warnings.warn(\"Maximum Likelihood optimization failed to \"\n",
      "/var/folders/12/d54y_pk95zdbftjg_qkcj_c80000gq/T/ipykernel_36592/2603471559.py:61: UserWarning: \n",
      "\n",
      "`distplot` is a deprecated function and will be removed in seaborn v0.14.0.\n",
      "\n",
      "Please adapt your code to use either `displot` (a figure-level function with\n",
      "similar flexibility) or `histplot` (an axes-level function for histograms).\n",
      "\n",
      "For a guide to updating your code to use the new functions, please see\n",
      "https://gist.github.com/mwaskom/de44147ed2974457ad6372750bbe5751\n",
      "\n",
      "  ax=sns.distplot(x_mean, kde=True,norm_hist=True,label='Real Values')\n"
     ]
    },
    {
     "name": "stdout",
     "output_type": "stream",
     "text": [
      "Warning: Desired error not necessarily achieved due to precision loss.\n",
      "         Current function value: nan\n",
      "         Iterations: 1\n",
      "         Function evaluations: 107\n",
      "         Gradient evaluations: 107\n",
      "Optimization terminated successfully.\n",
      "         Current function value: 0.149431\n",
      "         Iterations: 16\n",
      "         Function evaluations: 17\n",
      "         Gradient evaluations: 17\n",
      "                     ZeroInflatedPoisson Regression Results                    \n",
      "===============================================================================\n",
      "Dep. Variable:                       y   No. Observations:                 8007\n",
      "Model:             ZeroInflatedPoisson   Df Residuals:                     8006\n",
      "Method:                            MLE   Df Model:                            0\n",
      "Date:                 Sun, 23 Apr 2023   Pseudo R-squ.:              -5.933e-05\n",
      "Time:                         11:37:59   Log-Likelihood:                -1196.5\n",
      "converged:                        True   LL-Null:                       -1196.4\n",
      "Covariance Type:             nonrobust   LLR p-value:                       nan\n",
      "=================================================================================\n",
      "                    coef    std err          z      P>|z|      [0.025      0.975]\n",
      "---------------------------------------------------------------------------------\n",
      "inflate_const   -11.6333      3.753     -3.099      0.002     -18.990      -4.277\n",
      "const            -3.1966      0.055    -57.849      0.000      -3.305      -3.088\n",
      "=================================================================================\n",
      "[-11.6333425   -3.19657527]\n",
      "[ 0.  1.  2.  3.  4.  5.  6.  7.  8.  9. 10. 11. 12. 13. 14. 15. 16. 17.\n",
      " 18. 19. 20. 21. 22. 23. 24. 25. 26. 27. 28. 29. 30. 31. 32. 33. 34. 35.\n",
      " 36. 37. 38. 39. 40.]\n",
      "[9.99991135e-01 4.09016803e-02 1.67296228e-03 6.84275751e-05\n",
      " 2.79882761e-06 1.14477767e-07 4.68237455e-09 1.91518685e-10\n",
      " 7.83350546e-12 3.20406377e-13 1.31052754e-14 5.36032535e-16\n",
      " 2.19248258e-17 8.96770165e-19 3.66797318e-20 1.50027596e-21\n",
      " 6.13643518e-23 2.50992735e-24 1.02661156e-25 4.19905102e-27\n",
      " 1.71749765e-28 7.02491626e-30 2.87333426e-31 1.17525241e-32\n",
      " 4.80702247e-34 1.96617039e-35 8.04203858e-37 3.28935807e-38\n",
      " 1.34541465e-39 5.50302078e-41 2.25084792e-42 9.20642782e-44\n",
      " 3.76561706e-45 1.54021431e-46 6.29979116e-48 2.57674328e-49\n",
      " 1.05394064e-50 4.31083255e-52 1.76321858e-53 7.21192420e-55\n",
      " 2.94982433e-56]\n",
      "[0.04104612 0.03758371 0.02982626 ... 0.041188   0.0502728  0.04134684]\n"
     ]
    },
    {
     "name": "stderr",
     "output_type": "stream",
     "text": [
      "/Users/meiqiliu/miniforge3/envs/fa_base2/lib/python3.8/site-packages/statsmodels/discrete/discrete_model.py:3122: RuntimeWarning: invalid value encountered in log\n",
      "  a1 * np.log(a1) + y * np.log(mu) -\n",
      "/Users/meiqiliu/miniforge3/envs/fa_base2/lib/python3.8/site-packages/statsmodels/discrete/discrete_model.py:3123: RuntimeWarning: invalid value encountered in log\n",
      "  (y + a1) * np.log(a2))\n",
      "/Users/meiqiliu/miniforge3/envs/fa_base2/lib/python3.8/site-packages/statsmodels/discrete/discrete_model.py:3122: RuntimeWarning: invalid value encountered in log\n",
      "  a1 * np.log(a1) + y * np.log(mu) -\n",
      "/Users/meiqiliu/miniforge3/envs/fa_base2/lib/python3.8/site-packages/statsmodels/discrete/discrete_model.py:3123: RuntimeWarning: invalid value encountered in log\n",
      "  (y + a1) * np.log(a2))\n",
      "/Users/meiqiliu/miniforge3/envs/fa_base2/lib/python3.8/site-packages/statsmodels/discrete/discrete_model.py:3159: RuntimeWarning: invalid value encountered in log\n",
      "  dgterm = dgpart + np.log(a1 / a2) + 1 - a3 / a2\n",
      "/Users/meiqiliu/miniforge3/envs/fa_base2/lib/python3.8/site-packages/statsmodels/discrete/discrete_model.py:1819: RuntimeWarning: overflow encountered in exp\n",
      "  return 1/(1+np.exp(-X))\n",
      "/Users/meiqiliu/miniforge3/envs/fa_base2/lib/python3.8/site-packages/statsmodels/discrete/discrete_model.py:3122: RuntimeWarning: divide by zero encountered in log\n",
      "  a1 * np.log(a1) + y * np.log(mu) -\n",
      "/Users/meiqiliu/miniforge3/envs/fa_base2/lib/python3.8/site-packages/statsmodels/discrete/discrete_model.py:3156: RuntimeWarning: invalid value encountered in divide\n",
      "  a4 = p * a1 / mu\n",
      "/Users/meiqiliu/miniforge3/envs/fa_base2/lib/python3.8/site-packages/statsmodels/discrete/discrete_model.py:3164: RuntimeWarning: divide by zero encountered in divide\n",
      "  y / mu)\n",
      "/Users/meiqiliu/miniforge3/envs/fa_base2/lib/python3.8/site-packages/statsmodels/discrete/discrete_model.py:3122: RuntimeWarning: invalid value encountered in log\n",
      "  a1 * np.log(a1) + y * np.log(mu) -\n",
      "/Users/meiqiliu/miniforge3/envs/fa_base2/lib/python3.8/site-packages/statsmodels/discrete/discrete_model.py:3123: RuntimeWarning: invalid value encountered in log\n",
      "  (y + a1) * np.log(a2))\n",
      "/Users/meiqiliu/miniforge3/envs/fa_base2/lib/python3.8/site-packages/statsmodels/discrete/discrete_model.py:3122: RuntimeWarning: invalid value encountered in log\n",
      "  a1 * np.log(a1) + y * np.log(mu) -\n",
      "/Users/meiqiliu/miniforge3/envs/fa_base2/lib/python3.8/site-packages/statsmodels/discrete/discrete_model.py:3123: RuntimeWarning: invalid value encountered in log\n",
      "  (y + a1) * np.log(a2))\n",
      "/Users/meiqiliu/miniforge3/envs/fa_base2/lib/python3.8/site-packages/statsmodels/base/model.py:592: HessianInversionWarning: Inverting hessian failed, no bse or cov_params available\n",
      "  warnings.warn('Inverting hessian failed, no bse or cov_params '\n",
      "/Users/meiqiliu/miniforge3/envs/fa_base2/lib/python3.8/site-packages/statsmodels/base/model.py:604: ConvergenceWarning: Maximum Likelihood optimization failed to converge. Check mle_retvals\n",
      "  warnings.warn(\"Maximum Likelihood optimization failed to \"\n",
      "/var/folders/12/d54y_pk95zdbftjg_qkcj_c80000gq/T/ipykernel_36592/2603471559.py:61: UserWarning: \n",
      "\n",
      "`distplot` is a deprecated function and will be removed in seaborn v0.14.0.\n",
      "\n",
      "Please adapt your code to use either `displot` (a figure-level function with\n",
      "similar flexibility) or `histplot` (an axes-level function for histograms).\n",
      "\n",
      "For a guide to updating your code to use the new functions, please see\n",
      "https://gist.github.com/mwaskom/de44147ed2974457ad6372750bbe5751\n",
      "\n",
      "  ax=sns.distplot(x_mean, kde=True,norm_hist=True,label='Real Values')\n"
     ]
    },
    {
     "name": "stdout",
     "output_type": "stream",
     "text": [
      "Warning: Desired error not necessarily achieved due to precision loss.\n",
      "         Current function value: nan\n",
      "         Iterations: 1\n",
      "         Function evaluations: 107\n",
      "         Gradient evaluations: 107\n",
      "Optimization terminated successfully.\n",
      "         Current function value: 0.149431\n",
      "         Iterations: 16\n",
      "         Function evaluations: 17\n",
      "         Gradient evaluations: 17\n",
      "                     ZeroInflatedPoisson Regression Results                    \n",
      "===============================================================================\n",
      "Dep. Variable:                       y   No. Observations:                 8007\n",
      "Model:             ZeroInflatedPoisson   Df Residuals:                     8006\n",
      "Method:                            MLE   Df Model:                            0\n",
      "Date:                 Sun, 23 Apr 2023   Pseudo R-squ.:              -5.933e-05\n",
      "Time:                         11:38:00   Log-Likelihood:                -1196.5\n",
      "converged:                        True   LL-Null:                       -1196.4\n",
      "Covariance Type:             nonrobust   LLR p-value:                       nan\n",
      "=================================================================================\n",
      "                    coef    std err          z      P>|z|      [0.025      0.975]\n",
      "---------------------------------------------------------------------------------\n",
      "inflate_const   -11.6333      3.753     -3.099      0.002     -18.990      -4.277\n",
      "const            -3.1966      0.055    -57.849      0.000      -3.305      -3.088\n",
      "=================================================================================\n",
      "[-11.6333425   -3.19657527]\n",
      "[ 0.  1.  2.  3.  4.  5.  6.  7.  8.  9. 10. 11. 12. 13. 14. 15. 16. 17.\n",
      " 18. 19. 20. 21. 22. 23. 24. 25. 26. 27. 28. 29. 30. 31. 32. 33. 34. 35.\n",
      " 36. 37. 38. 39. 40.]\n",
      "[9.99991135e-01 4.09016803e-02 1.67296228e-03 6.84275751e-05\n",
      " 2.79882761e-06 1.14477767e-07 4.68237455e-09 1.91518685e-10\n",
      " 7.83350546e-12 3.20406377e-13 1.31052754e-14 5.36032535e-16\n",
      " 2.19248258e-17 8.96770165e-19 3.66797318e-20 1.50027596e-21\n",
      " 6.13643518e-23 2.50992735e-24 1.02661156e-25 4.19905102e-27\n",
      " 1.71749765e-28 7.02491626e-30 2.87333426e-31 1.17525241e-32\n",
      " 4.80702247e-34 1.96617039e-35 8.04203858e-37 3.28935807e-38\n",
      " 1.34541465e-39 5.50302078e-41 2.25084792e-42 9.20642782e-44\n",
      " 3.76561706e-45 1.54021431e-46 6.29979116e-48 2.57674328e-49\n",
      " 1.05394064e-50 4.31083255e-52 1.76321858e-53 7.21192420e-55\n",
      " 2.94982433e-56]\n"
     ]
    },
    {
     "data": {
      "image/png": "[encoded data removed]",
      "text/plain": [
       "<Figure size 640x480 with 1 Axes>"
      ]
     },
     "metadata": {},
     "output_type": "display_data"
    }
   ],
   "source": [
    "import statsmodels.api as sm\n",
    "import scipy.stats as stats\n",
    "import matplotlib.pyplot as plt,seaborn as sns \n",
    "from statsmodels.discrete.count_model import (ZeroInflatedNegativeBinomialP, ZeroInflatedPoisson,\n",
    "                                              ZeroInflatedGeneralizedPoisson)\n",
    "\n",
    "from scipy.optimize import minimize\n",
    "\n",
    "\n",
    "def zero_inflated(adata, conditions):\n",
    "\n",
    "    x,y=data_prep(adata,conditions)\n",
    "    x,y=dist_based(x,y)\n",
    "    \n",
    "#     model = sm.ZeroInflatedNegativeBinomialP(y, x).fit()\n",
    "#     print(model.summary())\n",
    "  \n",
    "#     mu=dict.fromkeys(range(x.shape[1]))\n",
    "#     p=dict.fromkeys(range(x.shape[1]))\n",
    "#     n=dict.fromkeys(range(x.shape[1]))\n",
    "    \n",
    "    x_mean=np.mean(x,axis=0)\n",
    "    print(x_mean)\n",
    "    one=np.ones_like(x_mean)\n",
    "    model_x = ZeroInflatedNegativeBinomialP(x_mean,one).fit()\n",
    "    #somehow it fails to converge \n",
    "    model = sm.ZeroInflatedPoisson(x_mean,one).fit()\n",
    "    print(model.summary())\n",
    "    print(model.params)\n",
    "\n",
    "#     alpha = result.params[0]\n",
    "#     beta = result.params[1]\n",
    "#     p_zero = result.params[2]\n",
    "#     x2 = np.arange(0, max(x[0])+1)\n",
    "#     pmf = p_zero + (1 - p_zero) * np.exp(-beta) * (beta / (beta + x2 - alpha)) ** alpha\n",
    "#     plt.hist(x[0], bins=20, density=True, alpha=0.5)\n",
    "\n",
    "    # Plot the fitted PMF\n",
    "#     plt.plot(x, pmf, 'r-', lw=2)\n",
    "\n",
    "#     print(model_x.params)\n",
    "#     print(model_x.summary())\n",
    "    mu=np.exp(model_x.params[0])\n",
    "    p=1/(1+np.exp(model_x.params[0]))*model_x.params[1]\n",
    "    n=np.exp(model_x.params[0])*p/(1-p)\n",
    "   \n",
    "        \n",
    "#         one=np.ones_like(x[i])\n",
    "#         model_x = sm.NegativeBinomialP(x[i], one).fit(start_params=[1,1])\n",
    "#         mu[i]=np.exp(model_x.params[0])\n",
    "#         p[i]=1/(1+np.exp(model_x.params[0]))*model_x.params[1]\n",
    "#         n[i]=np.exp(model_x.params[0])*p[i]/(1-p[i])\n",
    "        \n",
    "       \n",
    "         #d[i]=stats.wasserstein_distance(x[i],y[i])\n",
    " \n",
    "    \n",
    "    x_plot=np.linspace(0,40,41)\n",
    "    print(x_plot)\n",
    "    sns.set_theme()\n",
    "    ax=sns.distplot(x_mean, kde=True,norm_hist=True,label='Real Values')\n",
    "   \n",
    "    poisson_prob=model.predict(x_plot)\n",
    "    print(poisson_prob)\n",
    "   \n",
    "    plt.bar(x_plot,poisson_prob)\n",
    "#     leg=ax.legend()\n",
    "#     plt.title('zinb')\n",
    "    \n",
    "\n",
    "\n",
    "    return None\n",
    "\n",
    "conditions = {\"x\": \"stimulated\", \"y\": \"control\"}\n",
    "zero_inflated(train,conditions)\n",
    "\n",
    "conditions = {\"x\": \"control\", \"y\": \"control\"}\n",
    "zero_inflated(train,conditions)\n"
   ]
  },
  {
   "cell_type": "code",
   "execution_count": 180,
   "metadata": {},
   "outputs": [
    {
     "name": "stdout",
     "output_type": "stream",
     "text": [
      "[0.04436422 0.03696609 0.03530401 ... 0.03600325 0.04579671 0.0343313 ]\n",
      "Optimization terminated successfully.\n",
      "         Current function value: 0.149431\n",
      "         Iterations: 16\n",
      "         Function evaluations: 17\n",
      "         Gradient evaluations: 17\n",
      "Optimization terminated successfully.\n",
      "         Current function value: 0.153529\n",
      "         Iterations: 16\n",
      "         Function evaluations: 17\n",
      "         Gradient evaluations: 17\n",
      "                     ZeroInflatedPoisson Regression Results                    \n",
      "===============================================================================\n",
      "Dep. Variable:                       y   No. Observations:                 8007\n",
      "Model:             ZeroInflatedPoisson   Df Residuals:                     8006\n",
      "Method:                            MLE   Df Model:                            0\n",
      "Date:                 Sun, 23 Apr 2023   Pseudo R-squ.:              -5.933e-05\n",
      "Time:                         12:04:23   Log-Likelihood:                -1196.5\n",
      "converged:                        True   LL-Null:                       -1196.4\n",
      "Covariance Type:             nonrobust   LLR p-value:                       nan\n",
      "=================================================================================\n",
      "                    coef    std err          z      P>|z|      [0.025      0.975]\n",
      "---------------------------------------------------------------------------------\n",
      "inflate_const   -11.6333      3.753     -3.099      0.002     -18.990      -4.277\n",
      "const            -3.1966      0.055    -57.849      0.000      -3.305      -3.088\n",
      "=================================================================================\n",
      "[-11.6333425   -3.19657527]\n",
      "prob 2: [9.99991135e-01 4.24416124e-02 1.80130643e-03 7.64510272e-05\n",
      " 3.24473363e-06 1.37712948e-07 5.84481137e-09 2.48065418e-10\n",
      " 1.05283897e-11 4.46845795e-13 1.89650241e-14 8.04913340e-16\n",
      " 3.41621228e-17 1.44990843e-18 6.15369972e-20 2.61175254e-21\n",
      " 1.10847972e-22 4.70460835e-24 1.99672934e-25 8.47451641e-27\n",
      " 3.59675330e-28 1.52653363e-29 6.47891228e-31 2.74977922e-32\n",
      " 1.16706098e-33 4.95323890e-35 2.10225309e-36 8.92238020e-38\n",
      " 3.78683559e-39 1.60720833e-40 6.82131178e-42 2.89510037e-43\n",
      " 1.22873817e-44 5.21500916e-46 2.21335360e-47 9.39391282e-49\n",
      " 3.98696341e-50 1.69214656e-51 7.18180651e-53 3.04810151e-54\n",
      " 1.29367490e-55]\n"
     ]
    },
    {
     "data": {
      "image/png": "[encoded data removed]",
      "text/plain": [
       "<Figure size 640x480 with 2 Axes>"
      ]
     },
     "metadata": {},
     "output_type": "display_data"
    },
    {
     "name": "stdout",
     "output_type": "stream",
     "text": [
      "[0.032661   0.03655321 0.04570526 ... 0.04948017 0.04546137 0.03447973]\n",
      "Optimization terminated successfully.\n",
      "         Current function value: 0.149431\n",
      "         Iterations: 16\n",
      "         Function evaluations: 17\n",
      "         Gradient evaluations: 17\n",
      "Optimization terminated successfully.\n",
      "         Current function value: 0.149431\n",
      "         Iterations: 16\n",
      "         Function evaluations: 17\n",
      "         Gradient evaluations: 17\n",
      "                     ZeroInflatedPoisson Regression Results                    \n",
      "===============================================================================\n",
      "Dep. Variable:                       y   No. Observations:                 8007\n",
      "Model:             ZeroInflatedPoisson   Df Residuals:                     8006\n",
      "Method:                            MLE   Df Model:                            0\n",
      "Date:                 Sun, 23 Apr 2023   Pseudo R-squ.:              -5.933e-05\n",
      "Time:                         12:04:23   Log-Likelihood:                -1196.5\n",
      "converged:                        True   LL-Null:                       -1196.4\n",
      "Covariance Type:             nonrobust   LLR p-value:                       nan\n",
      "=================================================================================\n",
      "                    coef    std err          z      P>|z|      [0.025      0.975]\n",
      "---------------------------------------------------------------------------------\n",
      "inflate_const   -11.6333      3.753     -3.099      0.002     -18.990      -4.277\n",
      "const            -3.1966      0.055    -57.849      0.000      -3.305      -3.088\n",
      "=================================================================================\n",
      "[-11.6333425   -3.19657527]\n",
      "prob 2: [9.99991135e-01 4.09016803e-02 1.67296228e-03 6.84275751e-05\n",
      " 2.79882761e-06 1.14477767e-07 4.68237455e-09 1.91518685e-10\n",
      " 7.83350546e-12 3.20406377e-13 1.31052754e-14 5.36032535e-16\n",
      " 2.19248258e-17 8.96770165e-19 3.66797318e-20 1.50027596e-21\n",
      " 6.13643518e-23 2.50992735e-24 1.02661156e-25 4.19905102e-27\n",
      " 1.71749765e-28 7.02491626e-30 2.87333426e-31 1.17525241e-32\n",
      " 4.80702247e-34 1.96617039e-35 8.04203858e-37 3.28935807e-38\n",
      " 1.34541465e-39 5.50302078e-41 2.25084792e-42 9.20642782e-44\n",
      " 3.76561706e-45 1.54021431e-46 6.29979116e-48 2.57674328e-49\n",
      " 1.05394064e-50 4.31083255e-52 1.76321858e-53 7.21192420e-55\n",
      " 2.94982433e-56]\n"
     ]
    },
    {
     "data": {
      "image/png": "[encoded data removed]",
      "text/plain": [
       "<Figure size 640x480 with 2 Axes>"
      ]
     },
     "metadata": {},
     "output_type": "display_data"
    }
   ],
   "source": [
    "import statsmodels.api as sm\n",
    "import scipy.stats as stats\n",
    "import matplotlib.pyplot as plt,seaborn as sns \n",
    "from statsmodels.discrete.count_model import (ZeroInflatedNegativeBinomialP, ZeroInflatedPoisson,\n",
    "                                              ZeroInflatedGeneralizedPoisson)\n",
    "\n",
    "\n",
    "def zero_inflated(adata, conditions):\n",
    "\n",
    "    x,y=data_prep(adata,conditions)\n",
    "    x,y=dist_based(x,y)\n",
    "    \n",
    "#     model = sm.ZeroInflatedNegativeBinomialP(y, x).fit()\n",
    "#     print(model.summary())\n",
    "  \n",
    "#     mu=dict.fromkeys(range(x.shape[1]))\n",
    "#     p=dict.fromkeys(range(x.shape[1]))\n",
    "#     n=dict.fromkeys(range(x.shape[1]))\n",
    "    \n",
    "    x_mean=np.mean(x,axis=0)\n",
    "    y_mean=np.mean(y,axis=0)\n",
    "    print(x_mean)\n",
    "    one=np.ones_like(x_mean)\n",
    "#     model_x = ZeroInflatedNegativeBinomialP(x_mean,one).fit()\n",
    "    #somehow it fails to converge \n",
    "    model = sm.ZeroInflatedPoisson(x_mean,one).fit()\n",
    "    model2 = sm.ZeroInflatedPoisson(y_mean,one).fit()\n",
    "    print(model.summary())\n",
    "    print(model.params)\n",
    "\n",
    "    \n",
    "    x_plot=np.linspace(0,40,41)\n",
    "    k_val = [i for i in range(0, 41)]\n",
    "    \n",
    "#     print(x_plot)\n",
    "#     sns.set_theme()\n",
    "#     ax=sns.distplot(x_mean, kde=True,norm_hist=True,label='Real Values')\n",
    "   \n",
    "    poisson_prob=model.predict(x_plot)\n",
    "    poisson_prob2=model2.predict(x_plot)\n",
    "    print(\"prob 2:\",poisson_prob2)\n",
    "    #print(poisson_prob)\n",
    "    fig, (ax1, ax2) = plt.subplots(2, 1)\n",
    "    ax1.bar(k_val, poisson_prob,label=\"data x\")\n",
    "    ax2.bar(k_val, poisson_prob2,label=\"data y\")\n",
    "    fig.subplots_adjust(hspace=0.4)\n",
    "\n",
    "    plt.show()\n",
    "#     plt.plot(k_val, poisson_prob2)\n",
    " \n",
    "\n",
    "\n",
    "    \n",
    "\n",
    "\n",
    "    return None\n",
    "\n",
    "conditions = {\"x\": \"stimulated\", \"y\": \"control\"}\n",
    "zero_inflated(train,conditions)\n",
    "\n",
    "conditions = {\"x\": \"control\", \"y\": \"control\"}\n",
    "zero_inflated(train,conditions)\n"
   ]
  },
  {
   "cell_type": "code",
   "execution_count": null,
   "metadata": {},
   "outputs": [],
   "source": [
    "def sample_obs(adata,size_n):\n",
    "    \"\"\"\n",
    "    params \n",
    "    -------------\n",
    "    adata\n",
    "    size_n:the number of rows we will consider in comparison\n",
    "    output x,y in sparse matrix form\n",
    "    which is sample1 and sample2 drawn from two specified codition\n",
    "    \"\"\"\n",
    "\n",
    "    x = adata.X\n",
    "    #print(x.shape)(16893, 6998)\n",
    "    n_rows=x.shape[0]\n",
    "    \n",
    "    df = pd.DataFrame({'x':np.arange(n_rows)})\n",
    "    #shuffle the data index\n",
    "    x_sample1=df['x'].sample(frac=1, replace=False).values[:size_n]\n",
    "    x_sample2=df['x'].sample(frac=1, replace=False).values[:size_n]\n",
    "    \n",
    "    return x[x_sample1,:], x[x_sample2,:]\n",
    "\n"
   ]
  },
  {
   "cell_type": "code",
   "execution_count": 195,
   "metadata": {},
   "outputs": [
    {
     "name": "stdout",
     "output_type": "stream",
     "text": [
      "statistic computed with mean of sample 1 and 2: 0.26898623\n",
      "statistic computed with mean of sample 1 and 2: 0.29347026\n",
      "statistic computed with mean of sample 1 and 2: 0.2624903\n",
      "0.26898623 0.29347026 0.2624903\n"
     ]
    },
    {
     "data": {
      "text/plain": [
       "(<5631x6998 sparse matrix of type '<class 'numpy.float32'>'\n",
       " \twith 1843747 stored elements in Compressed Sparse Row format>,\n",
       " <5631x6998 sparse matrix of type '<class 'numpy.float32'>'\n",
       " \twith 1847106 stored elements in Compressed Sparse Row format>)"
      ]
     },
     "execution_count": 195,
     "metadata": {},
     "output_type": "execute_result"
    }
   ],
   "source": [
    "import random\n",
    "\n",
    "def subset(alist, idxs):\n",
    "    '''\n",
    "        use idxs to subset alist\n",
    "        alist: list\n",
    "        idxs: list\n",
    "    '''\n",
    "    sub_list = []\n",
    "    for idx in idxs:\n",
    "        sub_list.append(alist[idx])\n",
    "\n",
    "    return sub_list\n",
    "\n",
    "def split_list(alist, group_num=3, shuffle=True, retain_left=False):\n",
    "    '''\n",
    "        split data into 3 subset and let each subset contains the len(alist)//group number of elements\n",
    "        shuffle: whether shuffle the splitted data, default: True\n",
    "        retain_left: if list alist is splited into the number of group_num subset and there is some element remain，\n",
    "        whether take the remaining elements as a subset\n",
    "    '''\n",
    "\n",
    "    index = list(range(len(alist))) \n",
    "\n",
    "    \n",
    "    if shuffle: \n",
    "        random.shuffle(index) \n",
    "    \n",
    "    elem_num = len(alist) // group_num \n",
    "    sub_lists = {}\n",
    "    \n",
    "   \n",
    "    for idx in range(group_num):\n",
    "        start, end = idx*elem_num, (idx+1)*elem_num\n",
    "        sub_lists[str(idx)] = subset(alist, index[start:end])\n",
    "    \n",
    "  \n",
    "    if retain_left and group_num * elem_num != len(index): \n",
    "        sub_lists[str(idx+1)] = subset(alist, index[end:])\n",
    "    \n",
    "    return sub_lists\n",
    "\n",
    "\n",
    "\n",
    "def sample_control_control(adata,size_n):\n",
    "    \"\"\"\n",
    "    the sampling for ctrl and ctrl\n",
    "    split the data into three samples\n",
    "    shuffle the three samples\n",
    "    return two data set have maximum between-sample distance\n",
    "    \n",
    "    \"\"\"\n",
    "    x = adata.X\n",
    "    n_rows=x.shape[0]\n",
    "    index_dict=split_list(range(n_rows))# in form {0: [1,2,3],1:[3,44,2...],3:[]}\n",
    "    sample1=x[index_dict['0'],:size_n]\n",
    "    sample2=x[index_dict['1'],:size_n]\n",
    "    sample3=x[index_dict['2'],:size_n]\n",
    "    \n",
    "    fn=lambda x,y: np.linalg.norm(x-y)#euclidean distance\n",
    "    d12=compute_from_mean(sample1,sample2,fn,True)\n",
    "    d13=compute_from_mean(sample1,sample3,fn,True)\n",
    "    d23=compute_from_mean(sample2,sample3,fn,True)\n",
    "    print(d12,d13,d23)\n",
    "    distance=max(d12,d13,d23)\n",
    "    if d12==distance:\n",
    "        return sample1,sample2\n",
    "    elif d13==distance:\n",
    "        return sample1,sample3\n",
    "    elif d23==distance:\n",
    "        return sample2,sample3\n",
    "    \n",
    "sample_control_control(train,train.shape[0])\n",
    "\n"
   ]
  },
  {
   "cell_type": "code",
   "execution_count": null,
   "metadata": {},
   "outputs": [],
   "source": []
  }
 ],
 "metadata": {
  "kernelspec": {
   "display_name": "fa_base2",
   "language": "python",
   "name": "fa_base2"
  },
  "language_info": {
   "codemirror_mode": {
    "name": "ipython",
    "version": 3
   },
   "file_extension": ".py",
   "mimetype": "text/x-python",
   "name": "python",
   "nbconvert_exporter": "python",
   "pygments_lexer": "ipython3",
   "version": "3.8.16"
  }
 },
 "nbformat": 4,
 "nbformat_minor": 1
}
